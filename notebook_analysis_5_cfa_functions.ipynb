{
 "cells": [
  {
   "cell_type": "code",
   "execution_count": 9,
   "id": "2991a67e-7972-42c4-be49-bbe73a9431af",
   "metadata": {},
   "outputs": [],
   "source": [
    "import pandas as pd\n",
    "pd.set_option('max_colwidth', 100)\n",
    "import numpy as np\n",
    "import matplotlib.pyplot as plt\n",
    "from sklearn import svm, datasets\n",
    "from sklearn.model_selection import train_test_split\n",
    "from sklearn.preprocessing import label_binarize\n",
    "from sklearn.multiclass import OneVsRestClassifier\n",
    "from sklearn.metrics import confusion_matrix\n",
    "import itertools\n",
    "import scipy.stats as st\n",
    "import pandas as pd\n",
    "import numpy as np\n",
    "from scipy import stats\n",
    "from sklearn.feature_selection import mutual_info_classif\n",
    "import seaborn as sns\n",
    "from matplotlib import pyplot as plt\n",
    "%matplotlib inline\n",
    "pd.set_option('display.max_rows', 100)\n",
    "pd.set_option('display.max_columns', 500)\n",
    "import rpy2\n",
    "#import pingouin as pg\n",
    "from itertools import combinations\n",
    "\n",
    "import rpy2.robjects as ro\n",
    "from rpy2.robjects.packages import importr\n",
    "from rpy2.robjects import pandas2ri\n",
    "import rpy2.ipython.html\n",
    "rpy2.ipython.html.init_printing()\n",
    "from rpy2.rinterface_lib.embedded import RRuntimeError\n",
    "\n",
    "# import R's \"utils\" package\n",
    "utils = importr('utils')\n",
    "lavaan = importr('lavaan')\n",
    "semtools = importr('semTools')\n",
    "stringr = importr('stringr')\n",
    "reticulate = importr('reticulate')"
   ]
  },
  {
   "cell_type": "code",
   "execution_count": 10,
   "id": "34a723c3-73c4-438e-bf1f-7f0e41601f78",
   "metadata": {},
   "outputs": [],
   "source": [
    "# importing stuff the right way\n",
    "try:\n",
    "    semTools_version = '.'.join([str(ii) for ii in list(ro.r('packageVersion(\"semTools\")')[0])])\n",
    "except RRuntimeError:\n",
    "    semTools_version = ''\n",
    "# There's a bug in the main semtools libarary, this install from my fork of semtools where I've fixed it.\n",
    "if semTools_version != '0.5.6.933':\n",
    "    ro.r(\"\"\"\n",
    "        library(devtools)\n",
    "        install_github(\"shotgunosine/semTools/semTools@aa68e38f88d9dd881617d5ade429bde2b2a74e08\")\n",
    "        \"\"\"\n",
    "    )"
   ]
  },
  {
   "cell_type": "code",
   "execution_count": 65,
   "id": "f6cec497-5084-4d1b-9879-4c042ee4541b",
   "metadata": {},
   "outputs": [],
   "source": [
    "def make_hitop_list(data):\n",
    "    # only hitop cols\n",
    "    hitop_cols = []\n",
    "    for c in data.columns:\n",
    "        if 'hitop' in c and 'today' not in c:\n",
    "            hitop_cols.append(c)   \n",
    "    return(hitop_cols)\n",
    "\n",
    "def make_recontact_list(data):\n",
    "    list_recontact = []\n",
    "    for c in data.columns:\n",
    "        if 'recontact' in c:\n",
    "            list_recontact.append(c)\n",
    "    return(list_recontact)\n",
    "\n",
    "def do_checks(dat, remove_checks):\n",
    "    assert remove_checks in ['no', 'yes', 'grid']\n",
    "    dat['passed_checks'] = True\n",
    "    dat['passed_grid'] = True\n",
    "    dat['passed_list'] = True\n",
    "    dat.loc[dat.check_moderately != 3, 'passed_checks'] = False\n",
    "    dat.loc[dat.check_notatall != 1, 'passed_checks'] = False\n",
    "    dat.loc[dat.check_moderately != 3, 'passed_grid'] = False\n",
    "    dat.loc[dat.check_notatall != 1, 'passed_grid'] = False\n",
    "    dat.loc[dat.todaycheck_1 != 1, 'passed_checks'] = False\n",
    "    dat.loc[dat.todaycheck_2 != 1, 'passed_checks'] = False\n",
    "    dat.loc[dat.todaycheck_1 != 1, 'passed_list'] = False\n",
    "    dat.loc[dat.todaycheck_2 != 1, 'passed_list'] = False\n",
    "    # deal with attention checks - recontact\n",
    "    dat['passed_checks_recontact'] = True\n",
    "    dat['passed_grid_recontact'] = True\n",
    "    dat['passed_list_recontact'] = True\n",
    "    dat.loc[dat.check_moderately_recontact != 3, 'passed_checks_recontact'] = False\n",
    "    dat.loc[dat.check_notatall_recontact != 1, 'passed_checks_recontact'] = False\n",
    "    dat.loc[dat.check_moderately_recontact != 3, 'passed_grid_recontact'] = False\n",
    "    dat.loc[dat.check_notatall_recontact != 1, 'passed_grid_recontact'] = False\n",
    "    dat.loc[dat.todaycheck_1_recontact != 1, 'passed_checks_recontact'] = False\n",
    "    dat.loc[dat.todaycheck_2_recontact != 1, 'passed_checks_recontact'] = False\n",
    "    dat.loc[dat.todaycheck_1_recontact != 1, 'passed_list_recontact'] = False\n",
    "    dat.loc[dat.todaycheck_2_recontact != 1, 'passed_list_recontact'] = False\n",
    "    print('checks_initial:')\n",
    "    print(1 - dat.loc[:, ['passed_checks', 'passed_grid', 'passed_list']].mean())\n",
    "    how_many_passed_checks = dat['passed_checks'].value_counts()[True]\n",
    "    how_many_overall = dat.shape[0]\n",
    "    print('Passed checks: %d out of %d' % (how_many_passed_checks, how_many_overall))\n",
    "    print('checks_recontact:')\n",
    "    print(1 - dat.loc[:, ['passed_checks_recontact', 'passed_grid_recontact', 'passed_list_recontact']].mean()) \n",
    "    how_many_passed_checks_recontact = dat['passed_checks_recontact'].value_counts()[True]\n",
    "    print('Passed checks: %d out of %d' % (how_many_passed_checks_recontact, how_many_overall))\n",
    "    if remove_checks == 'yes':\n",
    "        print('removing checks')\n",
    "        dat = dat.loc[dat['passed_checks'] == True]\n",
    "        dat = dat.loc[dat['passed_checks_recontact'] == True]\n",
    "        print(dat.shape)\n",
    "        print('done removing checks')\n",
    "    elif remove_checks == 'grid':\n",
    "        print('removing checks')\n",
    "        dat = dat.loc[dat['passed_grid'] == True]\n",
    "        dat = dat.loc[dat['passed_grid_recontact'] == True]\n",
    "        print(dat.shape)\n",
    "        print('done removing checks')        \n",
    "    return(dat)\n",
    "\n",
    "def load_item_lookup():\n",
    "    # this is a table that aligns scale items with their corresponding questions\n",
    "    htqs = pd.read_excel('../data/ValSample/Internalizing-Somatoform Items_DW.xlsx', skiprows=2,\n",
    "                                names=['id', 'scale', 'item', '_0', '_1', '_2', '_3']).drop(['_0', '_1', '_2', '_3'], axis=1)\n",
    "    # cmqs is a dataframe with items and responses\n",
    "    # htcm is the same dataframe, but only displaying HiTOP items\n",
    "    cmqs = pd.read_csv('../data/CFA/cogmood_questions.csv')\n",
    "    cmqs = cmqs.rename({'Unnamed: 0': 'id'}, axis=1)\n",
    "    htcm = cmqs.query(\"measure == 'HiTOP'\")\n",
    "    # this is a lookup table for subscales, items (sentence questions), and hitop ids\n",
    "    item_lookup = htcm.loc[:, ['id','subscale', 'item']].merge(htqs.loc[:, ['id','item']], how='inner', on='item', suffixes=['_cm', '_ht'])\n",
    "    item_lookup['htid'] = 'hitop'+ item_lookup.id_ht.astype(str)\n",
    "    return(item_lookup)\n",
    "    \n",
    "def load_valsample():\n",
    "    # VALIDATION SAMPLE - main dataframe with responses\n",
    "    dat_validation = pd.read_excel('../data/ValSample/inters23.xlsx')\n",
    "    '''resp_cols = responses.columns[responses.columns.isin(item_lookup.htid)]\n",
    "    # scale scores\n",
    "    scale_scores = []\n",
    "    for ss, df in item_lookup.groupby('subscale'):\n",
    "        tmp = responses.loc[:, df.htid].sum(1)\n",
    "        tmp.name = ss.replace(\" \", \"_\").replace(\"/\", \"_\").replace(\"-\", \"_\")\n",
    "        scale_scores.append(tmp)\n",
    "    scale_scores = pd.concat(scale_scores, axis=1)\n",
    "    scale_names = list(scale_scores.columns.values)'''\n",
    "    #do_checks(dat_validation)    \n",
    "    # this is the validation data to be used\n",
    "    hitop_cols_list = make_hitop_list(dat_validation)\n",
    "    data_validation = dat_validation[hitop_cols_list]\n",
    "    data_validation = data_validation.assign(whichdata=['validation']*data_validation.shape[0])\n",
    "    return(data_validation)\n",
    "\n",
    "def do_codesheet():\n",
    "    #loads the codesheet file\n",
    "    # wherever the emane column exists, creates a dict variablename:ename\n",
    "    code_book = pd.read_csv('../dylan_github/yougov_codesheet_alignment.tsv', sep='\\t')\n",
    "    ename_lut = {vn:en for vn, en in code_book.loc[code_book.ename.notnull(), ['var_name', 'ename']].values}\n",
    "    for vn, en in code_book.loc[code_book.ename.notnull(), ['var_name', 'ename']].values:\n",
    "        ename_lut[vn+'_recontact'] = en+'_recontact'\n",
    "    tmp = code_book.query('ename.notnull()')\n",
    "    scale_lut = {}\n",
    "    for ss, df in tmp.loc[tmp.ename.str.contains('hitop') & ~tmp.ename.str.contains('today')].groupby('subscale'):\n",
    "        scale_name = ss.replace(\" \", \"_\").replace(\"/\", \"_\").replace(\"-\", \"_\")\n",
    "        items = df.ename.values\n",
    "        scale_lut[scale_name] = items    \n",
    "     #   scale_name_initial = scale_name+'_initial'\n",
    "     #   scale_lut[scale_name_initial] = items \n",
    "        scale_name_recontact = scale_name+'_recontact'\n",
    "        items_recontact = []\n",
    "        for item in items:\n",
    "            items_recontact.append(item+'_recontact')\n",
    "        scale_lut[scale_name_recontact] = np.array(items_recontact, dtype=object)\n",
    "    # rename checks\n",
    "    ename_lut['FNM_Q8_5'] ='check_moderately'\n",
    "    ename_lut['FNM_Q22_3'] ='check_notatall'\n",
    "    ename_lut['FNM_Q42_m_10'] ='todaycheck_1'\n",
    "    ename_lut['FNM_44_m_28'] ='todaycheck_2'\n",
    "    ename_lut['FNM_Q8_5_recontact'] ='check_moderately_recontact'\n",
    "    ename_lut['FNM_Q22_3_recontact'] ='check_notatall_recontact'\n",
    "    ename_lut['FNM_Q42_m_10_recontact'] ='todaycheck_1_recontact'\n",
    "    ename_lut['FNM_44_m_28_recontact'] ='todaycheck_2_recontact'\n",
    "    return ename_lut, scale_lut\n",
    "    \n",
    "def load_data(dataname, doing_checks, doing_remove_checks):\n",
    "    print(doing_remove_checks)\n",
    "    assert(dataname in ['genpop','enriched'])\n",
    "    #codesheet file\n",
    "    ename_lut, scale_lut = do_codesheet()\n",
    "    # done working with the codesheet file, now opening the actual data\n",
    "    if dataname == 'genpop':\n",
    "        datapath = '../data/NIMH0007_genpop_num_OUTPUT.csv'\n",
    "    elif dataname == 'enriched':\n",
    "        datapath = '../data/NIMH0007_mental_health_num_OUTPUT.csv'\n",
    "    dat = pd.read_csv(datapath, dtype={'caseid':str}, engine='python')\n",
    "    #print(dat.head())\n",
    "    if dataname == 'genpop':\n",
    "        # ONLY GENPOP drop the .0 that pandas appends for some reason - only for genpop\n",
    "        dat['caseid'] = dat.caseid.str[:-2]\n",
    "    dat = dat.rename(ename_lut, axis=1)\n",
    "    if doing_checks:\n",
    "        dat = do_checks(dat = dat, remove_checks = doing_remove_checks) \n",
    "    hitop_cols_list = make_hitop_list(dat)\n",
    "    data = dat[hitop_cols_list]\n",
    "    data = data.assign(whichdata=[dataname]*data.shape[0])\n",
    "    recontact_cols_list = make_recontact_list(data)\n",
    "    data_norecontact = data.drop(columns=recontact_cols_list)\n",
    "    return data, data_norecontact   \n",
    "\n",
    "def prep_data_recontactanalysis(dataframe_withrecontact):\n",
    "    df = dataframe_withrecontact\n",
    "    df_helper = df.copy(deep=True)\n",
    "    df_rows = df.shape[0]\n",
    "    df = df.assign(whichvisit=['initialvisit']*df_rows)\n",
    "    df_helper = df_helper.assign(whichvisit=['recontactvisit']*df_rows)\n",
    "    # in df, drop all \"recontact\" columns\n",
    "    # in df_helper, drop all initial visit columns, then rename the recontact columns\n",
    "    cols_recontact = []\n",
    "    cols_original = []\n",
    "    for c in df.columns:\n",
    "        if \"recontact\" in c:\n",
    "            cols_recontact.append(c)\n",
    "            cols_original.append(c[:-10])  \n",
    "    df = df.drop(columns=cols_recontact)\n",
    "    df_helper = df_helper.drop(columns=cols_original)\n",
    "    cols_dict = {}\n",
    "    for cname in cols_recontact:\n",
    "        cols_dict[cname] = cname[:-10]\n",
    "    # rename cols in df_helper\n",
    "    df_helper.rename(columns=cols_dict, inplace=True)    \n",
    "    mydata_withrecontact = pd.concat([df, df_helper])\n",
    "    return(mydata_withrecontact)\n",
    "\n",
    "def print_summary(obj):\n",
    "    return rprint(summary(obj))\n",
    "\n",
    "def print_short_summary(invariance_output):\n",
    "    ro.r(\"myoutput <- capture.output(summary(invariance_output))\") \n",
    "    ro.r(\"stringid <- grep(\\\"chisq\\\", myoutput)\")\n",
    "    ro.r(\"print(myoutput[stringid-1])\")\n",
    "    ro.r(\"print(myoutput[stringid])\")\n",
    "    return (0)\n",
    "\n",
    "def print_problematic_items(invariance_output):\n",
    "    ro.r(\"myoutput <- capture.output(summary(invariance_output))\") \n",
    "    print('Problematic items:')\n",
    "    ro.r(\"stringidsig <- grep(\\\"may differ between Groups\\\", myoutput)\")\n",
    "    ro.r(\"print(myoutput[stringidsig])\")   \n",
    "    return (0)\n",
    "    \n",
    "def extract_p(invariance_output):\n",
    "    ro.globalenv['invariance_output'] = invariance_output\n",
    "    ro.r(\"myoutput <- capture.output(summary(invariance_output))\") \n",
    "    ro.r(\"stringid <- grep(\\\"chisq\\\", myoutput)\")\n",
    "    ro.r('myrline <- myoutput[stringid]')\n",
    "    mypline = ro.r('myrline')[0]\n",
    "    my_p = mypline.split()[-1]\n",
    "    return(my_p)\n",
    "\n",
    "def check_secondary_criteria(fit_config):\n",
    "    Criteria_passed = False\n",
    "    ro.r(\"myoutputconfig <- capture.output(summary(fit_config, fit.measures=TRUE))\")\n",
    "    ro.r(\"stringid_cfi <- grep(\\\"Robust.*CFI\\\", myoutputconfig)\")\n",
    "    ro.r(\"cfi_line <- myoutputconfig[stringid_cfi]\")\n",
    "    cfiline = ro.r('cfi_line')[0]    \n",
    "    my_cfi = cfiline.split()[-1] \n",
    "    my_cfi = float(my_cfi)\n",
    "    ro.r(\"stringid_tli <- grep(\\\"Robust.*TLI\\\", myoutputconfig)\")\n",
    "    ro.r(\"tli_line <- myoutputconfig[stringid_tli]\")\n",
    "    tliline = ro.r('tli_line')[0]    \n",
    "    my_tli = tliline.split()[-1] \n",
    "    my_tli = float(my_tli)\n",
    "    ro.r(\"stringid_rmsea <- grep(\\\"Robust.*RMSEA\\\", myoutputconfig)\")\n",
    "    ro.r(\"rmsea_line <- myoutputconfig[stringid_rmsea]\")\n",
    "    myrmsealine = ro.r('rmsea_line')[0]\n",
    "    my_rmsea = myrmsealine.split('\\n')[0].split()[-1]\n",
    "    my_rmsea = float(my_rmsea)   \n",
    "    if (my_cfi > 0.95) and (my_tli > 0.95) and (my_rmsea < 0.06):\n",
    "        Criteria_passed = True\n",
    "    return (Criteria_passed, my_cfi, my_tli, my_rmsea)\n",
    "    \n",
    "def do_cfa(mydata, whichcolumn):\n",
    "    assert(whichcolumn in ['valid_enriched', 'valid_genpop', 'enriched_withrecontact', 'genpop_withrecontact'])\n",
    "    num_iter = 1000\n",
    "    rprint = ro.r('print')\n",
    "    summary = ro.r('summary')\n",
    "    ro.r('set.seed(12345)')\n",
    "    rngkind = \"L'Ecuyer-CMRG\"\n",
    "    mdl_strs = {}\n",
    "    for ss, df in item_lookup.groupby('subscale'):\n",
    "        cln_ss = ss.replace(\" \", \"_\").replace(\"/\", \"_\").replace(\"-\", \"_\")\n",
    "        items = []\n",
    "        for itemn, item in enumerate(df.sort_values('id_ht').htid.values):\n",
    "            items.append(item)\n",
    "        mdl_strs[cln_ss] = f'{cln_ss} =~' + ' + '.join(items) \n",
    "    # measures we can't work with because too few degrees of freedom:\n",
    "    # - 'appetite_loss': 'appetite_loss =~hitop109 + hitop280 + hitop283'\n",
    "    # - 'cognitive_problems': 'cognitive_problems =~hitop142 + hitop159 + hitop189',\n",
    "    # - 'indecisiveness': 'indecisiveness =~hitop21 + hitop90 + hitop95'\n",
    "    # here's the dictionary with items that *will* work\n",
    "    mdl_strs_new = {'anhedonic_depression': 'anhedonic_depression =~hitop39 + hitop77 + hitop84 + hitop92 + hitop93 + hitop123 + hitop157 + hitop182 + hitop230 + hitop246',\n",
    "     'anxious_worry': 'anxious_worry =~hitop20 + hitop34 + hitop89 + hitop203 + hitop248 + hitop265',\n",
    "     'appetite_gain': 'appetite_gain =~hitop120 + hitop141 + hitop243 + hitop275',\n",
    "     'hyposomnia': 'hyposomnia =~hitop5 + hitop66 + hitop99 + hitop181 + hitop231',\n",
    "     'insomnia': 'insomnia =~hitop160 + hitop254 + hitop261 + hitop268',\n",
    "     'panic': 'panic =~hitop15 + hitop104 + hitop126 + hitop211 + hitop215 + hitop257',\n",
    "     'separation_insecurity': 'separation_insecurity =~hitop40 + hitop50 + hitop69 + hitop81 + hitop113 + hitop136 + hitop151 + hitop197',\n",
    "     'shame_guilt': 'shame_guilt =~hitop72 + hitop140 + hitop143 + hitop220',\n",
    "     'situational_phobia': 'situational_phobia =~hitop16 + hitop165 + hitop225 + hitop247 + hitop278',\n",
    "     'social_anxiety': 'social_anxiety =~hitop1 + hitop17 + hitop114 + hitop117 + hitop124 + hitop129 + hitop204 + hitop222 + hitop236 + hitop258',\n",
    "     'well_being': 'well_being =~hitop9 + hitop23 + hitop54 + hitop106 + hitop149 + hitop200 + hitop244 + hitop245 + hitop250 + hitop281'}\n",
    "    # to load the data in R, let's save it as csv and then load it to R\n",
    "    # there may be a more elegant day to do this, but I don't know it...\n",
    "    if whichcolumn == 'valid_genpop':\n",
    "        mydata.to_csv('../data/CFA/mydata_valid_genpop.csv')\n",
    "        ro.r(\"rdata <- read.csv('../data/CFA/mydata_valid_genpop.csv', header=TRUE)\")\n",
    "        group = 'whichdata'\n",
    "    elif whichcolumn == 'valid_enriched':\n",
    "        mydata.to_csv('../data/CFA/mydata_valid_enriched.csv')\n",
    "        ro.r(\"rdata <- read.csv('../data/CFA/mydata_valid_enriched.csv', header=TRUE)\") \n",
    "        group = 'whichdata'\n",
    "    elif whichcolumn == 'enriched_withrecontact':\n",
    "        mydata.to_csv('../data/CFA/data_enriched.csv')\n",
    "        ro.r(\"rdata <- read.csv('../data/CFA/data_enriched.csv', header=TRUE)\") \n",
    "        group = 'whichvisit'\n",
    "    elif whichcolumn == 'genpop_withrecontact':\n",
    "        mydata.to_csv('../data/CFA/data_genpop.csv')\n",
    "        ro.r(\"rdata <- read.csv('../data/CFA/data_genpop.csv', header=TRUE)\")\n",
    "        group = 'whichvisit'\n",
    "    ro.globalenv['group'] = group\n",
    "    # CFA\n",
    "    df_data = []    \n",
    "    for cln_ss, mdl in mdl_strs_new.items():\n",
    "        do_metric = False\n",
    "        do_scalar = False\n",
    "        do_strict = False\n",
    "        print(\"\\n\\n\\n================================\")\n",
    "        print(\"================================\")\n",
    "        print(cln_ss.upper())\n",
    "        print(mdl)\n",
    "        print(\"================================\")\n",
    "        print(\"================================\")\n",
    "        # ====== CONFIG =====        \n",
    "        ro.globalenv[cln_ss+'_mdl'] = mdl_strs_new[cln_ss]\n",
    "        fit_config = ro.r(f'cfa({cln_ss}_mdl, data = rdata, group = group, estimator = \"WLSMV\")')\n",
    "        ro.globalenv['fit_config'] = fit_config        \n",
    "        print(\"----------------\")\n",
    "        out_config = semtools.permuteMeasEq(nPermute=num_iter, # 100 for now, 1000 for the \"real\" run\n",
    "                                                con=fit_config, # In the case of testing configural invariance when modelType = \"mgcfa\", con is the configural model (implicitly, the unconstrained model is the saturated model, so use the defaults uncon = NULL and param = NULL).\n",
    "                                                parallelType=\"multicore\", ncpus=4)\n",
    "        config_p = extract_p(out_config)\n",
    "        if float(config_p) >= 0.05:\n",
    "            print('CONFIG INVARIANT chisq p = ' + str(config_p))\n",
    "            do_metric = True\n",
    "        else:\n",
    "            (passed_flag, my_cfi, my_tli, my_rmsea) = check_secondary_criteria(fit_config)\n",
    "            if passed_flag:\n",
    "                print('CONFIG chisq p = ' + str(config_p))\n",
    "                print('PASSED SECONDARY CRITERIA WITH CFI = ' + str(my_cfi) + ' TLI = ' + str(my_tli) + ' RMSEA = ' + str(my_rmsea))\n",
    "                do_metric = True\n",
    "            else:\n",
    "                print('CONFIG INVARIANT NOT PASSED, chisq p = ' + str(config_p))\n",
    "       \n",
    "        if do_metric:\n",
    "            # ====== METRIC =====\n",
    "            fit_metric = ro.r(f'cfa({cln_ss}_mdl, data = rdata, group = group, estimator = \"WLSMV\", group.equal=\"loadings\")')\n",
    "            ro.globalenv['fit_metric'] = fit_metric\n",
    "            out_metric = semtools.permuteMeasEq(nPermute=num_iter, \n",
    "                                                uncon=fit_config, \n",
    "                                                con=fit_metric, \n",
    "                                                param=\"loadings\",\n",
    "                                                parallelType=\"multicore\", ncpus=4)\n",
    "            metric_p = extract_p(out_metric)\n",
    "            if float(metric_p) >= 0.05:\n",
    "                print('METRIC INVARIANT chisq p = ' + str(metric_p))\n",
    "                do_scalar = True\n",
    "            else:\n",
    "                # significant:\n",
    "                print('METRIC INVARIANT NOT PASSED, chisq p = ' + str(metric_p))\n",
    "                _ = print_problematic_items(out_metric)\n",
    "            \n",
    "            if do_scalar:\n",
    "                # ====== SCALAR =====\n",
    "                ro.globalenv['out_metric'] = out_metric\n",
    "                fit_scalar = ro.r(f'cfa({cln_ss}_mdl, data = rdata, group = group, estimator = \"WLSMV\", group.equal=c(\"loadings\", \"intercepts\"))')\n",
    "                ro.globalenv['fit_scalar'] = fit_scalar\n",
    "                out_scalar = semtools.permuteMeasEq(nPermute=num_iter, \n",
    "                                                uncon=fit_metric, \n",
    "                                                con=fit_scalar, \n",
    "                                                param=ro.StrVector([\"loadings\",\"intercepts\"]),\n",
    "                                                parallelType=\"multicore\", \n",
    "                                                ncpus=4)\n",
    "                scalar_p = extract_p(out_scalar)\n",
    "                if float(scalar_p) >= 0.05:\n",
    "                    print('SCALAR INVARIANT chisq p = ' + str(scalar_p))\n",
    "                    do_strict = True\n",
    "                else:\n",
    "                    # significant:\n",
    "                    print('SCALAR INVARIANT NOT PASSED, chisq p = ' + str(scalar_p))\n",
    "                    _ = print_problematic_items(out_scalar)\n",
    "\n",
    "                if do_strict:\n",
    "                    # ====== STRICT =====\n",
    "                    ro.globalenv['out_scalar'] = out_scalar\n",
    "                    fit_strict = ro.r(f'cfa({cln_ss}_mdl, data = rdata, group = group, estimator = \"WLSMV\", group.equal=c(\"loadings\", \"intercepts\", \"residuals\"))')\n",
    "                    ro.globalenv['fit_strict'] = fit_strict\n",
    "                    out_strict = semtools.permuteMeasEq(nPermute=num_iter, \n",
    "                                                        uncon=fit_scalar, \n",
    "                                                        con=fit_strict, \n",
    "                                                        param=ro.StrVector([\"loadings\",\"intercepts\", \"residuals\"]),\n",
    "                                                        parallelType=\"multicore\", \n",
    "                                                        ncpus=4)\n",
    "                    strict_p = extract_p(out_strict)\n",
    "                    if float(strict_p) >= 0.05:\n",
    "                        print('STRICT INVARIANT chisq p = ' + str(strict_p))\n",
    "                    else:\n",
    "                        # significant:\n",
    "                        print('STRICT INVARIANT NOT PASSED, chisq p = ' + str(strict_p))\n",
    "                        _ = print_problematic_items(out_strict)\n",
    "\n",
    "                else:\n",
    "                    print('STRICT N/A')\n",
    "                    strict_p = 'NA'\n",
    "            else:\n",
    "                print('SCALAR N/A')\n",
    "                print('STRICT N/A')\n",
    "                scalar_p = 'NA'\n",
    "                strict_p = 'NA'\n",
    "        else:\n",
    "            print('METRIC N/A')\n",
    "            print('SCALAR N/A')\n",
    "            print('STRICT N/A')\n",
    "            metric_p = 'NA'\n",
    "            scalar_p = 'NA'\n",
    "            strict_p = 'NA'\n",
    "        df_data.append({cln_ss: [config_p, metric_p, scalar_p, strict_p]})\n",
    "    df = pd.DataFrame(df_data)\n",
    "    print(\"DONE\")\n",
    "    return(df)\n",
    "\n",
    "def run_specific_cfa(mydata, whichcolumn, whichscale, whichcfa):\n",
    "    print('! DONT FORGET TO CHANGE MDL_STRS_NEW BELOW IN CODE FOR ABLATION EXPERIMENTS')\n",
    "    assert(whichcolumn in ['valid_enriched', 'valid_genpop', 'enriched_withrecontact', 'genpop_withrecontact'])\n",
    "    assert(whichscale in ['anhedonic_depression', 'anxious_worry', 'appetite_gain', 'hyposomnia', 'insomnia', 'panic', 'separation_insecurity',\n",
    "                         'shame_guilt', 'situational_phobia', 'social_anxiety', 'well_being'])\n",
    "    num_iter = 1000\n",
    "    rprint = ro.r('print')\n",
    "    summary = ro.r('summary')\n",
    "    ro.r('set.seed(12345)')\n",
    "    rngkind = \"L'Ecuyer-CMRG\"\n",
    "    mdl_strs = {}\n",
    "    for ss, df in item_lookup.groupby('subscale'):\n",
    "        cln_ss = ss.replace(\" \", \"_\").replace(\"/\", \"_\").replace(\"-\", \"_\")\n",
    "        items = []\n",
    "        for itemn, item in enumerate(df.sort_values('id_ht').htid.values):\n",
    "            items.append(item)\n",
    "        mdl_strs[cln_ss] = f'{cln_ss} =~' + ' + '.join(items) \n",
    "    # measures we can't work with because too few degrees of freedom:\n",
    "    # - 'appetite_loss': 'appetite_loss =~hitop109 + hitop280 + hitop283'\n",
    "    # - 'cognitive_problems': 'cognitive_problems =~hitop142 + hitop159 + hitop189',\n",
    "    # - 'indecisiveness': 'indecisiveness =~hitop21 + hitop90 + hitop95'\n",
    "    # here's the dictionary with items that *will* work\n",
    "    mdl_strs_new = {'anhedonic_depression': 'anhedonic_depression =~hitop39 + hitop77 + hitop84 + hitop93 + hitop123 + hitop182 + hitop230 + hitop246', # + hitop92 + hitop157\n",
    "     'anxious_worry': 'anxious_worry =~hitop20 + hitop34 + hitop89 + hitop203 + hitop248', # + hitop265\n",
    "     'appetite_gain': 'appetite_gain =~hitop141 + hitop243 + hitop275', # + hitop120\n",
    "     'hyposomnia': 'hyposomnia =~hitop99 + hitop181 + hitop5 + hitop66 + hitop231',\n",
    "     'insomnia': 'insomnia =~hitop160 + hitop254 + hitop261 + hitop268',\n",
    "     'panic': 'panic =~hitop15 + hitop104 + hitop126 + hitop211 + hitop215 + hitop257',\n",
    "     'separation_insecurity': 'separation_insecurity =~hitop40 + hitop50 + hitop69 + hitop81 + hitop113 + hitop136 + hitop151', #  + hitop197\n",
    "     'shame_guilt': 'shame_guilt =~hitop72 + hitop140 + hitop143 + hitop220',\n",
    "     'situational_phobia': 'situational_phobia =~hitop16 + hitop165 + hitop225 + hitop247 + hitop278',\n",
    "     'social_anxiety': 'social_anxiety =~hitop114 + hitop117 + hitop124 + hitop129 + hitop204 + hitop222 + hitop236 + hitop258 ', # + hitop1 + hitop17\n",
    "     'well_being': 'well_being =~hitop9 + hitop23 + hitop106 + hitop149 + hitop200 + hitop244 + hitop250 + hitop281'} # + hitop54 + hitop245\n",
    "    # to load the data in R, let's save it as csv and then load it to R\n",
    "    # there may be a more elegant day to do this, but I don't know it...\n",
    "    if whichcolumn == 'valid_genpop':\n",
    "        mydata.to_csv('../data/CFA/mydata_valid_genpop.csv')\n",
    "        ro.r(\"rdata <- read.csv('../data/CFA/mydata_valid_genpop.csv', header=TRUE)\")\n",
    "        group = 'whichdata'\n",
    "    elif whichcolumn == 'valid_enriched':\n",
    "        mydata.to_csv('../data/CFA/mydata_valid_enriched.csv')\n",
    "        ro.r(\"rdata <- read.csv('../data/CFA/mydata_valid_enriched.csv', header=TRUE)\") \n",
    "        group = 'whichdata'\n",
    "    elif whichcolumn == 'enriched_withrecontact':\n",
    "        mydata.to_csv('../data/CFA/data_enriched.csv')\n",
    "        ro.r(\"rdata <- read.csv('../data/CFA/data_enriched.csv', header=TRUE)\") \n",
    "        group = 'whichvisit'\n",
    "    elif whichcolumn == 'genpop_withrecontact':\n",
    "        mydata.to_csv('../data/CFA/data_genpop.csv')\n",
    "        ro.r(\"rdata <- read.csv('../data/CFA/data_genpop.csv', header=TRUE)\")\n",
    "        group = 'whichvisit'\n",
    "    ro.globalenv['group'] = group\n",
    "    for cln_ss, mdl in mdl_strs_new.items():\n",
    "        if cln_ss == whichscale:  \n",
    "            print('lets go')\n",
    "            if whichcfa == 'metric':\n",
    "                do_metric = True\n",
    "                do_scalar = False\n",
    "                do_strict = False\n",
    "            elif whichcfa == 'scalar':\n",
    "                do_metric = True\n",
    "                do_scalar = True\n",
    "                do_strict = False   \n",
    "            elif whichcfa == 'strict':\n",
    "                do_metric = True\n",
    "                do_scalar = True\n",
    "                do_strict = True                  \n",
    "            print(\"\\n\")\n",
    "            print(cln_ss.upper())\n",
    "            print(mdl)\n",
    "            # ====== CONFIG =====        \n",
    "            ro.globalenv[cln_ss+'_mdl'] = mdl_strs_new[cln_ss]\n",
    "            fit_config = ro.r(f'cfa({cln_ss}_mdl, data = rdata, group = group, estimator = \"WLSMV\")')\n",
    "            ro.globalenv['fit_config'] = fit_config        \n",
    "            out_config = semtools.permuteMeasEq(nPermute=num_iter, # 100 for now, 1000 for the \"real\" run\n",
    "                                                    con=fit_config, # In the case of testing configural invariance when modelType = \"mgcfa\", con is the configural model (implicitly, the unconstrained model is the saturated model, so use the defaults uncon = NULL and param = NULL).\n",
    "                                                    parallelType=\"multicore\", ncpus=4)\n",
    "            config_p = extract_p(out_config)\n",
    "            if float(config_p) >= 0.05:\n",
    "                print('CONFIG INVARIANT chisq p = ' + str(config_p))\n",
    "            else:\n",
    "                (passed_flag, my_cfi, my_tli, my_rmsea) = check_secondary_criteria(fit_config)\n",
    "                if passed_flag:\n",
    "                    print('CONFIG chisq p = ' + str(config_p))\n",
    "                    print('PASSED SECONDARY CRITERIA WITH CFI = ' + str(my_cfi) + ' TLI = ' + str(my_tli) + ' RMSEA = ' + str(my_rmsea))\n",
    "                else:\n",
    "                    print('CONFIG INVARIANT NOT PASSED, chisq p = ' + str(config_p))\n",
    "            if do_metric:\n",
    "                # ====== METRIC =====\n",
    "                fit_metric = ro.r(f'cfa({cln_ss}_mdl, data = rdata, group = group, estimator = \"WLSMV\", group.equal=\"loadings\")')\n",
    "                ro.globalenv['fit_metric'] = fit_metric\n",
    "                out_metric = semtools.permuteMeasEq(nPermute=num_iter, \n",
    "                                                    uncon=fit_config, \n",
    "                                                    con=fit_metric, \n",
    "                                                    param=\"loadings\",\n",
    "                                                    parallelType=\"multicore\", ncpus=4)\n",
    "                metric_p = extract_p(out_metric)\n",
    "                if float(metric_p) >= 0.05:\n",
    "                    print('METRIC INVARIANT chisq p = ' + str(metric_p))\n",
    "                else:\n",
    "                    # significant:\n",
    "                    print('METRIC INVARIANT NOT PASSED, chisq p = ' + str(metric_p))\n",
    "                    ro.globalenv['out_metric'] = out_metric\n",
    "                    ro.r(\"myoutputmetric <- capture.output(summary(out_metric))\") \n",
    "                    ro.r(\"stringid <- grep(\\\"chisq\\\", myoutputmetric)\")\n",
    "                    ro.r(\"print(myoutputmetric[stringid-1])\")\n",
    "                    ro.r(\"print(myoutputmetric[stringid])\")\n",
    "                    # significant:\n",
    "                    ro.r(\"stringidsig <- grep(\\\"may differ between Groups\\\", myoutputmetric)\")\n",
    "                    ro.r(\"print(myoutputmetric[stringidsig])\")\n",
    "                if do_scalar:\n",
    "                    # ====== SCALAR =====\n",
    "                    ro.globalenv['out_metric'] = out_metric\n",
    "                    fit_scalar = ro.r(f'cfa({cln_ss}_mdl, data = rdata, group = group, estimator = \"WLSMV\", group.equal=c(\"loadings\", \"intercepts\"))')\n",
    "                    ro.globalenv['fit_scalar'] = fit_scalar\n",
    "                    out_scalar = semtools.permuteMeasEq(nPermute=num_iter, \n",
    "                                                    uncon=fit_metric, \n",
    "                                                    con=fit_scalar, \n",
    "                                                    param=ro.StrVector([\"loadings\",\"intercepts\"]),\n",
    "                                                    parallelType=\"multicore\", \n",
    "                                                    ncpus=4)\n",
    "                    scalar_p = extract_p(out_scalar)\n",
    "                    if float(scalar_p) >= 0.05:\n",
    "                        print('SCALAR INVARIANT chisq p = ' + str(scalar_p))\n",
    "                    else:\n",
    "                        # significant:\n",
    "                        print('SCALAR INVARIANT NOT PASSED, chisq p = ' + str(scalar_p))\n",
    "                        _ = print_problematic_items(out_scalar)\n",
    "                        ro.globalenv['out_scalar'] = out_scalar\n",
    "                        ro.r(\"myoutputscalar <- capture.output(summary(out_scalar))\") \n",
    "                        ro.r(\"stringid <- grep(\\\"chisq\\\", myoutputscalar)\")\n",
    "                        ro.r(\"print(myoutputscalar[stringid-1])\")\n",
    "                        ro.r(\"print(myoutputscalar[stringid])\")\n",
    "                        # significant:\n",
    "                        ro.r(\"stringidsig <- grep(\\\"may differ between Groups\\\", myoutputscalar)\")\n",
    "                        ro.r(\"print(myoutputscalar[stringidsig])\")\n",
    "                    if do_strict:\n",
    "                        # ====== STRICT =====\n",
    "                        ro.globalenv['out_scalar'] = out_scalar\n",
    "                        fit_strict = ro.r(f'cfa({cln_ss}_mdl, data = rdata, group = group, estimator = \"WLSMV\", group.equal=c(\"loadings\", \"intercepts\", \"residuals\"))')\n",
    "                        ro.globalenv['fit_strict'] = fit_strict\n",
    "                        out_strict = semtools.permuteMeasEq(nPermute=num_iter, \n",
    "                                                            uncon=fit_scalar, \n",
    "                                                            con=fit_strict, \n",
    "                                                            param=ro.StrVector([\"loadings\",\"intercepts\", \"residuals\"]),\n",
    "                                                            parallelType=\"multicore\", \n",
    "                                                            ncpus=4)\n",
    "                        strict_p = extract_p(out_strict)\n",
    "                        if float(strict_p) >= 0.05:\n",
    "                            print('STRICT INVARIANT chisq p = ' + str(strict_p))\n",
    "                        else:\n",
    "                            # significant:\n",
    "                            print('STRICT INVARIANT NOT PASSED, chisq p = ' + str(strict_p))\n",
    "                            _ = print_problematic_items(out_strict)\n",
    "                            ro.globalenv['out_strict'] = out_strict\n",
    "                            ro.r(\"myoutputstrict <- capture.output(summary(out_strict))\") \n",
    "                            ro.r(\"stringid <- grep(\\\"chisq\\\", myoutputstrict)\")\n",
    "                            ro.r(\"print(myoutputstrict[stringid-1])\")\n",
    "                            ro.r(\"print(myoutputstrict[stringid])\")\n",
    "                            # significant:\n",
    "                            ro.r(\"stringidsig <- grep(\\\"may differ between Groups\\\", myoutputstrict)\")\n",
    "                            ro.r(\"print(myoutputstrict[stringidsig])\")\n",
    "                    else:\n",
    "                        print('STRICT N/A')\n",
    "                        strict_p = 'NA'\n",
    "                else:\n",
    "                    print('SCALAR N/A')\n",
    "                    print('STRICT N/A')\n",
    "                    scalar_p = 'NA'\n",
    "                    strict_p = 'NA'\n",
    "            else:\n",
    "                print('METRIC N/A')\n",
    "                print('SCALAR N/A')\n",
    "                print('STRICT N/A')\n",
    "                metric_p = 'NA'\n",
    "                scalar_p = 'NA'\n",
    "                strict_p = 'NA'\n",
    "    print(\"DONE\")\n",
    "    return(0)    \n",
    "    "
   ]
  },
  {
   "cell_type": "code",
   "execution_count": 12,
   "id": "dfdd76c6-1bba-4c44-b366-d71573208003",
   "metadata": {},
   "outputs": [],
   "source": [
    "def run_specific_cfa2(mydata, whichcolumn, whichscale, whichcfa):\n",
    "    print('! DONT FORGET TO CHANGE MDL_STRS_NEW BELOW IN CODE FOR ABLATION EXPERIMENTS')\n",
    "    assert(whichcolumn in ['valid_enriched', 'valid_genpop', 'enriched_withrecontact', 'genpop_withrecontact'])\n",
    "    assert(whichscale in ['anhedonic_depression', 'anxious_worry', 'appetite_gain', 'hyposomnia', 'insomnia', 'panic', 'separation_insecurity',\n",
    "                         'shame_guilt', 'situational_phobia', 'social_anxiety', 'well_being'])\n",
    "    num_iter = 1000\n",
    "    rprint = ro.r('print')\n",
    "    summary = ro.r('summary')\n",
    "    ro.r('set.seed(12345)')\n",
    "    rngkind = \"L'Ecuyer-CMRG\"\n",
    "    mdl_strs = {}\n",
    "    for ss, df in item_lookup.groupby('subscale'):\n",
    "        cln_ss = ss.replace(\" \", \"_\").replace(\"/\", \"_\").replace(\"-\", \"_\")\n",
    "        items = []\n",
    "        for itemn, item in enumerate(df.sort_values('id_ht').htid.values):\n",
    "            items.append(item)\n",
    "        mdl_strs[cln_ss] = f'{cln_ss} =~' + ' + '.join(items) \n",
    "    # measures we can't work with because too few degrees of freedom:\n",
    "    # - 'appetite_loss': 'appetite_loss =~hitop109 + hitop280 + hitop283'\n",
    "    # - 'cognitive_problems': 'cognitive_problems =~hitop142 + hitop159 + hitop189',\n",
    "    # - 'indecisiveness': 'indecisiveness =~hitop21 + hitop90 + hitop95'\n",
    "    # here's the dictionary with items that *will* work\n",
    "    mdl_strs_new = {'anhedonic_depression': 'anhedonic_depression =~hitop39 + hitop77 + hitop84 + hitop92 + hitop93 + hitop123 + hitop157 + hitop182 + hitop230 + hitop246',\n",
    "     'anxious_worry': 'anxious_worry =~hitop20 + hitop34 + hitop89 + hitop203 + hitop248 + hitop265',\n",
    "     'appetite_gain': 'appetite_gain =~hitop120 + hitop141 + hitop243 + hitop275',\n",
    "     'hyposomnia': 'hyposomnia =~hitop99 + hitop181 + hitop5 + hitop66 + hitop231',\n",
    "     'insomnia': 'insomnia =~hitop160 + hitop254 + hitop261 + hitop268',\n",
    "     'panic': 'panic =~hitop15 + hitop104 + hitop126 + hitop211 + hitop215 + hitop257',\n",
    "     'separation_insecurity': 'separation_insecurity =~hitop40 + hitop50 + hitop69 + hitop81 + hitop113 + hitop136 + hitop151 + hitop197',\n",
    "     'shame_guilt': 'shame_guilt =~hitop72 + hitop140 + hitop143 + hitop220',\n",
    "     'situational_phobia': 'situational_phobia =~hitop16 + hitop165 + hitop225 + hitop247 + hitop278',\n",
    "     'social_anxiety': 'social_anxiety =~hitop1 + hitop17 + hitop114 + hitop117 + hitop124 + hitop129 + hitop204 + hitop222 + hitop236 + hitop258',\n",
    "     'well_being': 'well_being =~hitop9 + hitop23 + hitop54 + hitop106 + hitop149 + hitop200 + hitop244 + hitop245 + hitop250 + hitop281'}\n",
    "    # to load the data in R, let's save it as csv and then load it to R\n",
    "    # there may be a more elegant day to do this, but I don't know it...\n",
    "    if whichcolumn == 'valid_genpop':\n",
    "        mydata.to_csv('../data/CFA/mydata_valid_genpop.csv')\n",
    "        ro.r(\"rdata <- read.csv('../data/CFA/mydata_valid_genpop.csv', header=TRUE)\")\n",
    "        group = 'whichdata'\n",
    "    elif whichcolumn == 'valid_enriched':\n",
    "        mydata.to_csv('../data/CFA/mydata_valid_enriched.csv')\n",
    "        ro.r(\"rdata <- read.csv('../data/CFA/mydata_valid_enriched.csv', header=TRUE)\") \n",
    "        group = 'whichdata'\n",
    "    elif whichcolumn == 'enriched_withrecontact':\n",
    "        mydata.to_csv('../data/CFA/data_enriched.csv')\n",
    "        ro.r(\"rdata <- read.csv('../data/CFA/data_enriched.csv', header=TRUE)\") \n",
    "        group = 'whichvisit'\n",
    "    elif whichcolumn == 'genpop_withrecontact':\n",
    "        mydata.to_csv('../data/CFA/data_genpop.csv')\n",
    "        ro.r(\"rdata <- read.csv('../data/CFA/data_genpop.csv', header=TRUE)\")\n",
    "        group = 'whichvisit'\n",
    "    ro.globalenv['group'] = group\n",
    "    for cln_ss, mdl in mdl_strs_new.items():\n",
    "        if cln_ss == whichscale:  \n",
    "            print('lets go')\n",
    "            if whichcfa == 'metric':\n",
    "                do_metric = True\n",
    "                do_scalar = False\n",
    "                do_strict = False\n",
    "            elif whichcfa == 'scalar':\n",
    "                do_metric = True\n",
    "                do_scalar = True\n",
    "                do_strict = False   \n",
    "            elif whichcfa == 'strict':\n",
    "                do_metric = True\n",
    "                do_scalar = True\n",
    "                do_strict = True                  \n",
    "            print(\"\\n\")\n",
    "            print(cln_ss.upper())\n",
    "            print(mdl)\n",
    "            # ====== CONFIG =====        \n",
    "\n",
    "            # loop to do ablations\n",
    "            temp_items = mdl_strs_new[cln_ss]\n",
    "            temp_items_items = temp_items.split(\"=~\",1)[1]\n",
    "            temp_items_items_items = temp_items_items.split(\" + \")\n",
    "            list_of_items = temp_items_items_items\n",
    "    \n",
    "            for item in list_of_items:\n",
    "                print('\\nITEM TO REMOVE: ' + item)\n",
    "                mynewstring = temp_items.split(\"=~\",1)[0] + \"=~\"\n",
    "                temp_items_items_items.remove(item)\n",
    "                for x in temp_items_items_items:\n",
    "                    mynewstring += x + ' + '\n",
    "                temp_items_items_items = temp_items_items.split(\" + \")\n",
    "                mynewstring = mynewstring[:-3]\n",
    "                print(mynewstring)\n",
    "            \n",
    "                ro.globalenv[cln_ss+'_mdl'] = mynewstring           \n",
    "            \n",
    "                fit_config = ro.r(f'cfa({cln_ss}_mdl, data = rdata, group = group, estimator = \"WLSMV\")')\n",
    "                ro.globalenv['fit_config'] = fit_config        \n",
    "                out_config = semtools.permuteMeasEq(nPermute=num_iter, # 100 for now, 1000 for the \"real\" run\n",
    "                                                        con=fit_config, # In the case of testing configural invariance when modelType = \"mgcfa\", con is the configural model (implicitly, the unconstrained model is the saturated model, so use the defaults uncon = NULL and param = NULL).\n",
    "                                                        parallelType=\"multicore\", ncpus=4)\n",
    "                config_p = extract_p(out_config)\n",
    "                if float(config_p) >= 0.05:\n",
    "                    print('CONFIG INVARIANT chisq p = ' + str(config_p))\n",
    "                else:\n",
    "                    (passed_flag, my_cfi, my_tli, my_rmsea) = check_secondary_criteria(fit_config)\n",
    "                    if passed_flag:\n",
    "                        print('CONFIG chisq p = ' + str(config_p))\n",
    "                        print('PASSED SECONDARY CRITERIA WITH CFI = ' + str(my_cfi) + ' TLI = ' + str(my_tli) + ' RMSEA = ' + str(my_rmsea))\n",
    "                    else:\n",
    "                        print('CONFIG INVARIANT NOT PASSED, chisq p = ' + str(config_p))\n",
    "                if do_metric:\n",
    "                    # ====== METRIC =====\n",
    "                    fit_metric = ro.r(f'cfa({cln_ss}_mdl, data = rdata, group = group, estimator = \"WLSMV\", group.equal=\"loadings\")')\n",
    "                    ro.globalenv['fit_metric'] = fit_metric\n",
    "                    out_metric = semtools.permuteMeasEq(nPermute=num_iter, \n",
    "                                                        uncon=fit_config, \n",
    "                                                        con=fit_metric, \n",
    "                                                        param=\"loadings\",\n",
    "                                                        parallelType=\"multicore\", ncpus=4)\n",
    "                    metric_p = extract_p(out_metric)\n",
    "                    if float(metric_p) >= 0.05:\n",
    "                        print('METRIC INVARIANT chisq p = ' + str(metric_p))\n",
    "                    else:\n",
    "                        # significant:\n",
    "                        print('METRIC INVARIANT NOT PASSED, chisq p = ' + str(metric_p))\n",
    "                        ro.globalenv['out_metric'] = out_metric\n",
    "                        ro.r(\"myoutputmetric <- capture.output(summary(out_metric))\") \n",
    "                        ro.r(\"stringid <- grep(\\\"chisq\\\", myoutputmetric)\")\n",
    "                        ro.r(\"print(myoutputmetric[stringid-1])\")\n",
    "                        ro.r(\"print(myoutputmetric[stringid])\")\n",
    "                        # significant:\n",
    "                        ro.r(\"stringidsig <- grep(\\\"may differ between Groups\\\", myoutputmetric)\")\n",
    "                        ro.r(\"print(myoutputmetric[stringidsig])\")\n",
    "                    if do_scalar:\n",
    "                        # ====== SCALAR =====\n",
    "                        ro.globalenv['out_metric'] = out_metric\n",
    "                        fit_scalar = ro.r(f'cfa({cln_ss}_mdl, data = rdata, group = group, estimator = \"WLSMV\", group.equal=c(\"loadings\", \"intercepts\"))')\n",
    "                        ro.globalenv['fit_scalar'] = fit_scalar\n",
    "                        out_scalar = semtools.permuteMeasEq(nPermute=num_iter, \n",
    "                                                        uncon=fit_metric, \n",
    "                                                        con=fit_scalar, \n",
    "                                                        param=ro.StrVector([\"loadings\",\"intercepts\"]),\n",
    "                                                        parallelType=\"multicore\", \n",
    "                                                        ncpus=4)\n",
    "                        scalar_p = extract_p(out_scalar)\n",
    "                        if float(scalar_p) >= 0.05:\n",
    "                            print('SCALAR INVARIANT chisq p = ' + str(scalar_p))\n",
    "                        else:\n",
    "                            # significant:\n",
    "                            print('SCALAR INVARIANT NOT PASSED, chisq p = ' + str(scalar_p))\n",
    "                            _ = print_problematic_items(out_scalar)\n",
    "                            ro.globalenv['out_scalar'] = out_scalar\n",
    "                            ro.r(\"myoutputscalar <- capture.output(summary(out_scalar))\") \n",
    "                            ro.r(\"stringid <- grep(\\\"chisq\\\", myoutputscalar)\")\n",
    "                            ro.r(\"print(myoutputscalar[stringid-1])\")\n",
    "                            ro.r(\"print(myoutputscalar[stringid])\")\n",
    "                            # significant:\n",
    "                            ro.r(\"stringidsig <- grep(\\\"may differ between Groups\\\", myoutputscalar)\")\n",
    "                            ro.r(\"print(myoutputscalar[stringidsig])\")\n",
    "                        if do_strict:\n",
    "                            # ====== STRICT =====\n",
    "                            ro.globalenv['out_scalar'] = out_scalar\n",
    "                            fit_strict = ro.r(f'cfa({cln_ss}_mdl, data = rdata, group = group, estimator = \"WLSMV\", group.equal=c(\"loadings\", \"intercepts\", \"residuals\"))')\n",
    "                            ro.globalenv['fit_strict'] = fit_strict\n",
    "                            out_strict = semtools.permuteMeasEq(nPermute=num_iter, \n",
    "                                                                uncon=fit_scalar, \n",
    "                                                                con=fit_strict, \n",
    "                                                                param=ro.StrVector([\"loadings\",\"intercepts\", \"residuals\"]),\n",
    "                                                                parallelType=\"multicore\", \n",
    "                                                                ncpus=4)\n",
    "                            strict_p = extract_p(out_strict)\n",
    "                            if float(strict_p) >= 0.05:\n",
    "                                print('STRICT INVARIANT chisq p = ' + str(strict_p))\n",
    "                            else:\n",
    "                                # significant:\n",
    "                                print('STRICT INVARIANT NOT PASSED, chisq p = ' + str(strict_p))\n",
    "                                _ = print_problematic_items(out_strict)\n",
    "                                ro.globalenv['out_strict'] = out_strict\n",
    "                                ro.r(\"myoutputstrict <- capture.output(summary(out_strict))\") \n",
    "                                ro.r(\"stringid <- grep(\\\"chisq\\\", myoutputstrict)\")\n",
    "                                ro.r(\"print(myoutputstrict[stringid-1])\")\n",
    "                                ro.r(\"print(myoutputstrict[stringid])\")\n",
    "                                # significant:\n",
    "                                ro.r(\"stringidsig <- grep(\\\"may differ between Groups\\\", myoutputstrict)\")\n",
    "                                ro.r(\"print(myoutputstrict[stringidsig])\")\n",
    "                        else:\n",
    "                            print('STRICT N/A')\n",
    "                            strict_p = 'NA'\n",
    "                    else:\n",
    "                        print('SCALAR N/A')\n",
    "                        print('STRICT N/A')\n",
    "                        scalar_p = 'NA'\n",
    "                        strict_p = 'NA'\n",
    "                else:\n",
    "                    print('METRIC N/A')\n",
    "                    print('SCALAR N/A')\n",
    "                    print('STRICT N/A')\n",
    "                    metric_p = 'NA'\n",
    "                    scalar_p = 'NA'\n",
    "                    strict_p = 'NA'\n",
    "    print(\"DONE\")\n",
    "    return(0)"
   ]
  },
  {
   "cell_type": "code",
   "execution_count": 13,
   "id": "557c10b2-b99a-4df5-ba5f-bd79188c4baa",
   "metadata": {},
   "outputs": [],
   "source": [
    "def run_specific_cfa3(mydata, whichcolumn, whichscale, whichcfa, howmanyitems):\n",
    "    print('THIS ONE RUNS ALL COMBINATIONS OF ITEMS')\n",
    "    assert(whichcolumn in ['valid_enriched', 'valid_genpop', 'enriched_withrecontact', 'genpop_withrecontact'])\n",
    "    assert(whichscale in ['anhedonic_depression', 'anxious_worry', 'appetite_gain', 'hyposomnia', 'insomnia', 'panic', 'separation_insecurity',\n",
    "                         'shame_guilt', 'situational_phobia', 'social_anxiety', 'well_being'])\n",
    "    num_iter = 1000\n",
    "    rprint = ro.r('print')\n",
    "    summary = ro.r('summary')\n",
    "    ro.r('set.seed(12345)')\n",
    "    rngkind = \"L'Ecuyer-CMRG\"\n",
    "    mdl_strs = {}\n",
    "    for ss, df in item_lookup.groupby('subscale'):\n",
    "        cln_ss = ss.replace(\" \", \"_\").replace(\"/\", \"_\").replace(\"-\", \"_\")\n",
    "        items = []\n",
    "        for itemn, item in enumerate(df.sort_values('id_ht').htid.values):\n",
    "            items.append(item)\n",
    "        mdl_strs[cln_ss] = f'{cln_ss} =~' + ' + '.join(items) \n",
    "    # measures we can't work with because too few degrees of freedom:\n",
    "    # - 'appetite_loss': 'appetite_loss =~hitop109 + hitop280 + hitop283'\n",
    "    # - 'cognitive_problems': 'cognitive_problems =~hitop142 + hitop159 + hitop189',\n",
    "    # - 'indecisiveness': 'indecisiveness =~hitop21 + hitop90 + hitop95'\n",
    "    # here's the dictionary with items that *will* work\n",
    "    mdl_strs_new = {'anhedonic_depression': 'anhedonic_depression =~hitop39 + hitop77 + hitop84 + hitop92 + hitop93 + hitop123 + hitop157 + hitop182 + hitop230 + hitop246',\n",
    "     'anxious_worry': 'anxious_worry =~hitop20 + hitop34 + hitop89 + hitop203 + hitop248 + hitop265',\n",
    "     'appetite_gain': 'appetite_gain =~hitop120 + hitop141 + hitop243 + hitop275',\n",
    "     'hyposomnia': 'hyposomnia =~hitop99 + hitop181 + hitop5 + hitop66 + hitop231',\n",
    "     'insomnia': 'insomnia =~hitop160 + hitop254 + hitop261 + hitop268',\n",
    "     'panic': 'panic =~hitop15 + hitop104 + hitop126 + hitop211 + hitop215 + hitop257',\n",
    "     'separation_insecurity': 'separation_insecurity =~hitop40 + hitop50 + hitop69 + hitop81 + hitop113 + hitop136 + hitop151 + hitop197',\n",
    "     'shame_guilt': 'shame_guilt =~hitop72 + hitop140 + hitop143 + hitop220',\n",
    "     'situational_phobia': 'situational_phobia =~hitop16 + hitop165 + hitop225 + hitop247 + hitop278',\n",
    "     'social_anxiety': 'social_anxiety =~hitop1 + hitop17 + hitop114 + hitop117 + hitop124 + hitop129 + hitop204 + hitop222 + hitop236 + hitop258',\n",
    "     'well_being': 'well_being =~hitop9 + hitop23 + hitop54 + hitop106 + hitop149 + hitop200 + hitop244 + hitop245 + hitop250 + hitop281'}\n",
    "    # to load the data in R, let's save it as csv and then load it to R\n",
    "    # there may be a more elegant day to do this, but I don't know it...\n",
    "    if whichcolumn == 'valid_genpop':\n",
    "        mydata.to_csv('../data/CFA/mydata_valid_genpop.csv')\n",
    "        ro.r(\"rdata <- read.csv('../data/CFA/mydata_valid_genpop.csv', header=TRUE)\")\n",
    "        group = 'whichdata'\n",
    "    elif whichcolumn == 'valid_enriched':\n",
    "        mydata.to_csv('../data/CFA/mydata_valid_enriched.csv')\n",
    "        ro.r(\"rdata <- read.csv('../data/CFA/mydata_valid_enriched.csv', header=TRUE)\") \n",
    "        group = 'whichdata'\n",
    "    elif whichcolumn == 'enriched_withrecontact':\n",
    "        mydata.to_csv('../data/CFA/data_enriched.csv')\n",
    "        ro.r(\"rdata <- read.csv('../data/CFA/data_enriched.csv', header=TRUE)\") \n",
    "        group = 'whichvisit'\n",
    "    elif whichcolumn == 'genpop_withrecontact':\n",
    "        mydata.to_csv('../data/CFA/data_genpop.csv')\n",
    "        ro.r(\"rdata <- read.csv('../data/CFA/data_genpop.csv', header=TRUE)\")\n",
    "        group = 'whichvisit'\n",
    "    ro.globalenv['group'] = group\n",
    "    for cln_ss, mdl in mdl_strs_new.items():\n",
    "        if cln_ss == whichscale:  \n",
    "            print('lets go')\n",
    "            if whichcfa == 'metric':\n",
    "                do_metric = True\n",
    "                do_scalar = False\n",
    "                do_strict = False\n",
    "            elif whichcfa == 'scalar':\n",
    "                do_metric = True\n",
    "                do_scalar = True\n",
    "                do_strict = False   \n",
    "            elif whichcfa == 'strict':\n",
    "                do_metric = True\n",
    "                do_scalar = True\n",
    "                do_strict = True                  \n",
    "            print(\"\\n\")\n",
    "            print(cln_ss.upper())\n",
    "            print(mdl)\n",
    "            # ====== CONFIG =====        \n",
    "\n",
    "            # loop to do ablations\n",
    "            temp_items = mdl_strs_new[cln_ss]\n",
    "            temp_items_items = temp_items.split(\"=~\",1)[1]\n",
    "            temp_items_items_items = temp_items_items.split(\" + \")\n",
    "            list_of_items = temp_items_items_items\n",
    "\n",
    "            for com in combinations(list_of_items, howmanyitems):\n",
    "                print('\\nCOMBINATIONS OF ITEMS: ')\n",
    "                print(com)\n",
    "                mynewstring = temp_items.split(\"=~\",1)[0] + \"=~\"\n",
    "                for x in com:\n",
    "                    mynewstring += x + ' + '\n",
    "                mynewstring = mynewstring[:-3]\n",
    "                print(mynewstring)\n",
    "            \n",
    "                ro.globalenv[cln_ss+'_mdl'] = mynewstring           \n",
    "            \n",
    "                fit_config = ro.r(f'cfa({cln_ss}_mdl, data = rdata, group = group, estimator = \"WLSMV\")')\n",
    "                ro.globalenv['fit_config'] = fit_config        \n",
    "                out_config = semtools.permuteMeasEq(nPermute=num_iter, # 100 for now, 1000 for the \"real\" run\n",
    "                                                        con=fit_config, # In the case of testing configural invariance when modelType = \"mgcfa\", con is the configural model (implicitly, the unconstrained model is the saturated model, so use the defaults uncon = NULL and param = NULL).\n",
    "                                                        parallelType=\"multicore\", ncpus=4)\n",
    "                config_p = extract_p(out_config)\n",
    "                if float(config_p) >= 0.05:\n",
    "                    print('CONFIG INVARIANT chisq p = ' + str(config_p))\n",
    "                else:\n",
    "                    (passed_flag, my_cfi, my_tli, my_rmsea) = check_secondary_criteria(fit_config)\n",
    "                    if passed_flag:\n",
    "                        print('CONFIG chisq p = ' + str(config_p))\n",
    "                        print('PASSED SECONDARY CRITERIA WITH CFI = ' + str(my_cfi) + ' TLI = ' + str(my_tli) + ' RMSEA = ' + str(my_rmsea))\n",
    "                    else:\n",
    "                        print('CONFIG INVARIANT NOT PASSED, chisq p = ' + str(config_p))\n",
    "                if do_metric:\n",
    "                    # ====== METRIC =====\n",
    "                    fit_metric = ro.r(f'cfa({cln_ss}_mdl, data = rdata, group = group, estimator = \"WLSMV\", group.equal=\"loadings\")')\n",
    "                    ro.globalenv['fit_metric'] = fit_metric\n",
    "                    out_metric = semtools.permuteMeasEq(nPermute=num_iter, \n",
    "                                                        uncon=fit_config, \n",
    "                                                        con=fit_metric, \n",
    "                                                        param=\"loadings\",\n",
    "                                                        parallelType=\"multicore\", ncpus=4)\n",
    "                    metric_p = extract_p(out_metric)\n",
    "                    if float(metric_p) >= 0.05:\n",
    "                        print('METRIC INVARIANT chisq p = ' + str(metric_p))\n",
    "                    else:\n",
    "                        # significant:\n",
    "                        print('METRIC INVARIANT NOT PASSED, chisq p = ' + str(metric_p))\n",
    "                        ro.globalenv['out_metric'] = out_metric\n",
    "                        ro.r(\"myoutputmetric <- capture.output(summary(out_metric))\") \n",
    "                        ro.r(\"stringid <- grep(\\\"chisq\\\", myoutputmetric)\")\n",
    "                        ro.r(\"print(myoutputmetric[stringid-1])\")\n",
    "                        ro.r(\"print(myoutputmetric[stringid])\")\n",
    "                        # significant:\n",
    "                        ro.r(\"stringidsig <- grep(\\\"may differ between Groups\\\", myoutputmetric)\")\n",
    "                        ro.r(\"print(myoutputmetric[stringidsig])\")\n",
    "                    if do_scalar:\n",
    "                        # ====== SCALAR =====\n",
    "                        ro.globalenv['out_metric'] = out_metric\n",
    "                        fit_scalar = ro.r(f'cfa({cln_ss}_mdl, data = rdata, group = group, estimator = \"WLSMV\", group.equal=c(\"loadings\", \"intercepts\"))')\n",
    "                        ro.globalenv['fit_scalar'] = fit_scalar\n",
    "                        out_scalar = semtools.permuteMeasEq(nPermute=num_iter, \n",
    "                                                        uncon=fit_metric, \n",
    "                                                        con=fit_scalar, \n",
    "                                                        param=ro.StrVector([\"loadings\",\"intercepts\"]),\n",
    "                                                        parallelType=\"multicore\", \n",
    "                                                        ncpus=4)\n",
    "                        scalar_p = extract_p(out_scalar)\n",
    "                        if float(scalar_p) >= 0.05:\n",
    "                            print('SCALAR INVARIANT chisq p = ' + str(scalar_p))\n",
    "                        else:\n",
    "                            # significant:\n",
    "                            print('SCALAR INVARIANT NOT PASSED, chisq p = ' + str(scalar_p))\n",
    "                            _ = print_problematic_items(out_scalar)\n",
    "                            ro.globalenv['out_scalar'] = out_scalar\n",
    "                            ro.r(\"myoutputscalar <- capture.output(summary(out_scalar))\") \n",
    "                            ro.r(\"stringid <- grep(\\\"chisq\\\", myoutputscalar)\")\n",
    "                            ro.r(\"print(myoutputscalar[stringid-1])\")\n",
    "                            ro.r(\"print(myoutputscalar[stringid])\")\n",
    "                            # significant:\n",
    "                            ro.r(\"stringidsig <- grep(\\\"may differ between Groups\\\", myoutputscalar)\")\n",
    "                            ro.r(\"print(myoutputscalar[stringidsig])\")\n",
    "                        if do_strict:\n",
    "                            # ====== STRICT =====\n",
    "                            ro.globalenv['out_scalar'] = out_scalar\n",
    "                            fit_strict = ro.r(f'cfa({cln_ss}_mdl, data = rdata, group = group, estimator = \"WLSMV\", group.equal=c(\"loadings\", \"intercepts\", \"residuals\"))')\n",
    "                            ro.globalenv['fit_strict'] = fit_strict\n",
    "                            out_strict = semtools.permuteMeasEq(nPermute=num_iter, \n",
    "                                                                uncon=fit_scalar, \n",
    "                                                                con=fit_strict, \n",
    "                                                                param=ro.StrVector([\"loadings\",\"intercepts\", \"residuals\"]),\n",
    "                                                                parallelType=\"multicore\", \n",
    "                                                                ncpus=4)\n",
    "                            strict_p = extract_p(out_strict)\n",
    "                            if float(strict_p) >= 0.05:\n",
    "                                print('STRICT INVARIANT chisq p = ' + str(strict_p))\n",
    "                            else:\n",
    "                                # significant:\n",
    "                                print('STRICT INVARIANT NOT PASSED, chisq p = ' + str(strict_p))\n",
    "                                _ = print_problematic_items(out_strict)\n",
    "                                ro.globalenv['out_strict'] = out_strict\n",
    "                                ro.r(\"myoutputstrict <- capture.output(summary(out_strict))\") \n",
    "                                ro.r(\"stringid <- grep(\\\"chisq\\\", myoutputstrict)\")\n",
    "                                ro.r(\"print(myoutputstrict[stringid-1])\")\n",
    "                                ro.r(\"print(myoutputstrict[stringid])\")\n",
    "                                # significant:\n",
    "                                ro.r(\"stringidsig <- grep(\\\"may differ between Groups\\\", myoutputstrict)\")\n",
    "                                ro.r(\"print(myoutputstrict[stringidsig])\")\n",
    "                        else:\n",
    "                            print('STRICT N/A')\n",
    "                            strict_p = 'NA'\n",
    "                    else:\n",
    "                        print('SCALAR N/A')\n",
    "                        print('STRICT N/A')\n",
    "                        scalar_p = 'NA'\n",
    "                        strict_p = 'NA'\n",
    "                else:\n",
    "                    print('METRIC N/A')\n",
    "                    print('SCALAR N/A')\n",
    "                    print('STRICT N/A')\n",
    "                    metric_p = 'NA'\n",
    "                    scalar_p = 'NA'\n",
    "                    strict_p = 'NA'\n",
    "    print(\"DONE\")\n",
    "    return(0)"
   ]
  },
  {
   "cell_type": "code",
   "execution_count": 89,
   "id": "37f96b65-8f37-4ee7-8d66-2f32943e6edf",
   "metadata": {},
   "outputs": [
    {
     "name": "stderr",
     "output_type": "stream",
     "text": [
      "R[write to console]: No AFIs were selected, so only chi-squared will be permuted.\n",
      "\n",
      "\n"
     ]
    },
    {
     "name": "stdout",
     "output_type": "stream",
     "text": [
      "Item to remove: hitop39\n",
      "anhedonic_depression =~hitop77 + hitop84 + hitop92 + hitop93 + hitop123 + hitop157 + hitop182 + hitop230 + hitop246\n"
     ]
    },
    {
     "name": "stderr",
     "output_type": "stream",
     "text": [
      "R[write to console]: No AFIs were selected, so only chi-squared will be permuted.\n",
      "\n",
      "\n"
     ]
    },
    {
     "name": "stdout",
     "output_type": "stream",
     "text": [
      "0.742\n",
      "Item to remove: hitop84\n",
      "anhedonic_depression =~hitop39 + hitop77 + hitop92 + hitop93 + hitop123 + hitop157 + hitop182 + hitop230 + hitop246\n"
     ]
    },
    {
     "name": "stderr",
     "output_type": "stream",
     "text": [
      "R[write to console]: No AFIs were selected, so only chi-squared will be permuted.\n",
      "\n",
      "\n"
     ]
    },
    {
     "name": "stdout",
     "output_type": "stream",
     "text": [
      "0.873\n",
      "Item to remove: hitop92\n",
      "anhedonic_depression =~hitop39 + hitop77 + hitop84 + hitop93 + hitop123 + hitop157 + hitop182 + hitop230 + hitop246\n"
     ]
    },
    {
     "name": "stderr",
     "output_type": "stream",
     "text": [
      "R[write to console]: No AFIs were selected, so only chi-squared will be permuted.\n",
      "\n",
      "\n"
     ]
    },
    {
     "name": "stdout",
     "output_type": "stream",
     "text": [
      "0.539\n",
      "Item to remove: hitop93\n",
      "anhedonic_depression =~hitop39 + hitop77 + hitop84 + hitop92 + hitop123 + hitop157 + hitop182 + hitop230 + hitop246\n"
     ]
    },
    {
     "name": "stderr",
     "output_type": "stream",
     "text": [
      "R[write to console]: No AFIs were selected, so only chi-squared will be permuted.\n",
      "\n",
      "\n"
     ]
    },
    {
     "name": "stdout",
     "output_type": "stream",
     "text": [
      "0.395\n",
      "Item to remove: hitop123\n",
      "anhedonic_depression =~hitop39 + hitop77 + hitop84 + hitop92 + hitop93 + hitop157 + hitop182 + hitop230 + hitop246\n"
     ]
    },
    {
     "name": "stderr",
     "output_type": "stream",
     "text": [
      "R[write to console]: No AFIs were selected, so only chi-squared will be permuted.\n",
      "\n",
      "\n"
     ]
    },
    {
     "name": "stdout",
     "output_type": "stream",
     "text": [
      "0.999\n",
      "Item to remove: hitop157\n",
      "anhedonic_depression =~hitop39 + hitop77 + hitop84 + hitop92 + hitop93 + hitop123 + hitop182 + hitop230 + hitop246\n"
     ]
    },
    {
     "name": "stderr",
     "output_type": "stream",
     "text": [
      "R[write to console]: No AFIs were selected, so only chi-squared will be permuted.\n",
      "\n",
      "\n"
     ]
    },
    {
     "name": "stdout",
     "output_type": "stream",
     "text": [
      "0.198\n",
      "Item to remove: hitop182\n",
      "anhedonic_depression =~hitop39 + hitop77 + hitop84 + hitop92 + hitop93 + hitop123 + hitop157 + hitop230 + hitop246\n"
     ]
    },
    {
     "name": "stderr",
     "output_type": "stream",
     "text": [
      "R[write to console]: No AFIs were selected, so only chi-squared will be permuted.\n",
      "\n",
      "\n"
     ]
    },
    {
     "name": "stdout",
     "output_type": "stream",
     "text": [
      "0.765\n",
      "Item to remove: hitop230\n",
      "anhedonic_depression =~hitop39 + hitop77 + hitop84 + hitop92 + hitop93 + hitop123 + hitop157 + hitop182 + hitop246\n"
     ]
    },
    {
     "name": "stderr",
     "output_type": "stream",
     "text": [
      "R[write to console]: No AFIs were selected, so only chi-squared will be permuted.\n",
      "\n",
      "\n"
     ]
    },
    {
     "name": "stdout",
     "output_type": "stream",
     "text": [
      "0.888\n",
      "Item to remove: hitop246\n",
      "anhedonic_depression =~hitop39 + hitop77 + hitop84 + hitop92 + hitop93 + hitop123 + hitop157 + hitop182 + hitop230\n",
      "0.876\n"
     ]
    }
   ],
   "source": [
    "# experimenting; to delete later\n",
    "\n",
    "mdl_strs_new = {'anhedonic_depression': 'anhedonic_depression =~hitop39 + hitop77 + hitop84 + hitop92 + hitop93 + hitop123 + hitop157 + hitop182 + hitop230 + hitop246',\n",
    "     'anxious_worry': 'anxious_worry =~hitop20 + hitop34 + hitop89 + hitop203 + hitop248 + hitop265',\n",
    "     'appetite_gain': 'appetite_gain =~hitop120 + hitop141 + hitop243 + hitop275',\n",
    "     'hyposomnia': 'hyposomnia =~hitop99 + hitop181 + hitop5 + hitop66 + hitop231',\n",
    "     'insomnia': 'insomnia =~hitop160 + hitop254 + hitop261 + hitop268',\n",
    "     'panic': 'panic =~hitop15 + hitop104 + hitop126 + hitop211 + hitop215 + hitop257',\n",
    "     'separation_insecurity': 'separation_insecurity =~hitop40 + hitop50 + hitop69 + hitop81 + hitop113 + hitop136 + hitop151 + hitop197',\n",
    "     'shame_guilt': 'shame_guilt =~hitop72 + hitop140 + hitop143 + hitop220',\n",
    "     'situational_phobia': 'situational_phobia =~hitop16 + hitop165 + hitop225 + hitop247 + hitop278',\n",
    "     'social_anxiety': 'social_anxiety =~hitop1 + hitop17 + hitop114 + hitop117 + hitop124 + hitop129 + hitop204 + hitop222 + hitop236 + hitop258',\n",
    "     'well_being': 'well_being =~hitop9 + hitop23 + hitop54 + hitop106 + hitop149 + hitop200 + hitop244 + hitop245 + hitop250 + hitop281'}\n",
    "cln_ss = 'anhedonic_depression'\n",
    "\n",
    "temp_items = mdl_strs_new[cln_ss]\n",
    "temp_items_items = temp_items.split(\"=~\",1)[1]\n",
    "temp_items_items_items = temp_items_items.split(\" + \")\n",
    "list_of_items = temp_items_items_items\n",
    "\n",
    "for item in list_of_items:\n",
    "    print('Item to remove: ' + item)\n",
    "    mynewstring = temp_items.split(\"=~\",1)[0] + \"=~\"\n",
    "    temp_items_items_items.remove(item)\n",
    "    for x in temp_items_items_items:\n",
    "        mynewstring += x + ' + '\n",
    "    temp_items_items_items = temp_items_items.split(\" + \")\n",
    "    mynewstring = mynewstring[:-3]\n",
    "    #print(mynewstring)\n",
    "    #mynewstring = temp_items.split(\"=~\",1)[0] + \"=~\"\n",
    "    print(mynewstring)\n",
    "\n",
    "    ro.globalenv[cln_ss+'_mdl'] = mynewstring           \n",
    "            \n",
    "    fit_config = ro.r(f'cfa({cln_ss}_mdl, data = rdata, group = group, estimator = \"WLSMV\")')\n",
    "    ro.globalenv['fit_config'] = fit_config        \n",
    "    out_config = semtools.permuteMeasEq(nPermute=1000, # 100 for now, 1000 for the \"real\" run\n",
    "                                                        con=fit_config, # In the case of testing configural invariance when modelType = \"mgcfa\", con is the configural model (implicitly, the unconstrained model is the saturated model, so use the defaults uncon = NULL and param = NULL).\n",
    "                                                        parallelType=\"multicore\", ncpus=4)\n",
    "    config_p = extract_p(out_config)\n",
    "    print(config_p)"
   ]
  },
  {
   "cell_type": "markdown",
   "id": "31e16d1b-5779-46f3-af36-8930a9f536f3",
   "metadata": {},
   "source": [
    "# Run Main Code"
   ]
  },
  {
   "cell_type": "code",
   "execution_count": 15,
   "id": "140e8e45-d28b-4aca-91c5-be54977a9073",
   "metadata": {},
   "outputs": [
    {
     "name": "stderr",
     "output_type": "stream",
     "text": [
      "/Users/zeleninam2/Documents/projects/hitop/2-analysis-CFA/env/lib/python3.9/site-packages/openpyxl/worksheet/_read_only.py:81: UserWarning: Unknown extension is not supported and will be removed\n",
      "  for idx, row in parser.parse():\n"
     ]
    },
    {
     "data": {
      "text/html": [
       "<div>\n",
       "<style scoped>\n",
       "    .dataframe tbody tr th:only-of-type {\n",
       "        vertical-align: middle;\n",
       "    }\n",
       "\n",
       "    .dataframe tbody tr th {\n",
       "        vertical-align: top;\n",
       "    }\n",
       "\n",
       "    .dataframe thead th {\n",
       "        text-align: right;\n",
       "    }\n",
       "</style>\n",
       "<table border=\"1\" class=\"dataframe\">\n",
       "  <thead>\n",
       "    <tr style=\"text-align: right;\">\n",
       "      <th></th>\n",
       "      <th>id_cm</th>\n",
       "      <th>subscale</th>\n",
       "      <th>item</th>\n",
       "      <th>id_ht</th>\n",
       "      <th>htid</th>\n",
       "    </tr>\n",
       "  </thead>\n",
       "  <tbody>\n",
       "    <tr>\n",
       "      <th>0</th>\n",
       "      <td>3.0</td>\n",
       "      <td>anhedonic depression</td>\n",
       "      <td>I had very little energy.</td>\n",
       "      <td>157</td>\n",
       "      <td>hitop157</td>\n",
       "    </tr>\n",
       "    <tr>\n",
       "      <th>1</th>\n",
       "      <td>9.0</td>\n",
       "      <td>separation insecurity</td>\n",
       "      <td>I worried that others would abandon me.</td>\n",
       "      <td>81</td>\n",
       "      <td>hitop81</td>\n",
       "    </tr>\n",
       "    <tr>\n",
       "      <th>2</th>\n",
       "      <td>16.0</td>\n",
       "      <td>anxious worry</td>\n",
       "      <td>Thoughts were racing through my head.</td>\n",
       "      <td>34</td>\n",
       "      <td>hitop34</td>\n",
       "    </tr>\n",
       "    <tr>\n",
       "      <th>3</th>\n",
       "      <td>19.0</td>\n",
       "      <td>well-being</td>\n",
       "      <td>It was easy for me to laugh.</td>\n",
       "      <td>54</td>\n",
       "      <td>hitop54</td>\n",
       "    </tr>\n",
       "    <tr>\n",
       "      <th>4</th>\n",
       "      <td>23.0</td>\n",
       "      <td>appetite gain</td>\n",
       "      <td>I stuffed myself with food.</td>\n",
       "      <td>243</td>\n",
       "      <td>hitop243</td>\n",
       "    </tr>\n",
       "    <tr>\n",
       "      <th>5</th>\n",
       "      <td>27.0</td>\n",
       "      <td>anhedonic depression</td>\n",
       "      <td>I was unable to enjoy things like I normally do.</td>\n",
       "      <td>182</td>\n",
       "      <td>hitop182</td>\n",
       "    </tr>\n",
       "    <tr>\n",
       "      <th>6</th>\n",
       "      <td>28.0</td>\n",
       "      <td>separation insecurity</td>\n",
       "      <td>I wanted other people to take care of me.</td>\n",
       "      <td>69</td>\n",
       "      <td>hitop69</td>\n",
       "    </tr>\n",
       "    <tr>\n",
       "      <th>7</th>\n",
       "      <td>41.0</td>\n",
       "      <td>anxious worry</td>\n",
       "      <td>I had a lot of nervous energy.</td>\n",
       "      <td>89</td>\n",
       "      <td>hitop89</td>\n",
       "    </tr>\n",
       "    <tr>\n",
       "      <th>8</th>\n",
       "      <td>43.0</td>\n",
       "      <td>separation insecurity</td>\n",
       "      <td>I wanted someone else to make decisions for me.</td>\n",
       "      <td>50</td>\n",
       "      <td>hitop50</td>\n",
       "    </tr>\n",
       "    <tr>\n",
       "      <th>9</th>\n",
       "      <td>47.0</td>\n",
       "      <td>social anxiety</td>\n",
       "      <td>I avoided performing or giving a talk in front of others.</td>\n",
       "      <td>129</td>\n",
       "      <td>hitop129</td>\n",
       "    </tr>\n",
       "    <tr>\n",
       "      <th>10</th>\n",
       "      <td>49.0</td>\n",
       "      <td>anxious worry</td>\n",
       "      <td>I was overwhelmed by anxiety.</td>\n",
       "      <td>265</td>\n",
       "      <td>hitop265</td>\n",
       "    </tr>\n",
       "    <tr>\n",
       "      <th>11</th>\n",
       "      <td>59.0</td>\n",
       "      <td>social anxiety</td>\n",
       "      <td>I avoided situations in which others were likely to watch me.</td>\n",
       "      <td>124</td>\n",
       "      <td>hitop124</td>\n",
       "    </tr>\n",
       "    <tr>\n",
       "      <th>12</th>\n",
       "      <td>60.0</td>\n",
       "      <td>hyposomnia</td>\n",
       "      <td>I felt like I could go for days without sleeping.</td>\n",
       "      <td>231</td>\n",
       "      <td>hitop231</td>\n",
       "    </tr>\n",
       "    <tr>\n",
       "      <th>13</th>\n",
       "      <td>65.0</td>\n",
       "      <td>anhedonic depression</td>\n",
       "      <td>Nothing seemed interesting to me.</td>\n",
       "      <td>93</td>\n",
       "      <td>hitop93</td>\n",
       "    </tr>\n",
       "    <tr>\n",
       "      <th>14</th>\n",
       "      <td>74.0</td>\n",
       "      <td>well-being</td>\n",
       "      <td>I looked forward to things with enjoyment.</td>\n",
       "      <td>245</td>\n",
       "      <td>hitop245</td>\n",
       "    </tr>\n",
       "    <tr>\n",
       "      <th>15</th>\n",
       "      <td>79.0</td>\n",
       "      <td>well-being</td>\n",
       "      <td>I felt that I had a lot to look forward to.</td>\n",
       "      <td>281</td>\n",
       "      <td>hitop281</td>\n",
       "    </tr>\n",
       "    <tr>\n",
       "      <th>16</th>\n",
       "      <td>80.0</td>\n",
       "      <td>appetite gain</td>\n",
       "      <td>I thought a lot about food.</td>\n",
       "      <td>141</td>\n",
       "      <td>hitop141</td>\n",
       "    </tr>\n",
       "    <tr>\n",
       "      <th>17</th>\n",
       "      <td>82.0</td>\n",
       "      <td>separation insecurity</td>\n",
       "      <td>I felt insecure about important relationships in my life.</td>\n",
       "      <td>40</td>\n",
       "      <td>hitop40</td>\n",
       "    </tr>\n",
       "    <tr>\n",
       "      <th>18</th>\n",
       "      <td>89.0</td>\n",
       "      <td>social anxiety</td>\n",
       "      <td>I felt uncomfortable being the center of attention.</td>\n",
       "      <td>204</td>\n",
       "      <td>hitop204</td>\n",
       "    </tr>\n",
       "    <tr>\n",
       "      <th>19</th>\n",
       "      <td>90.0</td>\n",
       "      <td>indecisiveness</td>\n",
       "      <td>I was indecisive.</td>\n",
       "      <td>21</td>\n",
       "      <td>hitop21</td>\n",
       "    </tr>\n",
       "    <tr>\n",
       "      <th>20</th>\n",
       "      <td>91.0</td>\n",
       "      <td>social anxiety</td>\n",
       "      <td>I felt self-conscious around others.</td>\n",
       "      <td>236</td>\n",
       "      <td>hitop236</td>\n",
       "    </tr>\n",
       "    <tr>\n",
       "      <th>21</th>\n",
       "      <td>96.0</td>\n",
       "      <td>appetite loss</td>\n",
       "      <td>My appetite was poor.</td>\n",
       "      <td>280</td>\n",
       "      <td>hitop280</td>\n",
       "    </tr>\n",
       "    <tr>\n",
       "      <th>22</th>\n",
       "      <td>99.0</td>\n",
       "      <td>anhedonic depression</td>\n",
       "      <td>I felt depressed.</td>\n",
       "      <td>84</td>\n",
       "      <td>hitop84</td>\n",
       "    </tr>\n",
       "    <tr>\n",
       "      <th>23</th>\n",
       "      <td>102.0</td>\n",
       "      <td>appetite gain</td>\n",
       "      <td>I could not keep myself from eating.</td>\n",
       "      <td>120</td>\n",
       "      <td>hitop120</td>\n",
       "    </tr>\n",
       "    <tr>\n",
       "      <th>24</th>\n",
       "      <td>109.0</td>\n",
       "      <td>anhedonic depression</td>\n",
       "      <td>I didn’t look forward to seeing friends or family.</td>\n",
       "      <td>77</td>\n",
       "      <td>hitop77</td>\n",
       "    </tr>\n",
       "    <tr>\n",
       "      <th>25</th>\n",
       "      <td>119.0</td>\n",
       "      <td>anhedonic depression</td>\n",
       "      <td>It took a lot of effort to do everyday activities.</td>\n",
       "      <td>92</td>\n",
       "      <td>hitop92</td>\n",
       "    </tr>\n",
       "    <tr>\n",
       "      <th>26</th>\n",
       "      <td>121.0</td>\n",
       "      <td>social anxiety</td>\n",
       "      <td>I found it difficult to speak up in front of others.</td>\n",
       "      <td>258</td>\n",
       "      <td>hitop258</td>\n",
       "    </tr>\n",
       "    <tr>\n",
       "      <th>27</th>\n",
       "      <td>124.0</td>\n",
       "      <td>anhedonic depression</td>\n",
       "      <td>It felt like there wasn’t anything interesting or fun to do.</td>\n",
       "      <td>39</td>\n",
       "      <td>hitop39</td>\n",
       "    </tr>\n",
       "    <tr>\n",
       "      <th>28</th>\n",
       "      <td>126.0</td>\n",
       "      <td>insomnia</td>\n",
       "      <td>I slept very poorly.</td>\n",
       "      <td>254</td>\n",
       "      <td>hitop254</td>\n",
       "    </tr>\n",
       "    <tr>\n",
       "      <th>29</th>\n",
       "      <td>133.0</td>\n",
       "      <td>panic</td>\n",
       "      <td>My hands were cold or sweaty.</td>\n",
       "      <td>215</td>\n",
       "      <td>hitop215</td>\n",
       "    </tr>\n",
       "    <tr>\n",
       "      <th>30</th>\n",
       "      <td>134.0</td>\n",
       "      <td>indecisiveness</td>\n",
       "      <td>I had trouble making up my mind.</td>\n",
       "      <td>95</td>\n",
       "      <td>hitop95</td>\n",
       "    </tr>\n",
       "    <tr>\n",
       "      <th>31</th>\n",
       "      <td>139.0</td>\n",
       "      <td>well-being</td>\n",
       "      <td>I was proud of myself.</td>\n",
       "      <td>106</td>\n",
       "      <td>hitop106</td>\n",
       "    </tr>\n",
       "    <tr>\n",
       "      <th>32</th>\n",
       "      <td>151.0</td>\n",
       "      <td>appetite loss</td>\n",
       "      <td>I lost a significant amount of weight without even trying.</td>\n",
       "      <td>283</td>\n",
       "      <td>hitop283</td>\n",
       "    </tr>\n",
       "    <tr>\n",
       "      <th>33</th>\n",
       "      <td>152.0</td>\n",
       "      <td>situational phobia</td>\n",
       "      <td>I avoided riding in elevators.</td>\n",
       "      <td>16</td>\n",
       "      <td>hitop16</td>\n",
       "    </tr>\n",
       "    <tr>\n",
       "      <th>34</th>\n",
       "      <td>158.0</td>\n",
       "      <td>anxious worry</td>\n",
       "      <td>I felt tense.</td>\n",
       "      <td>20</td>\n",
       "      <td>hitop20</td>\n",
       "    </tr>\n",
       "    <tr>\n",
       "      <th>35</th>\n",
       "      <td>162.0</td>\n",
       "      <td>cognitive problems</td>\n",
       "      <td>I was easily distracted.</td>\n",
       "      <td>189</td>\n",
       "      <td>hitop189</td>\n",
       "    </tr>\n",
       "    <tr>\n",
       "      <th>36</th>\n",
       "      <td>163.0</td>\n",
       "      <td>social anxiety</td>\n",
       "      <td>I felt shy around other people.</td>\n",
       "      <td>1</td>\n",
       "      <td>hitop1</td>\n",
       "    </tr>\n",
       "    <tr>\n",
       "      <th>37</th>\n",
       "      <td>165.0</td>\n",
       "      <td>separation insecurity</td>\n",
       "      <td>I often felt jealous.</td>\n",
       "      <td>136</td>\n",
       "      <td>hitop136</td>\n",
       "    </tr>\n",
       "    <tr>\n",
       "      <th>38</th>\n",
       "      <td>175.0</td>\n",
       "      <td>anhedonic depression</td>\n",
       "      <td>I was a lot less talkative than usual.</td>\n",
       "      <td>246</td>\n",
       "      <td>hitop246</td>\n",
       "    </tr>\n",
       "    <tr>\n",
       "      <th>39</th>\n",
       "      <td>177.0</td>\n",
       "      <td>anxious worry</td>\n",
       "      <td>I worried about almost everything.</td>\n",
       "      <td>248</td>\n",
       "      <td>hitop248</td>\n",
       "    </tr>\n",
       "    <tr>\n",
       "      <th>40</th>\n",
       "      <td>179.0</td>\n",
       "      <td>panic</td>\n",
       "      <td>I felt dizzy or lightheaded.</td>\n",
       "      <td>257</td>\n",
       "      <td>hitop257</td>\n",
       "    </tr>\n",
       "    <tr>\n",
       "      <th>41</th>\n",
       "      <td>183.0</td>\n",
       "      <td>social anxiety</td>\n",
       "      <td>I had difficulty making eye contact with others.</td>\n",
       "      <td>114</td>\n",
       "      <td>hitop114</td>\n",
       "    </tr>\n",
       "    <tr>\n",
       "      <th>42</th>\n",
       "      <td>184.0</td>\n",
       "      <td>social anxiety</td>\n",
       "      <td>I felt socially awkward.</td>\n",
       "      <td>117</td>\n",
       "      <td>hitop117</td>\n",
       "    </tr>\n",
       "    <tr>\n",
       "      <th>43</th>\n",
       "      <td>192.0</td>\n",
       "      <td>well-being</td>\n",
       "      <td>I felt like I had a lot of interesting things to do.</td>\n",
       "      <td>250</td>\n",
       "      <td>hitop250</td>\n",
       "    </tr>\n",
       "    <tr>\n",
       "      <th>44</th>\n",
       "      <td>203.0</td>\n",
       "      <td>well-being</td>\n",
       "      <td>I found compliments very encouraging.</td>\n",
       "      <td>200</td>\n",
       "      <td>hitop200</td>\n",
       "    </tr>\n",
       "    <tr>\n",
       "      <th>45</th>\n",
       "      <td>224.0</td>\n",
       "      <td>insomnia</td>\n",
       "      <td>I had trouble staying asleep.</td>\n",
       "      <td>160</td>\n",
       "      <td>hitop160</td>\n",
       "    </tr>\n",
       "    <tr>\n",
       "      <th>46</th>\n",
       "      <td>227.0</td>\n",
       "      <td>well-being</td>\n",
       "      <td>I felt cheerful.</td>\n",
       "      <td>23</td>\n",
       "      <td>hitop23</td>\n",
       "    </tr>\n",
       "    <tr>\n",
       "      <th>47</th>\n",
       "      <td>230.0</td>\n",
       "      <td>situational phobia</td>\n",
       "      <td>I was afraid of flying.</td>\n",
       "      <td>165</td>\n",
       "      <td>hitop165</td>\n",
       "    </tr>\n",
       "    <tr>\n",
       "      <th>48</th>\n",
       "      <td>234.0</td>\n",
       "      <td>well-being</td>\n",
       "      <td>I felt optimistic.</td>\n",
       "      <td>244</td>\n",
       "      <td>hitop244</td>\n",
       "    </tr>\n",
       "    <tr>\n",
       "      <th>49</th>\n",
       "      <td>236.0</td>\n",
       "      <td>well-being</td>\n",
       "      <td>I felt like I was having a lot of fun.</td>\n",
       "      <td>9</td>\n",
       "      <td>hitop9</td>\n",
       "    </tr>\n",
       "    <tr>\n",
       "      <th>50</th>\n",
       "      <td>238.0</td>\n",
       "      <td>cognitive problems</td>\n",
       "      <td>I had trouble remembering things.</td>\n",
       "      <td>142</td>\n",
       "      <td>hitop142</td>\n",
       "    </tr>\n",
       "    <tr>\n",
       "      <th>51</th>\n",
       "      <td>244.0</td>\n",
       "      <td>anhedonic depression</td>\n",
       "      <td>I felt emotionally numb.</td>\n",
       "      <td>230</td>\n",
       "      <td>hitop230</td>\n",
       "    </tr>\n",
       "    <tr>\n",
       "      <th>52</th>\n",
       "      <td>247.0</td>\n",
       "      <td>well-being</td>\n",
       "      <td>I felt good about myself.</td>\n",
       "      <td>149</td>\n",
       "      <td>hitop149</td>\n",
       "    </tr>\n",
       "    <tr>\n",
       "      <th>53</th>\n",
       "      <td>253.0</td>\n",
       "      <td>situational phobia</td>\n",
       "      <td>I was afraid of heights.</td>\n",
       "      <td>247</td>\n",
       "      <td>hitop247</td>\n",
       "    </tr>\n",
       "    <tr>\n",
       "      <th>54</th>\n",
       "      <td>264.0</td>\n",
       "      <td>hyposomnia</td>\n",
       "      <td>I needed much less sleep than usual.</td>\n",
       "      <td>99</td>\n",
       "      <td>hitop99</td>\n",
       "    </tr>\n",
       "    <tr>\n",
       "      <th>55</th>\n",
       "      <td>268.0</td>\n",
       "      <td>hyposomnia</td>\n",
       "      <td>I did not feel tired, even though I was sleeping less than usual.</td>\n",
       "      <td>66</td>\n",
       "      <td>hitop66</td>\n",
       "    </tr>\n",
       "    <tr>\n",
       "      <th>56</th>\n",
       "      <td>277.0</td>\n",
       "      <td>social anxiety</td>\n",
       "      <td>I was uncomfortable entering a room when others already were present.</td>\n",
       "      <td>222</td>\n",
       "      <td>hitop222</td>\n",
       "    </tr>\n",
       "    <tr>\n",
       "      <th>57</th>\n",
       "      <td>283.0</td>\n",
       "      <td>indecisiveness</td>\n",
       "      <td>It was difficult for me to make decisions.</td>\n",
       "      <td>90</td>\n",
       "      <td>hitop90</td>\n",
       "    </tr>\n",
       "    <tr>\n",
       "      <th>58</th>\n",
       "      <td>288.0</td>\n",
       "      <td>separation insecurity</td>\n",
       "      <td>I could not handle rejection.</td>\n",
       "      <td>113</td>\n",
       "      <td>hitop113</td>\n",
       "    </tr>\n",
       "    <tr>\n",
       "      <th>59</th>\n",
       "      <td>290.0</td>\n",
       "      <td>situational phobia</td>\n",
       "      <td>I became very anxious during a storm.</td>\n",
       "      <td>278</td>\n",
       "      <td>hitop278</td>\n",
       "    </tr>\n",
       "    <tr>\n",
       "      <th>60</th>\n",
       "      <td>297.0</td>\n",
       "      <td>anxious worry</td>\n",
       "      <td>I felt very stressed.</td>\n",
       "      <td>203</td>\n",
       "      <td>hitop203</td>\n",
       "    </tr>\n",
       "    <tr>\n",
       "      <th>61</th>\n",
       "      <td>300.0</td>\n",
       "      <td>cognitive problems</td>\n",
       "      <td>I was unable to keep my mind on what I was doing.</td>\n",
       "      <td>159</td>\n",
       "      <td>hitop159</td>\n",
       "    </tr>\n",
       "    <tr>\n",
       "      <th>62</th>\n",
       "      <td>301.0</td>\n",
       "      <td>anhedonic depression</td>\n",
       "      <td>Nothing made me laugh.</td>\n",
       "      <td>123</td>\n",
       "      <td>hitop123</td>\n",
       "    </tr>\n",
       "    <tr>\n",
       "      <th>63</th>\n",
       "      <td>303.0</td>\n",
       "      <td>appetite gain</td>\n",
       "      <td>I ate even when I was not really hungry.</td>\n",
       "      <td>275</td>\n",
       "      <td>hitop275</td>\n",
       "    </tr>\n",
       "    <tr>\n",
       "      <th>64</th>\n",
       "      <td>304.0</td>\n",
       "      <td>insomnia</td>\n",
       "      <td>I lay awake for a long time before falling asleep.</td>\n",
       "      <td>268</td>\n",
       "      <td>hitop268</td>\n",
       "    </tr>\n",
       "    <tr>\n",
       "      <th>65</th>\n",
       "      <td>305.0</td>\n",
       "      <td>situational phobia</td>\n",
       "      <td>I was afraid of the dark.</td>\n",
       "      <td>225</td>\n",
       "      <td>hitop225</td>\n",
       "    </tr>\n",
       "    <tr>\n",
       "      <th>66</th>\n",
       "      <td>306.0</td>\n",
       "      <td>shame/guilt</td>\n",
       "      <td>I felt guilty.</td>\n",
       "      <td>143</td>\n",
       "      <td>hitop143</td>\n",
       "    </tr>\n",
       "    <tr>\n",
       "      <th>67</th>\n",
       "      <td>308.0</td>\n",
       "      <td>separation insecurity</td>\n",
       "      <td>I felt that I needed the approval of others.</td>\n",
       "      <td>151</td>\n",
       "      <td>hitop151</td>\n",
       "    </tr>\n",
       "    <tr>\n",
       "      <th>68</th>\n",
       "      <td>315.0</td>\n",
       "      <td>hyposomnia</td>\n",
       "      <td>I felt like I could keep going and going without ever getting tired.</td>\n",
       "      <td>181</td>\n",
       "      <td>hitop181</td>\n",
       "    </tr>\n",
       "    <tr>\n",
       "      <th>69</th>\n",
       "      <td>320.0</td>\n",
       "      <td>panic</td>\n",
       "      <td>I was trembling or shaking.</td>\n",
       "      <td>211</td>\n",
       "      <td>hitop211</td>\n",
       "    </tr>\n",
       "    <tr>\n",
       "      <th>70</th>\n",
       "      <td>321.0</td>\n",
       "      <td>social anxiety</td>\n",
       "      <td>I was uncomfortable meeting new people.</td>\n",
       "      <td>17</td>\n",
       "      <td>hitop17</td>\n",
       "    </tr>\n",
       "    <tr>\n",
       "      <th>71</th>\n",
       "      <td>323.0</td>\n",
       "      <td>panic</td>\n",
       "      <td>My heart was racing or pounding.</td>\n",
       "      <td>126</td>\n",
       "      <td>hitop126</td>\n",
       "    </tr>\n",
       "    <tr>\n",
       "      <th>72</th>\n",
       "      <td>332.0</td>\n",
       "      <td>hyposomnia</td>\n",
       "      <td>I had days when I never got tired.</td>\n",
       "      <td>5</td>\n",
       "      <td>hitop5</td>\n",
       "    </tr>\n",
       "    <tr>\n",
       "      <th>73</th>\n",
       "      <td>339.0</td>\n",
       "      <td>insomnia</td>\n",
       "      <td>I woke up early and could not get back to sleep.</td>\n",
       "      <td>261</td>\n",
       "      <td>hitop261</td>\n",
       "    </tr>\n",
       "    <tr>\n",
       "      <th>74</th>\n",
       "      <td>340.0</td>\n",
       "      <td>shame/guilt</td>\n",
       "      <td>I felt ashamed of things I had done.</td>\n",
       "      <td>220</td>\n",
       "      <td>hitop220</td>\n",
       "    </tr>\n",
       "    <tr>\n",
       "      <th>75</th>\n",
       "      <td>344.0</td>\n",
       "      <td>panic</td>\n",
       "      <td>I was short of breath.</td>\n",
       "      <td>15</td>\n",
       "      <td>hitop15</td>\n",
       "    </tr>\n",
       "    <tr>\n",
       "      <th>76</th>\n",
       "      <td>369.0</td>\n",
       "      <td>shame/guilt</td>\n",
       "      <td>I was disgusted with myself.</td>\n",
       "      <td>72</td>\n",
       "      <td>hitop72</td>\n",
       "    </tr>\n",
       "    <tr>\n",
       "      <th>77</th>\n",
       "      <td>373.0</td>\n",
       "      <td>shame/guilt</td>\n",
       "      <td>I blamed myself for things.</td>\n",
       "      <td>140</td>\n",
       "      <td>hitop140</td>\n",
       "    </tr>\n",
       "    <tr>\n",
       "      <th>78</th>\n",
       "      <td>384.0</td>\n",
       "      <td>appetite loss</td>\n",
       "      <td>I did not feel much like eating.</td>\n",
       "      <td>109</td>\n",
       "      <td>hitop109</td>\n",
       "    </tr>\n",
       "    <tr>\n",
       "      <th>79</th>\n",
       "      <td>389.0</td>\n",
       "      <td>separation insecurity</td>\n",
       "      <td>I could not stand being alone.</td>\n",
       "      <td>197</td>\n",
       "      <td>hitop197</td>\n",
       "    </tr>\n",
       "    <tr>\n",
       "      <th>80</th>\n",
       "      <td>391.0</td>\n",
       "      <td>panic</td>\n",
       "      <td>I felt nauseated.</td>\n",
       "      <td>104</td>\n",
       "      <td>hitop104</td>\n",
       "    </tr>\n",
       "  </tbody>\n",
       "</table>\n",
       "</div>"
      ],
      "text/plain": [
       "    id_cm               subscale  \\\n",
       "0     3.0   anhedonic depression   \n",
       "1     9.0  separation insecurity   \n",
       "2    16.0          anxious worry   \n",
       "3    19.0             well-being   \n",
       "4    23.0          appetite gain   \n",
       "5    27.0   anhedonic depression   \n",
       "6    28.0  separation insecurity   \n",
       "7    41.0          anxious worry   \n",
       "8    43.0  separation insecurity   \n",
       "9    47.0         social anxiety   \n",
       "10   49.0          anxious worry   \n",
       "11   59.0         social anxiety   \n",
       "12   60.0             hyposomnia   \n",
       "13   65.0   anhedonic depression   \n",
       "14   74.0             well-being   \n",
       "15   79.0             well-being   \n",
       "16   80.0          appetite gain   \n",
       "17   82.0  separation insecurity   \n",
       "18   89.0         social anxiety   \n",
       "19   90.0         indecisiveness   \n",
       "20   91.0         social anxiety   \n",
       "21   96.0          appetite loss   \n",
       "22   99.0   anhedonic depression   \n",
       "23  102.0          appetite gain   \n",
       "24  109.0   anhedonic depression   \n",
       "25  119.0   anhedonic depression   \n",
       "26  121.0         social anxiety   \n",
       "27  124.0   anhedonic depression   \n",
       "28  126.0               insomnia   \n",
       "29  133.0                  panic   \n",
       "30  134.0         indecisiveness   \n",
       "31  139.0             well-being   \n",
       "32  151.0          appetite loss   \n",
       "33  152.0     situational phobia   \n",
       "34  158.0          anxious worry   \n",
       "35  162.0     cognitive problems   \n",
       "36  163.0         social anxiety   \n",
       "37  165.0  separation insecurity   \n",
       "38  175.0   anhedonic depression   \n",
       "39  177.0          anxious worry   \n",
       "40  179.0                  panic   \n",
       "41  183.0         social anxiety   \n",
       "42  184.0         social anxiety   \n",
       "43  192.0             well-being   \n",
       "44  203.0             well-being   \n",
       "45  224.0               insomnia   \n",
       "46  227.0             well-being   \n",
       "47  230.0     situational phobia   \n",
       "48  234.0             well-being   \n",
       "49  236.0             well-being   \n",
       "50  238.0     cognitive problems   \n",
       "51  244.0   anhedonic depression   \n",
       "52  247.0             well-being   \n",
       "53  253.0     situational phobia   \n",
       "54  264.0             hyposomnia   \n",
       "55  268.0             hyposomnia   \n",
       "56  277.0         social anxiety   \n",
       "57  283.0         indecisiveness   \n",
       "58  288.0  separation insecurity   \n",
       "59  290.0     situational phobia   \n",
       "60  297.0          anxious worry   \n",
       "61  300.0     cognitive problems   \n",
       "62  301.0   anhedonic depression   \n",
       "63  303.0          appetite gain   \n",
       "64  304.0               insomnia   \n",
       "65  305.0     situational phobia   \n",
       "66  306.0            shame/guilt   \n",
       "67  308.0  separation insecurity   \n",
       "68  315.0             hyposomnia   \n",
       "69  320.0                  panic   \n",
       "70  321.0         social anxiety   \n",
       "71  323.0                  panic   \n",
       "72  332.0             hyposomnia   \n",
       "73  339.0               insomnia   \n",
       "74  340.0            shame/guilt   \n",
       "75  344.0                  panic   \n",
       "76  369.0            shame/guilt   \n",
       "77  373.0            shame/guilt   \n",
       "78  384.0          appetite loss   \n",
       "79  389.0  separation insecurity   \n",
       "80  391.0                  panic   \n",
       "\n",
       "                                                                     item  \\\n",
       "0                                               I had very little energy.   \n",
       "1                                 I worried that others would abandon me.   \n",
       "2                                   Thoughts were racing through my head.   \n",
       "3                                            It was easy for me to laugh.   \n",
       "4                                             I stuffed myself with food.   \n",
       "5                        I was unable to enjoy things like I normally do.   \n",
       "6                               I wanted other people to take care of me.   \n",
       "7                                          I had a lot of nervous energy.   \n",
       "8                         I wanted someone else to make decisions for me.   \n",
       "9               I avoided performing or giving a talk in front of others.   \n",
       "10                                          I was overwhelmed by anxiety.   \n",
       "11          I avoided situations in which others were likely to watch me.   \n",
       "12                      I felt like I could go for days without sleeping.   \n",
       "13                                      Nothing seemed interesting to me.   \n",
       "14                             I looked forward to things with enjoyment.   \n",
       "15                            I felt that I had a lot to look forward to.   \n",
       "16                                            I thought a lot about food.   \n",
       "17              I felt insecure about important relationships in my life.   \n",
       "18                    I felt uncomfortable being the center of attention.   \n",
       "19                                                      I was indecisive.   \n",
       "20                                   I felt self-conscious around others.   \n",
       "21                                                  My appetite was poor.   \n",
       "22                                                      I felt depressed.   \n",
       "23                                   I could not keep myself from eating.   \n",
       "24                     I didn’t look forward to seeing friends or family.   \n",
       "25                     It took a lot of effort to do everyday activities.   \n",
       "26                   I found it difficult to speak up in front of others.   \n",
       "27           It felt like there wasn’t anything interesting or fun to do.   \n",
       "28                                                   I slept very poorly.   \n",
       "29                                          My hands were cold or sweaty.   \n",
       "30                                       I had trouble making up my mind.   \n",
       "31                                                 I was proud of myself.   \n",
       "32             I lost a significant amount of weight without even trying.   \n",
       "33                                         I avoided riding in elevators.   \n",
       "34                                                          I felt tense.   \n",
       "35                                               I was easily distracted.   \n",
       "36                                        I felt shy around other people.   \n",
       "37                                                  I often felt jealous.   \n",
       "38                                 I was a lot less talkative than usual.   \n",
       "39                                     I worried about almost everything.   \n",
       "40                                           I felt dizzy or lightheaded.   \n",
       "41                       I had difficulty making eye contact with others.   \n",
       "42                                               I felt socially awkward.   \n",
       "43                   I felt like I had a lot of interesting things to do.   \n",
       "44                                  I found compliments very encouraging.   \n",
       "45                                          I had trouble staying asleep.   \n",
       "46                                                       I felt cheerful.   \n",
       "47                                                I was afraid of flying.   \n",
       "48                                                     I felt optimistic.   \n",
       "49                                 I felt like I was having a lot of fun.   \n",
       "50                                      I had trouble remembering things.   \n",
       "51                                               I felt emotionally numb.   \n",
       "52                                              I felt good about myself.   \n",
       "53                                               I was afraid of heights.   \n",
       "54                                   I needed much less sleep than usual.   \n",
       "55      I did not feel tired, even though I was sleeping less than usual.   \n",
       "56  I was uncomfortable entering a room when others already were present.   \n",
       "57                             It was difficult for me to make decisions.   \n",
       "58                                          I could not handle rejection.   \n",
       "59                                  I became very anxious during a storm.   \n",
       "60                                                  I felt very stressed.   \n",
       "61                      I was unable to keep my mind on what I was doing.   \n",
       "62                                                 Nothing made me laugh.   \n",
       "63                               I ate even when I was not really hungry.   \n",
       "64                     I lay awake for a long time before falling asleep.   \n",
       "65                                              I was afraid of the dark.   \n",
       "66                                                         I felt guilty.   \n",
       "67                           I felt that I needed the approval of others.   \n",
       "68   I felt like I could keep going and going without ever getting tired.   \n",
       "69                                            I was trembling or shaking.   \n",
       "70                                I was uncomfortable meeting new people.   \n",
       "71                                       My heart was racing or pounding.   \n",
       "72                                     I had days when I never got tired.   \n",
       "73                       I woke up early and could not get back to sleep.   \n",
       "74                                   I felt ashamed of things I had done.   \n",
       "75                                                 I was short of breath.   \n",
       "76                                           I was disgusted with myself.   \n",
       "77                                            I blamed myself for things.   \n",
       "78                                       I did not feel much like eating.   \n",
       "79                                         I could not stand being alone.   \n",
       "80                                                      I felt nauseated.   \n",
       "\n",
       "    id_ht      htid  \n",
       "0     157  hitop157  \n",
       "1      81   hitop81  \n",
       "2      34   hitop34  \n",
       "3      54   hitop54  \n",
       "4     243  hitop243  \n",
       "5     182  hitop182  \n",
       "6      69   hitop69  \n",
       "7      89   hitop89  \n",
       "8      50   hitop50  \n",
       "9     129  hitop129  \n",
       "10    265  hitop265  \n",
       "11    124  hitop124  \n",
       "12    231  hitop231  \n",
       "13     93   hitop93  \n",
       "14    245  hitop245  \n",
       "15    281  hitop281  \n",
       "16    141  hitop141  \n",
       "17     40   hitop40  \n",
       "18    204  hitop204  \n",
       "19     21   hitop21  \n",
       "20    236  hitop236  \n",
       "21    280  hitop280  \n",
       "22     84   hitop84  \n",
       "23    120  hitop120  \n",
       "24     77   hitop77  \n",
       "25     92   hitop92  \n",
       "26    258  hitop258  \n",
       "27     39   hitop39  \n",
       "28    254  hitop254  \n",
       "29    215  hitop215  \n",
       "30     95   hitop95  \n",
       "31    106  hitop106  \n",
       "32    283  hitop283  \n",
       "33     16   hitop16  \n",
       "34     20   hitop20  \n",
       "35    189  hitop189  \n",
       "36      1    hitop1  \n",
       "37    136  hitop136  \n",
       "38    246  hitop246  \n",
       "39    248  hitop248  \n",
       "40    257  hitop257  \n",
       "41    114  hitop114  \n",
       "42    117  hitop117  \n",
       "43    250  hitop250  \n",
       "44    200  hitop200  \n",
       "45    160  hitop160  \n",
       "46     23   hitop23  \n",
       "47    165  hitop165  \n",
       "48    244  hitop244  \n",
       "49      9    hitop9  \n",
       "50    142  hitop142  \n",
       "51    230  hitop230  \n",
       "52    149  hitop149  \n",
       "53    247  hitop247  \n",
       "54     99   hitop99  \n",
       "55     66   hitop66  \n",
       "56    222  hitop222  \n",
       "57     90   hitop90  \n",
       "58    113  hitop113  \n",
       "59    278  hitop278  \n",
       "60    203  hitop203  \n",
       "61    159  hitop159  \n",
       "62    123  hitop123  \n",
       "63    275  hitop275  \n",
       "64    268  hitop268  \n",
       "65    225  hitop225  \n",
       "66    143  hitop143  \n",
       "67    151  hitop151  \n",
       "68    181  hitop181  \n",
       "69    211  hitop211  \n",
       "70     17   hitop17  \n",
       "71    126  hitop126  \n",
       "72      5    hitop5  \n",
       "73    261  hitop261  \n",
       "74    220  hitop220  \n",
       "75     15   hitop15  \n",
       "76     72   hitop72  \n",
       "77    140  hitop140  \n",
       "78    109  hitop109  \n",
       "79    197  hitop197  \n",
       "80    104  hitop104  "
      ]
     },
     "execution_count": 15,
     "metadata": {},
     "output_type": "execute_result"
    }
   ],
   "source": [
    "item_lookup = load_item_lookup()\n",
    "item_lookup\n",
    "#global item_lookup"
   ]
  },
  {
   "cell_type": "code",
   "execution_count": 16,
   "id": "110fb25b-bd1b-4746-9262-623832e7dcf5",
   "metadata": {},
   "outputs": [
    {
     "name": "stdout",
     "output_type": "stream",
     "text": [
      "grid\n",
      "checks_initial:\n",
      "passed_checks    0.462\n",
      "passed_grid      0.006\n",
      "passed_list      0.458\n",
      "dtype: float64\n",
      "Passed checks: 269 out of 500\n",
      "checks_recontact:\n",
      "passed_checks_recontact    0.548\n",
      "passed_grid_recontact      0.200\n",
      "passed_list_recontact      0.548\n",
      "dtype: float64\n",
      "Passed checks: 226 out of 500\n",
      "removing checks\n",
      "(398, 734)\n",
      "done removing checks\n"
     ]
    },
    {
     "data": {
      "text/plain": [
       "(398, 167)"
      ]
     },
     "execution_count": 16,
     "metadata": {},
     "output_type": "execute_result"
    }
   ],
   "source": [
    "data_val = load_valsample()\n",
    "data_genpop, data_genpop_norecontact = load_data('genpop', doing_checks = True, doing_remove_checks='grid')\n",
    "data_genpop.shape"
   ]
  },
  {
   "cell_type": "code",
   "execution_count": 17,
   "id": "95dc2edd-6bfe-4a23-a379-870d8010f950",
   "metadata": {},
   "outputs": [
    {
     "data": {
      "text/plain": [
       "(894, 84)"
      ]
     },
     "execution_count": 17,
     "metadata": {},
     "output_type": "execute_result"
    }
   ],
   "source": [
    "mydata_val_genpop = pd.concat([data_val, data_genpop_norecontact])\n",
    "mydata_val_genpop.shape"
   ]
  },
  {
   "cell_type": "code",
   "execution_count": 18,
   "id": "c2793ab5-82c9-41da-8ea6-059bf2aa3220",
   "metadata": {},
   "outputs": [
    {
     "name": "stdout",
     "output_type": "stream",
     "text": [
      "grid\n",
      "checks_initial:\n",
      "passed_checks    0.293548\n",
      "passed_grid      0.016129\n",
      "passed_list      0.290323\n",
      "dtype: float64\n",
      "Passed checks: 219 out of 310\n",
      "checks_recontact:\n",
      "passed_checks_recontact    0.412903\n",
      "passed_grid_recontact      0.174194\n",
      "passed_list_recontact      0.412903\n",
      "dtype: float64\n",
      "Passed checks: 182 out of 310\n",
      "removing checks\n",
      "(255, 734)\n",
      "done removing checks\n",
      "(255, 167)\n",
      "(751, 84)\n"
     ]
    }
   ],
   "source": [
    "data_enriched, data_enriched_norecontact = load_data('enriched', doing_checks = True, doing_remove_checks='grid')\n",
    "print(data_enriched.shape)\n",
    "mydata_val_enriched = pd.concat([data_val, data_enriched_norecontact])\n",
    "print(mydata_val_enriched.shape)"
   ]
  },
  {
   "cell_type": "code",
   "execution_count": 19,
   "id": "e0505968-e341-4d0b-a475-b698daf338e3",
   "metadata": {},
   "outputs": [
    {
     "data": {
      "text/html": [
       "<div>\n",
       "<style scoped>\n",
       "    .dataframe tbody tr th:only-of-type {\n",
       "        vertical-align: middle;\n",
       "    }\n",
       "\n",
       "    .dataframe tbody tr th {\n",
       "        vertical-align: top;\n",
       "    }\n",
       "\n",
       "    .dataframe thead th {\n",
       "        text-align: right;\n",
       "    }\n",
       "</style>\n",
       "<table border=\"1\" class=\"dataframe\">\n",
       "  <thead>\n",
       "    <tr style=\"text-align: right;\">\n",
       "      <th></th>\n",
       "      <th>hitop157</th>\n",
       "      <th>hitop81</th>\n",
       "      <th>hitop34</th>\n",
       "      <th>hitop54</th>\n",
       "      <th>hitop243</th>\n",
       "      <th>hitop182</th>\n",
       "      <th>hitop69</th>\n",
       "      <th>hitop89</th>\n",
       "      <th>hitop50</th>\n",
       "      <th>hitop129</th>\n",
       "      <th>hitop265</th>\n",
       "      <th>hitop124</th>\n",
       "      <th>hitop231</th>\n",
       "      <th>hitop93</th>\n",
       "      <th>hitop67</th>\n",
       "      <th>hitop245</th>\n",
       "      <th>hitop281</th>\n",
       "      <th>hitop141</th>\n",
       "      <th>hitop40</th>\n",
       "      <th>hitop204</th>\n",
       "      <th>hitop21</th>\n",
       "      <th>hitop236</th>\n",
       "      <th>hitop280</th>\n",
       "      <th>hitop84</th>\n",
       "      <th>hitop120</th>\n",
       "      <th>hitop77</th>\n",
       "      <th>hitop92</th>\n",
       "      <th>hitop258</th>\n",
       "      <th>hitop39</th>\n",
       "      <th>hitop254</th>\n",
       "      <th>hitop215</th>\n",
       "      <th>hitop95</th>\n",
       "      <th>hitop106</th>\n",
       "      <th>hitop283</th>\n",
       "      <th>hitop16</th>\n",
       "      <th>hitop20</th>\n",
       "      <th>hitop189</th>\n",
       "      <th>hitop1</th>\n",
       "      <th>hitop136</th>\n",
       "      <th>hitop246</th>\n",
       "      <th>hitop248</th>\n",
       "      <th>hitop257</th>\n",
       "      <th>hitop114</th>\n",
       "      <th>hitop117</th>\n",
       "      <th>hitop250</th>\n",
       "      <th>hitop200</th>\n",
       "      <th>hitop160</th>\n",
       "      <th>hitop23</th>\n",
       "      <th>hitop165</th>\n",
       "      <th>hitop244</th>\n",
       "      <th>hitop9</th>\n",
       "      <th>hitop142</th>\n",
       "      <th>hitop230</th>\n",
       "      <th>hitop149</th>\n",
       "      <th>hitop247</th>\n",
       "      <th>hitop99</th>\n",
       "      <th>hitop66</th>\n",
       "      <th>hitop240</th>\n",
       "      <th>hitop222</th>\n",
       "      <th>hitop90</th>\n",
       "      <th>hitop113</th>\n",
       "      <th>hitop278</th>\n",
       "      <th>hitop203</th>\n",
       "      <th>hitop159</th>\n",
       "      <th>hitop123</th>\n",
       "      <th>hitop275</th>\n",
       "      <th>hitop268</th>\n",
       "      <th>hitop225</th>\n",
       "      <th>hitop143</th>\n",
       "      <th>hitop151</th>\n",
       "      <th>hitop181</th>\n",
       "      <th>hitop211</th>\n",
       "      <th>hitop17</th>\n",
       "      <th>hitop126</th>\n",
       "      <th>hitop5</th>\n",
       "      <th>hitop261</th>\n",
       "      <th>hitop220</th>\n",
       "      <th>hitop15</th>\n",
       "      <th>hitop72</th>\n",
       "      <th>hitop140</th>\n",
       "      <th>hitop109</th>\n",
       "      <th>hitop197</th>\n",
       "      <th>hitop104</th>\n",
       "      <th>hitop157_recontact</th>\n",
       "      <th>hitop81_recontact</th>\n",
       "      <th>hitop34_recontact</th>\n",
       "      <th>hitop54_recontact</th>\n",
       "      <th>hitop243_recontact</th>\n",
       "      <th>hitop182_recontact</th>\n",
       "      <th>hitop69_recontact</th>\n",
       "      <th>hitop89_recontact</th>\n",
       "      <th>hitop50_recontact</th>\n",
       "      <th>hitop129_recontact</th>\n",
       "      <th>hitop265_recontact</th>\n",
       "      <th>hitop124_recontact</th>\n",
       "      <th>hitop231_recontact</th>\n",
       "      <th>hitop93_recontact</th>\n",
       "      <th>hitop67_recontact</th>\n",
       "      <th>hitop245_recontact</th>\n",
       "      <th>hitop281_recontact</th>\n",
       "      <th>hitop141_recontact</th>\n",
       "      <th>hitop40_recontact</th>\n",
       "      <th>hitop204_recontact</th>\n",
       "      <th>hitop21_recontact</th>\n",
       "      <th>hitop236_recontact</th>\n",
       "      <th>hitop280_recontact</th>\n",
       "      <th>hitop84_recontact</th>\n",
       "      <th>hitop120_recontact</th>\n",
       "      <th>hitop77_recontact</th>\n",
       "      <th>hitop92_recontact</th>\n",
       "      <th>hitop258_recontact</th>\n",
       "      <th>hitop39_recontact</th>\n",
       "      <th>hitop254_recontact</th>\n",
       "      <th>hitop215_recontact</th>\n",
       "      <th>hitop95_recontact</th>\n",
       "      <th>hitop106_recontact</th>\n",
       "      <th>hitop283_recontact</th>\n",
       "      <th>hitop16_recontact</th>\n",
       "      <th>hitop20_recontact</th>\n",
       "      <th>hitop189_recontact</th>\n",
       "      <th>hitop1_recontact</th>\n",
       "      <th>hitop136_recontact</th>\n",
       "      <th>hitop246_recontact</th>\n",
       "      <th>hitop248_recontact</th>\n",
       "      <th>hitop257_recontact</th>\n",
       "      <th>hitop114_recontact</th>\n",
       "      <th>hitop117_recontact</th>\n",
       "      <th>hitop250_recontact</th>\n",
       "      <th>hitop200_recontact</th>\n",
       "      <th>hitop160_recontact</th>\n",
       "      <th>hitop23_recontact</th>\n",
       "      <th>hitop165_recontact</th>\n",
       "      <th>hitop244_recontact</th>\n",
       "      <th>hitop9_recontact</th>\n",
       "      <th>hitop142_recontact</th>\n",
       "      <th>hitop230_recontact</th>\n",
       "      <th>hitop149_recontact</th>\n",
       "      <th>hitop247_recontact</th>\n",
       "      <th>hitop99_recontact</th>\n",
       "      <th>hitop66_recontact</th>\n",
       "      <th>hitop240_recontact</th>\n",
       "      <th>hitop222_recontact</th>\n",
       "      <th>hitop90_recontact</th>\n",
       "      <th>hitop113_recontact</th>\n",
       "      <th>hitop278_recontact</th>\n",
       "      <th>hitop203_recontact</th>\n",
       "      <th>hitop159_recontact</th>\n",
       "      <th>hitop123_recontact</th>\n",
       "      <th>hitop275_recontact</th>\n",
       "      <th>hitop268_recontact</th>\n",
       "      <th>hitop225_recontact</th>\n",
       "      <th>hitop143_recontact</th>\n",
       "      <th>hitop151_recontact</th>\n",
       "      <th>hitop181_recontact</th>\n",
       "      <th>hitop211_recontact</th>\n",
       "      <th>hitop17_recontact</th>\n",
       "      <th>hitop126_recontact</th>\n",
       "      <th>hitop5_recontact</th>\n",
       "      <th>hitop261_recontact</th>\n",
       "      <th>hitop220_recontact</th>\n",
       "      <th>hitop15_recontact</th>\n",
       "      <th>hitop72_recontact</th>\n",
       "      <th>hitop140_recontact</th>\n",
       "      <th>hitop109_recontact</th>\n",
       "      <th>hitop197_recontact</th>\n",
       "      <th>hitop104_recontact</th>\n",
       "      <th>whichdata</th>\n",
       "    </tr>\n",
       "  </thead>\n",
       "  <tbody>\n",
       "    <tr>\n",
       "      <th>0</th>\n",
       "      <td>2</td>\n",
       "      <td>2</td>\n",
       "      <td>3</td>\n",
       "      <td>4</td>\n",
       "      <td>3</td>\n",
       "      <td>2</td>\n",
       "      <td>2</td>\n",
       "      <td>2</td>\n",
       "      <td>1</td>\n",
       "      <td>2</td>\n",
       "      <td>3</td>\n",
       "      <td>1</td>\n",
       "      <td>1</td>\n",
       "      <td>1</td>\n",
       "      <td>2</td>\n",
       "      <td>4</td>\n",
       "      <td>4</td>\n",
       "      <td>3</td>\n",
       "      <td>1</td>\n",
       "      <td>2</td>\n",
       "      <td>2</td>\n",
       "      <td>2</td>\n",
       "      <td>1</td>\n",
       "      <td>1</td>\n",
       "      <td>1</td>\n",
       "      <td>1</td>\n",
       "      <td>1</td>\n",
       "      <td>1</td>\n",
       "      <td>1</td>\n",
       "      <td>1</td>\n",
       "      <td>1</td>\n",
       "      <td>2</td>\n",
       "      <td>3</td>\n",
       "      <td>1</td>\n",
       "      <td>1</td>\n",
       "      <td>2</td>\n",
       "      <td>4</td>\n",
       "      <td>2</td>\n",
       "      <td>2</td>\n",
       "      <td>1</td>\n",
       "      <td>2</td>\n",
       "      <td>1</td>\n",
       "      <td>1</td>\n",
       "      <td>2</td>\n",
       "      <td>4</td>\n",
       "      <td>3</td>\n",
       "      <td>1</td>\n",
       "      <td>4</td>\n",
       "      <td>1</td>\n",
       "      <td>4</td>\n",
       "      <td>4</td>\n",
       "      <td>2</td>\n",
       "      <td>1</td>\n",
       "      <td>4</td>\n",
       "      <td>1</td>\n",
       "      <td>1</td>\n",
       "      <td>1</td>\n",
       "      <td>2</td>\n",
       "      <td>1</td>\n",
       "      <td>2</td>\n",
       "      <td>1</td>\n",
       "      <td>1</td>\n",
       "      <td>4</td>\n",
       "      <td>2</td>\n",
       "      <td>1</td>\n",
       "      <td>2</td>\n",
       "      <td>1</td>\n",
       "      <td>1</td>\n",
       "      <td>2</td>\n",
       "      <td>2</td>\n",
       "      <td>1</td>\n",
       "      <td>1</td>\n",
       "      <td>1</td>\n",
       "      <td>1</td>\n",
       "      <td>1</td>\n",
       "      <td>2</td>\n",
       "      <td>1</td>\n",
       "      <td>1</td>\n",
       "      <td>1</td>\n",
       "      <td>2</td>\n",
       "      <td>1</td>\n",
       "      <td>1</td>\n",
       "      <td>1</td>\n",
       "      <td>3</td>\n",
       "      <td>1</td>\n",
       "      <td>2</td>\n",
       "      <td>4</td>\n",
       "      <td>3</td>\n",
       "      <td>1</td>\n",
       "      <td>2</td>\n",
       "      <td>2</td>\n",
       "      <td>2</td>\n",
       "      <td>2</td>\n",
       "      <td>2</td>\n",
       "      <td>1</td>\n",
       "      <td>1</td>\n",
       "      <td>1</td>\n",
       "      <td>1</td>\n",
       "      <td>4</td>\n",
       "      <td>4</td>\n",
       "      <td>3</td>\n",
       "      <td>1</td>\n",
       "      <td>1</td>\n",
       "      <td>2</td>\n",
       "      <td>2</td>\n",
       "      <td>1</td>\n",
       "      <td>1</td>\n",
       "      <td>1</td>\n",
       "      <td>2</td>\n",
       "      <td>1</td>\n",
       "      <td>1</td>\n",
       "      <td>1</td>\n",
       "      <td>1</td>\n",
       "      <td>1</td>\n",
       "      <td>1</td>\n",
       "      <td>4</td>\n",
       "      <td>1</td>\n",
       "      <td>1</td>\n",
       "      <td>2</td>\n",
       "      <td>2</td>\n",
       "      <td>1</td>\n",
       "      <td>1</td>\n",
       "      <td>1</td>\n",
       "      <td>2</td>\n",
       "      <td>1</td>\n",
       "      <td>1</td>\n",
       "      <td>1</td>\n",
       "      <td>1</td>\n",
       "      <td>3</td>\n",
       "      <td>1</td>\n",
       "      <td>4</td>\n",
       "      <td>1</td>\n",
       "      <td>4</td>\n",
       "      <td>4</td>\n",
       "      <td>2</td>\n",
       "      <td>1</td>\n",
       "      <td>4</td>\n",
       "      <td>1</td>\n",
       "      <td>1</td>\n",
       "      <td>1</td>\n",
       "      <td>1</td>\n",
       "      <td>1</td>\n",
       "      <td>1</td>\n",
       "      <td>1</td>\n",
       "      <td>1</td>\n",
       "      <td>2</td>\n",
       "      <td>1</td>\n",
       "      <td>1</td>\n",
       "      <td>1</td>\n",
       "      <td>1</td>\n",
       "      <td>1</td>\n",
       "      <td>1</td>\n",
       "      <td>1</td>\n",
       "      <td>1</td>\n",
       "      <td>1</td>\n",
       "      <td>1</td>\n",
       "      <td>1</td>\n",
       "      <td>1</td>\n",
       "      <td>3</td>\n",
       "      <td>1</td>\n",
       "      <td>1</td>\n",
       "      <td>1</td>\n",
       "      <td>1</td>\n",
       "      <td>1</td>\n",
       "      <td>1</td>\n",
       "      <td>1</td>\n",
       "      <td>genpop</td>\n",
       "    </tr>\n",
       "    <tr>\n",
       "      <th>1</th>\n",
       "      <td>2</td>\n",
       "      <td>1</td>\n",
       "      <td>4</td>\n",
       "      <td>4</td>\n",
       "      <td>1</td>\n",
       "      <td>3</td>\n",
       "      <td>1</td>\n",
       "      <td>3</td>\n",
       "      <td>1</td>\n",
       "      <td>2</td>\n",
       "      <td>4</td>\n",
       "      <td>3</td>\n",
       "      <td>1</td>\n",
       "      <td>2</td>\n",
       "      <td>3</td>\n",
       "      <td>4</td>\n",
       "      <td>4</td>\n",
       "      <td>4</td>\n",
       "      <td>2</td>\n",
       "      <td>4</td>\n",
       "      <td>2</td>\n",
       "      <td>3</td>\n",
       "      <td>2</td>\n",
       "      <td>1</td>\n",
       "      <td>2</td>\n",
       "      <td>4</td>\n",
       "      <td>2</td>\n",
       "      <td>2</td>\n",
       "      <td>1</td>\n",
       "      <td>2</td>\n",
       "      <td>1</td>\n",
       "      <td>2</td>\n",
       "      <td>4</td>\n",
       "      <td>1</td>\n",
       "      <td>3</td>\n",
       "      <td>4</td>\n",
       "      <td>2</td>\n",
       "      <td>3</td>\n",
       "      <td>1</td>\n",
       "      <td>2</td>\n",
       "      <td>2</td>\n",
       "      <td>4</td>\n",
       "      <td>2</td>\n",
       "      <td>2</td>\n",
       "      <td>1</td>\n",
       "      <td>4</td>\n",
       "      <td>3</td>\n",
       "      <td>4</td>\n",
       "      <td>4</td>\n",
       "      <td>4</td>\n",
       "      <td>4</td>\n",
       "      <td>2</td>\n",
       "      <td>2</td>\n",
       "      <td>4</td>\n",
       "      <td>4</td>\n",
       "      <td>2</td>\n",
       "      <td>3</td>\n",
       "      <td>2</td>\n",
       "      <td>4</td>\n",
       "      <td>2</td>\n",
       "      <td>2</td>\n",
       "      <td>2</td>\n",
       "      <td>1</td>\n",
       "      <td>3</td>\n",
       "      <td>1</td>\n",
       "      <td>2</td>\n",
       "      <td>1</td>\n",
       "      <td>2</td>\n",
       "      <td>2</td>\n",
       "      <td>2</td>\n",
       "      <td>2</td>\n",
       "      <td>4</td>\n",
       "      <td>2</td>\n",
       "      <td>3</td>\n",
       "      <td>2</td>\n",
       "      <td>2</td>\n",
       "      <td>2</td>\n",
       "      <td>3</td>\n",
       "      <td>1</td>\n",
       "      <td>2</td>\n",
       "      <td>2</td>\n",
       "      <td>1</td>\n",
       "      <td>3</td>\n",
       "      <td>2</td>\n",
       "      <td>1</td>\n",
       "      <td>3</td>\n",
       "      <td>4</td>\n",
       "      <td>1</td>\n",
       "      <td>2</td>\n",
       "      <td>1</td>\n",
       "      <td>2</td>\n",
       "      <td>1</td>\n",
       "      <td>3</td>\n",
       "      <td>4</td>\n",
       "      <td>2</td>\n",
       "      <td>2</td>\n",
       "      <td>2</td>\n",
       "      <td>1</td>\n",
       "      <td>4</td>\n",
       "      <td>4</td>\n",
       "      <td>4</td>\n",
       "      <td>1</td>\n",
       "      <td>3</td>\n",
       "      <td>3</td>\n",
       "      <td>2</td>\n",
       "      <td>2</td>\n",
       "      <td>1</td>\n",
       "      <td>1</td>\n",
       "      <td>4</td>\n",
       "      <td>2</td>\n",
       "      <td>2</td>\n",
       "      <td>2</td>\n",
       "      <td>4</td>\n",
       "      <td>1</td>\n",
       "      <td>2</td>\n",
       "      <td>4</td>\n",
       "      <td>3</td>\n",
       "      <td>4</td>\n",
       "      <td>2</td>\n",
       "      <td>3</td>\n",
       "      <td>2</td>\n",
       "      <td>1</td>\n",
       "      <td>2</td>\n",
       "      <td>2</td>\n",
       "      <td>2</td>\n",
       "      <td>1</td>\n",
       "      <td>2</td>\n",
       "      <td>2</td>\n",
       "      <td>2</td>\n",
       "      <td>3</td>\n",
       "      <td>4</td>\n",
       "      <td>4</td>\n",
       "      <td>4</td>\n",
       "      <td>4</td>\n",
       "      <td>2</td>\n",
       "      <td>2</td>\n",
       "      <td>4</td>\n",
       "      <td>4</td>\n",
       "      <td>3</td>\n",
       "      <td>2</td>\n",
       "      <td>2</td>\n",
       "      <td>4</td>\n",
       "      <td>2</td>\n",
       "      <td>1</td>\n",
       "      <td>1</td>\n",
       "      <td>1</td>\n",
       "      <td>2</td>\n",
       "      <td>1</td>\n",
       "      <td>2</td>\n",
       "      <td>2</td>\n",
       "      <td>2</td>\n",
       "      <td>1</td>\n",
       "      <td>1</td>\n",
       "      <td>2</td>\n",
       "      <td>2</td>\n",
       "      <td>2</td>\n",
       "      <td>2</td>\n",
       "      <td>2</td>\n",
       "      <td>3</td>\n",
       "      <td>1</td>\n",
       "      <td>2</td>\n",
       "      <td>1</td>\n",
       "      <td>1</td>\n",
       "      <td>2</td>\n",
       "      <td>1</td>\n",
       "      <td>2</td>\n",
       "      <td>genpop</td>\n",
       "    </tr>\n",
       "    <tr>\n",
       "      <th>3</th>\n",
       "      <td>2</td>\n",
       "      <td>1</td>\n",
       "      <td>1</td>\n",
       "      <td>3</td>\n",
       "      <td>2</td>\n",
       "      <td>1</td>\n",
       "      <td>1</td>\n",
       "      <td>1</td>\n",
       "      <td>1</td>\n",
       "      <td>1</td>\n",
       "      <td>1</td>\n",
       "      <td>1</td>\n",
       "      <td>1</td>\n",
       "      <td>1</td>\n",
       "      <td>1</td>\n",
       "      <td>3</td>\n",
       "      <td>1</td>\n",
       "      <td>2</td>\n",
       "      <td>1</td>\n",
       "      <td>1</td>\n",
       "      <td>1</td>\n",
       "      <td>1</td>\n",
       "      <td>1</td>\n",
       "      <td>1</td>\n",
       "      <td>2</td>\n",
       "      <td>1</td>\n",
       "      <td>1</td>\n",
       "      <td>1</td>\n",
       "      <td>1</td>\n",
       "      <td>2</td>\n",
       "      <td>1</td>\n",
       "      <td>1</td>\n",
       "      <td>1</td>\n",
       "      <td>1</td>\n",
       "      <td>1</td>\n",
       "      <td>1</td>\n",
       "      <td>1</td>\n",
       "      <td>1</td>\n",
       "      <td>1</td>\n",
       "      <td>1</td>\n",
       "      <td>1</td>\n",
       "      <td>1</td>\n",
       "      <td>1</td>\n",
       "      <td>1</td>\n",
       "      <td>1</td>\n",
       "      <td>1</td>\n",
       "      <td>2</td>\n",
       "      <td>3</td>\n",
       "      <td>4</td>\n",
       "      <td>4</td>\n",
       "      <td>3</td>\n",
       "      <td>2</td>\n",
       "      <td>1</td>\n",
       "      <td>3</td>\n",
       "      <td>2</td>\n",
       "      <td>1</td>\n",
       "      <td>1</td>\n",
       "      <td>1</td>\n",
       "      <td>1</td>\n",
       "      <td>1</td>\n",
       "      <td>1</td>\n",
       "      <td>1</td>\n",
       "      <td>1</td>\n",
       "      <td>1</td>\n",
       "      <td>1</td>\n",
       "      <td>1</td>\n",
       "      <td>4</td>\n",
       "      <td>1</td>\n",
       "      <td>1</td>\n",
       "      <td>1</td>\n",
       "      <td>1</td>\n",
       "      <td>1</td>\n",
       "      <td>2</td>\n",
       "      <td>1</td>\n",
       "      <td>1</td>\n",
       "      <td>2</td>\n",
       "      <td>1</td>\n",
       "      <td>2</td>\n",
       "      <td>1</td>\n",
       "      <td>1</td>\n",
       "      <td>1</td>\n",
       "      <td>1</td>\n",
       "      <td>1</td>\n",
       "      <td>2</td>\n",
       "      <td>1</td>\n",
       "      <td>2</td>\n",
       "      <td>4</td>\n",
       "      <td>1</td>\n",
       "      <td>1</td>\n",
       "      <td>1</td>\n",
       "      <td>2</td>\n",
       "      <td>2</td>\n",
       "      <td>1</td>\n",
       "      <td>4</td>\n",
       "      <td>1</td>\n",
       "      <td>1</td>\n",
       "      <td>1</td>\n",
       "      <td>2</td>\n",
       "      <td>2</td>\n",
       "      <td>1</td>\n",
       "      <td>1</td>\n",
       "      <td>1</td>\n",
       "      <td>1</td>\n",
       "      <td>2</td>\n",
       "      <td>1</td>\n",
       "      <td>4</td>\n",
       "      <td>1</td>\n",
       "      <td>1</td>\n",
       "      <td>1</td>\n",
       "      <td>1</td>\n",
       "      <td>1</td>\n",
       "      <td>1</td>\n",
       "      <td>2</td>\n",
       "      <td>1</td>\n",
       "      <td>1</td>\n",
       "      <td>2</td>\n",
       "      <td>1</td>\n",
       "      <td>1</td>\n",
       "      <td>1</td>\n",
       "      <td>1</td>\n",
       "      <td>1</td>\n",
       "      <td>1</td>\n",
       "      <td>1</td>\n",
       "      <td>1</td>\n",
       "      <td>1</td>\n",
       "      <td>1</td>\n",
       "      <td>1</td>\n",
       "      <td>1</td>\n",
       "      <td>2</td>\n",
       "      <td>4</td>\n",
       "      <td>2</td>\n",
       "      <td>4</td>\n",
       "      <td>4</td>\n",
       "      <td>2</td>\n",
       "      <td>1</td>\n",
       "      <td>4</td>\n",
       "      <td>1</td>\n",
       "      <td>1</td>\n",
       "      <td>1</td>\n",
       "      <td>1</td>\n",
       "      <td>1</td>\n",
       "      <td>1</td>\n",
       "      <td>1</td>\n",
       "      <td>1</td>\n",
       "      <td>1</td>\n",
       "      <td>1</td>\n",
       "      <td>1</td>\n",
       "      <td>1</td>\n",
       "      <td>1</td>\n",
       "      <td>1</td>\n",
       "      <td>1</td>\n",
       "      <td>1</td>\n",
       "      <td>1</td>\n",
       "      <td>1</td>\n",
       "      <td>2</td>\n",
       "      <td>1</td>\n",
       "      <td>2</td>\n",
       "      <td>1</td>\n",
       "      <td>1</td>\n",
       "      <td>1</td>\n",
       "      <td>2</td>\n",
       "      <td>1</td>\n",
       "      <td>2</td>\n",
       "      <td>4</td>\n",
       "      <td>1</td>\n",
       "      <td>1</td>\n",
       "      <td>genpop</td>\n",
       "    </tr>\n",
       "    <tr>\n",
       "      <th>4</th>\n",
       "      <td>4</td>\n",
       "      <td>1</td>\n",
       "      <td>2</td>\n",
       "      <td>4</td>\n",
       "      <td>4</td>\n",
       "      <td>4</td>\n",
       "      <td>4</td>\n",
       "      <td>1</td>\n",
       "      <td>2</td>\n",
       "      <td>3</td>\n",
       "      <td>1</td>\n",
       "      <td>2</td>\n",
       "      <td>1</td>\n",
       "      <td>3</td>\n",
       "      <td>3</td>\n",
       "      <td>2</td>\n",
       "      <td>1</td>\n",
       "      <td>4</td>\n",
       "      <td>3</td>\n",
       "      <td>2</td>\n",
       "      <td>2</td>\n",
       "      <td>3</td>\n",
       "      <td>1</td>\n",
       "      <td>2</td>\n",
       "      <td>4</td>\n",
       "      <td>3</td>\n",
       "      <td>2</td>\n",
       "      <td>2</td>\n",
       "      <td>4</td>\n",
       "      <td>4</td>\n",
       "      <td>2</td>\n",
       "      <td>2</td>\n",
       "      <td>1</td>\n",
       "      <td>1</td>\n",
       "      <td>1</td>\n",
       "      <td>2</td>\n",
       "      <td>3</td>\n",
       "      <td>2</td>\n",
       "      <td>1</td>\n",
       "      <td>2</td>\n",
       "      <td>3</td>\n",
       "      <td>4</td>\n",
       "      <td>2</td>\n",
       "      <td>2</td>\n",
       "      <td>1</td>\n",
       "      <td>3</td>\n",
       "      <td>4</td>\n",
       "      <td>2</td>\n",
       "      <td>1</td>\n",
       "      <td>1</td>\n",
       "      <td>2</td>\n",
       "      <td>4</td>\n",
       "      <td>1</td>\n",
       "      <td>1</td>\n",
       "      <td>2</td>\n",
       "      <td>3</td>\n",
       "      <td>1</td>\n",
       "      <td>1</td>\n",
       "      <td>1</td>\n",
       "      <td>2</td>\n",
       "      <td>1</td>\n",
       "      <td>1</td>\n",
       "      <td>3</td>\n",
       "      <td>3</td>\n",
       "      <td>1</td>\n",
       "      <td>4</td>\n",
       "      <td>2</td>\n",
       "      <td>2</td>\n",
       "      <td>2</td>\n",
       "      <td>3</td>\n",
       "      <td>1</td>\n",
       "      <td>2</td>\n",
       "      <td>2</td>\n",
       "      <td>2</td>\n",
       "      <td>1</td>\n",
       "      <td>4</td>\n",
       "      <td>2</td>\n",
       "      <td>2</td>\n",
       "      <td>2</td>\n",
       "      <td>2</td>\n",
       "      <td>1</td>\n",
       "      <td>1</td>\n",
       "      <td>3</td>\n",
       "      <td>2</td>\n",
       "      <td>1</td>\n",
       "      <td>2</td>\n",
       "      <td>1</td>\n",
       "      <td>3</td>\n",
       "      <td>3</td>\n",
       "      <td>2</td>\n",
       "      <td>1</td>\n",
       "      <td>2</td>\n",
       "      <td>1</td>\n",
       "      <td>2</td>\n",
       "      <td>1</td>\n",
       "      <td>1</td>\n",
       "      <td>3</td>\n",
       "      <td>3</td>\n",
       "      <td>1</td>\n",
       "      <td>2</td>\n",
       "      <td>1</td>\n",
       "      <td>2</td>\n",
       "      <td>2</td>\n",
       "      <td>2</td>\n",
       "      <td>2</td>\n",
       "      <td>2</td>\n",
       "      <td>3</td>\n",
       "      <td>3</td>\n",
       "      <td>3</td>\n",
       "      <td>2</td>\n",
       "      <td>2</td>\n",
       "      <td>3</td>\n",
       "      <td>3</td>\n",
       "      <td>1</td>\n",
       "      <td>3</td>\n",
       "      <td>1</td>\n",
       "      <td>2</td>\n",
       "      <td>1</td>\n",
       "      <td>3</td>\n",
       "      <td>3</td>\n",
       "      <td>2</td>\n",
       "      <td>1</td>\n",
       "      <td>2</td>\n",
       "      <td>3</td>\n",
       "      <td>2</td>\n",
       "      <td>3</td>\n",
       "      <td>2</td>\n",
       "      <td>3</td>\n",
       "      <td>1</td>\n",
       "      <td>3</td>\n",
       "      <td>2</td>\n",
       "      <td>1</td>\n",
       "      <td>1</td>\n",
       "      <td>1</td>\n",
       "      <td>3</td>\n",
       "      <td>2</td>\n",
       "      <td>1</td>\n",
       "      <td>1</td>\n",
       "      <td>2</td>\n",
       "      <td>2</td>\n",
       "      <td>3</td>\n",
       "      <td>1</td>\n",
       "      <td>2</td>\n",
       "      <td>1</td>\n",
       "      <td>1</td>\n",
       "      <td>3</td>\n",
       "      <td>3</td>\n",
       "      <td>2</td>\n",
       "      <td>4</td>\n",
       "      <td>2</td>\n",
       "      <td>1</td>\n",
       "      <td>2</td>\n",
       "      <td>2</td>\n",
       "      <td>1</td>\n",
       "      <td>2</td>\n",
       "      <td>1</td>\n",
       "      <td>1</td>\n",
       "      <td>1</td>\n",
       "      <td>3</td>\n",
       "      <td>2</td>\n",
       "      <td>2</td>\n",
       "      <td>2</td>\n",
       "      <td>2</td>\n",
       "      <td>3</td>\n",
       "      <td>1</td>\n",
       "      <td>3</td>\n",
       "      <td>genpop</td>\n",
       "    </tr>\n",
       "    <tr>\n",
       "      <th>5</th>\n",
       "      <td>2</td>\n",
       "      <td>1</td>\n",
       "      <td>3</td>\n",
       "      <td>4</td>\n",
       "      <td>2</td>\n",
       "      <td>2</td>\n",
       "      <td>2</td>\n",
       "      <td>3</td>\n",
       "      <td>1</td>\n",
       "      <td>1</td>\n",
       "      <td>2</td>\n",
       "      <td>4</td>\n",
       "      <td>1</td>\n",
       "      <td>2</td>\n",
       "      <td>2</td>\n",
       "      <td>2</td>\n",
       "      <td>2</td>\n",
       "      <td>2</td>\n",
       "      <td>2</td>\n",
       "      <td>3</td>\n",
       "      <td>2</td>\n",
       "      <td>3</td>\n",
       "      <td>3</td>\n",
       "      <td>3</td>\n",
       "      <td>2</td>\n",
       "      <td>2</td>\n",
       "      <td>2</td>\n",
       "      <td>2</td>\n",
       "      <td>3</td>\n",
       "      <td>1</td>\n",
       "      <td>1</td>\n",
       "      <td>2</td>\n",
       "      <td>2</td>\n",
       "      <td>1</td>\n",
       "      <td>1</td>\n",
       "      <td>3</td>\n",
       "      <td>3</td>\n",
       "      <td>3</td>\n",
       "      <td>1</td>\n",
       "      <td>2</td>\n",
       "      <td>1</td>\n",
       "      <td>2</td>\n",
       "      <td>1</td>\n",
       "      <td>4</td>\n",
       "      <td>1</td>\n",
       "      <td>3</td>\n",
       "      <td>1</td>\n",
       "      <td>3</td>\n",
       "      <td>1</td>\n",
       "      <td>3</td>\n",
       "      <td>2</td>\n",
       "      <td>3</td>\n",
       "      <td>1</td>\n",
       "      <td>3</td>\n",
       "      <td>4</td>\n",
       "      <td>1</td>\n",
       "      <td>1</td>\n",
       "      <td>2</td>\n",
       "      <td>3</td>\n",
       "      <td>2</td>\n",
       "      <td>1</td>\n",
       "      <td>1</td>\n",
       "      <td>2</td>\n",
       "      <td>3</td>\n",
       "      <td>1</td>\n",
       "      <td>2</td>\n",
       "      <td>1</td>\n",
       "      <td>1</td>\n",
       "      <td>2</td>\n",
       "      <td>3</td>\n",
       "      <td>1</td>\n",
       "      <td>1</td>\n",
       "      <td>2</td>\n",
       "      <td>1</td>\n",
       "      <td>1</td>\n",
       "      <td>1</td>\n",
       "      <td>2</td>\n",
       "      <td>1</td>\n",
       "      <td>2</td>\n",
       "      <td>2</td>\n",
       "      <td>2</td>\n",
       "      <td>1</td>\n",
       "      <td>2</td>\n",
       "      <td>2</td>\n",
       "      <td>1</td>\n",
       "      <td>3</td>\n",
       "      <td>3</td>\n",
       "      <td>2</td>\n",
       "      <td>2</td>\n",
       "      <td>1</td>\n",
       "      <td>2</td>\n",
       "      <td>1</td>\n",
       "      <td>1</td>\n",
       "      <td>2</td>\n",
       "      <td>3</td>\n",
       "      <td>1</td>\n",
       "      <td>3</td>\n",
       "      <td>2</td>\n",
       "      <td>2</td>\n",
       "      <td>2</td>\n",
       "      <td>2</td>\n",
       "      <td>1</td>\n",
       "      <td>3</td>\n",
       "      <td>2</td>\n",
       "      <td>4</td>\n",
       "      <td>1</td>\n",
       "      <td>2</td>\n",
       "      <td>2</td>\n",
       "      <td>2</td>\n",
       "      <td>2</td>\n",
       "      <td>2</td>\n",
       "      <td>2</td>\n",
       "      <td>1</td>\n",
       "      <td>2</td>\n",
       "      <td>2</td>\n",
       "      <td>2</td>\n",
       "      <td>1</td>\n",
       "      <td>1</td>\n",
       "      <td>2</td>\n",
       "      <td>2</td>\n",
       "      <td>3</td>\n",
       "      <td>1</td>\n",
       "      <td>1</td>\n",
       "      <td>1</td>\n",
       "      <td>2</td>\n",
       "      <td>1</td>\n",
       "      <td>3</td>\n",
       "      <td>2</td>\n",
       "      <td>2</td>\n",
       "      <td>1</td>\n",
       "      <td>3</td>\n",
       "      <td>1</td>\n",
       "      <td>3</td>\n",
       "      <td>2</td>\n",
       "      <td>2</td>\n",
       "      <td>1</td>\n",
       "      <td>2</td>\n",
       "      <td>2</td>\n",
       "      <td>1</td>\n",
       "      <td>1</td>\n",
       "      <td>2</td>\n",
       "      <td>2</td>\n",
       "      <td>2</td>\n",
       "      <td>1</td>\n",
       "      <td>1</td>\n",
       "      <td>2</td>\n",
       "      <td>2</td>\n",
       "      <td>1</td>\n",
       "      <td>2</td>\n",
       "      <td>1</td>\n",
       "      <td>1</td>\n",
       "      <td>1</td>\n",
       "      <td>2</td>\n",
       "      <td>1</td>\n",
       "      <td>1</td>\n",
       "      <td>3</td>\n",
       "      <td>1</td>\n",
       "      <td>1</td>\n",
       "      <td>1</td>\n",
       "      <td>2</td>\n",
       "      <td>1</td>\n",
       "      <td>1</td>\n",
       "      <td>2</td>\n",
       "      <td>1</td>\n",
       "      <td>1</td>\n",
       "      <td>2</td>\n",
       "      <td>genpop</td>\n",
       "    </tr>\n",
       "  </tbody>\n",
       "</table>\n",
       "</div>"
      ],
      "text/plain": [
       "   hitop157  hitop81  hitop34  hitop54  hitop243  hitop182  hitop69  hitop89  \\\n",
       "0         2        2        3        4         3         2        2        2   \n",
       "1         2        1        4        4         1         3        1        3   \n",
       "3         2        1        1        3         2         1        1        1   \n",
       "4         4        1        2        4         4         4        4        1   \n",
       "5         2        1        3        4         2         2        2        3   \n",
       "\n",
       "   hitop50  hitop129  hitop265  hitop124  hitop231  hitop93  hitop67  \\\n",
       "0        1         2         3         1         1        1        2   \n",
       "1        1         2         4         3         1        2        3   \n",
       "3        1         1         1         1         1        1        1   \n",
       "4        2         3         1         2         1        3        3   \n",
       "5        1         1         2         4         1        2        2   \n",
       "\n",
       "   hitop245  hitop281  hitop141  hitop40  hitop204  hitop21  hitop236  \\\n",
       "0         4         4         3        1         2        2         2   \n",
       "1         4         4         4        2         4        2         3   \n",
       "3         3         1         2        1         1        1         1   \n",
       "4         2         1         4        3         2        2         3   \n",
       "5         2         2         2        2         3        2         3   \n",
       "\n",
       "   hitop280  hitop84  hitop120  hitop77  hitop92  hitop258  hitop39  hitop254  \\\n",
       "0         1        1         1        1        1         1        1         1   \n",
       "1         2        1         2        4        2         2        1         2   \n",
       "3         1        1         2        1        1         1        1         2   \n",
       "4         1        2         4        3        2         2        4         4   \n",
       "5         3        3         2        2        2         2        3         1   \n",
       "\n",
       "   hitop215  hitop95  hitop106  hitop283  hitop16  hitop20  hitop189  hitop1  \\\n",
       "0         1        2         3         1        1        2         4       2   \n",
       "1         1        2         4         1        3        4         2       3   \n",
       "3         1        1         1         1        1        1         1       1   \n",
       "4         2        2         1         1        1        2         3       2   \n",
       "5         1        2         2         1        1        3         3       3   \n",
       "\n",
       "   hitop136  hitop246  hitop248  hitop257  hitop114  hitop117  hitop250  \\\n",
       "0         2         1         2         1         1         2         4   \n",
       "1         1         2         2         4         2         2         1   \n",
       "3         1         1         1         1         1         1         1   \n",
       "4         1         2         3         4         2         2         1   \n",
       "5         1         2         1         2         1         4         1   \n",
       "\n",
       "   hitop200  hitop160  hitop23  hitop165  hitop244  hitop9  hitop142  \\\n",
       "0         3         1        4         1         4       4         2   \n",
       "1         4         3        4         4         4       4         2   \n",
       "3         1         2        3         4         4       3         2   \n",
       "4         3         4        2         1         1       2         4   \n",
       "5         3         1        3         1         3       2         3   \n",
       "\n",
       "   hitop230  hitop149  hitop247  hitop99  hitop66  hitop240  hitop222  \\\n",
       "0         1         4         1        1        1         2         1   \n",
       "1         2         4         4        2        3         2         4   \n",
       "3         1         3         2        1        1         1         1   \n",
       "4         1         1         2        3        1         1         1   \n",
       "5         1         3         4        1        1         2         3   \n",
       "\n",
       "   hitop90  hitop113  hitop278  hitop203  hitop159  hitop123  hitop275  \\\n",
       "0        2         1         1         4         2         1         2   \n",
       "1        2         2         2         1         3         1         2   \n",
       "3        1         1         1         1         1         1         1   \n",
       "4        2         1         1         3         3         1         4   \n",
       "5        2         1         1         2         3         1         2   \n",
       "\n",
       "   hitop268  hitop225  hitop143  hitop151  hitop181  hitop211  hitop17  \\\n",
       "0         1         1         2         2         1         1        1   \n",
       "1         1         2         2         2         2         4        2   \n",
       "3         4         1         1         1         1         1        2   \n",
       "4         2         2         2         3         1         2        2   \n",
       "5         1         1         2         3         1         1        2   \n",
       "\n",
       "   hitop126  hitop5  hitop261  hitop220  hitop15  hitop72  hitop140  hitop109  \\\n",
       "0         1       1         2         1        1        1         2         1   \n",
       "1         3       2         2         2        3        1         2         2   \n",
       "3         1       1         2         1        2        1         1         1   \n",
       "4         2       1         4         2        2        2         2         1   \n",
       "5         1       1         1         2        1        2         2         2   \n",
       "\n",
       "   hitop197  hitop104  hitop157_recontact  hitop81_recontact  \\\n",
       "0         1         1                   3                  1   \n",
       "1         1         3                   2                  1   \n",
       "3         1         1                   2                  1   \n",
       "4         1         3                   2                  1   \n",
       "5         1         2                   2                  1   \n",
       "\n",
       "   hitop34_recontact  hitop54_recontact  hitop243_recontact  \\\n",
       "0                  2                  4                   3   \n",
       "1                  3                  4                   1   \n",
       "3                  2                  4                   1   \n",
       "4                  2                  1                   3   \n",
       "5                  3                  3                   2   \n",
       "\n",
       "   hitop182_recontact  hitop69_recontact  hitop89_recontact  \\\n",
       "0                   1                  2                  2   \n",
       "1                   2                  1                  2   \n",
       "3                   1                  1                  2   \n",
       "4                   3                  2                  1   \n",
       "5                   2                  1                  2   \n",
       "\n",
       "   hitop50_recontact  hitop129_recontact  hitop265_recontact  \\\n",
       "0                  2                   2                   2   \n",
       "1                  1                   3                   4   \n",
       "3                  2                   1                   4   \n",
       "4                  2                   1                   2   \n",
       "5                  1                   1                   2   \n",
       "\n",
       "   hitop124_recontact  hitop231_recontact  hitop93_recontact  \\\n",
       "0                   1                   1                  1   \n",
       "1                   2                   2                  2   \n",
       "3                   1                   1                  1   \n",
       "4                   1                   1                  3   \n",
       "5                   3                   1                  3   \n",
       "\n",
       "   hitop67_recontact  hitop245_recontact  hitop281_recontact  \\\n",
       "0                  1                   4                   4   \n",
       "1                  1                   4                   4   \n",
       "3                  2                   2                   1   \n",
       "4                  3                   1                   2   \n",
       "5                  2                   2                   2   \n",
       "\n",
       "   hitop141_recontact  hitop40_recontact  hitop204_recontact  \\\n",
       "0                   3                  1                   1   \n",
       "1                   4                  1                   3   \n",
       "3                   1                  1                   1   \n",
       "4                   1                  2                   2   \n",
       "5                   2                  1                   3   \n",
       "\n",
       "   hitop21_recontact  hitop236_recontact  hitop280_recontact  \\\n",
       "0                  2                   2                   1   \n",
       "1                  3                   2                   2   \n",
       "3                  2                   1                   4   \n",
       "4                  2                   2                   2   \n",
       "5                  2                   4                   1   \n",
       "\n",
       "   hitop84_recontact  hitop120_recontact  hitop77_recontact  \\\n",
       "0                  1                   1                  2   \n",
       "1                  1                   1                  4   \n",
       "3                  1                   1                  1   \n",
       "4                  3                   3                  3   \n",
       "5                  2                   2                  2   \n",
       "\n",
       "   hitop92_recontact  hitop258_recontact  hitop39_recontact  \\\n",
       "0                  1                   1                  1   \n",
       "1                  2                   2                  2   \n",
       "3                  1                   1                  1   \n",
       "4                  2                   2                  3   \n",
       "5                  2                   2                  2   \n",
       "\n",
       "   hitop254_recontact  hitop215_recontact  hitop95_recontact  \\\n",
       "0                   1                   1                  1   \n",
       "1                   4                   1                  2   \n",
       "3                   2                   1                  1   \n",
       "4                   3                   1                  3   \n",
       "5                   1                   2                  2   \n",
       "\n",
       "   hitop106_recontact  hitop283_recontact  hitop16_recontact  \\\n",
       "0                   4                   1                  1   \n",
       "1                   4                   3                  4   \n",
       "3                   2                   1                  1   \n",
       "4                   1                   2                  1   \n",
       "5                   2                   1                  1   \n",
       "\n",
       "   hitop20_recontact  hitop189_recontact  hitop1_recontact  \\\n",
       "0                  2                   2                 1   \n",
       "1                  2                   3                 2   \n",
       "3                  1                   1                 1   \n",
       "4                  3                   3                 2   \n",
       "5                  2                   2                 3   \n",
       "\n",
       "   hitop136_recontact  hitop246_recontact  hitop248_recontact  \\\n",
       "0                   1                   1                   2   \n",
       "1                   1                   2                   2   \n",
       "3                   1                   1                   1   \n",
       "4                   1                   2                   3   \n",
       "5                   1                   1                   1   \n",
       "\n",
       "   hitop257_recontact  hitop114_recontact  hitop117_recontact  \\\n",
       "0                   1                   1                   1   \n",
       "1                   2                   1                   2   \n",
       "3                   1                   1                   1   \n",
       "4                   2                   3                   2   \n",
       "5                   2                   1                   3   \n",
       "\n",
       "   hitop250_recontact  hitop200_recontact  hitop160_recontact  \\\n",
       "0                   1                   3                   1   \n",
       "1                   2                   2                   3   \n",
       "3                   1                   2                   4   \n",
       "4                   3                   1                   3   \n",
       "5                   2                   2                   1   \n",
       "\n",
       "   hitop23_recontact  hitop165_recontact  hitop244_recontact  \\\n",
       "0                  4                   1                   4   \n",
       "1                  4                   4                   4   \n",
       "3                  2                   4                   4   \n",
       "4                  2                   1                   1   \n",
       "5                  3                   1                   3   \n",
       "\n",
       "   hitop9_recontact  hitop142_recontact  hitop230_recontact  \\\n",
       "0                 4                   2                   1   \n",
       "1                 4                   2                   2   \n",
       "3                 2                   1                   4   \n",
       "4                 1                   3                   2   \n",
       "5                 2                   2                   1   \n",
       "\n",
       "   hitop149_recontact  hitop247_recontact  hitop99_recontact  \\\n",
       "0                   4                   1                  1   \n",
       "1                   4                   4                  3   \n",
       "3                   1                   1                  1   \n",
       "4                   1                   1                  2   \n",
       "5                   2                   2                  1   \n",
       "\n",
       "   hitop66_recontact  hitop240_recontact  hitop222_recontact  \\\n",
       "0                  1                   1                   1   \n",
       "1                  2                   2                   4   \n",
       "3                  1                   1                   1   \n",
       "4                  2                   3                   1   \n",
       "5                  1                   2                   2   \n",
       "\n",
       "   hitop90_recontact  hitop113_recontact  hitop278_recontact  \\\n",
       "0                  1                   1                   1   \n",
       "1                  2                   1                   1   \n",
       "3                  1                   1                   1   \n",
       "4                  2                   1                   1   \n",
       "5                  2                   1                   1   \n",
       "\n",
       "   hitop203_recontact  hitop159_recontact  hitop123_recontact  \\\n",
       "0                   2                   1                   1   \n",
       "1                   1                   2                   1   \n",
       "3                   1                   1                   1   \n",
       "4                   3                   3                   2   \n",
       "5                   2                   2                   1   \n",
       "\n",
       "   hitop275_recontact  hitop268_recontact  hitop225_recontact  \\\n",
       "0                   1                   1                   1   \n",
       "1                   2                   2                   2   \n",
       "3                   1                   1                   1   \n",
       "4                   4                   2                   1   \n",
       "5                   2                   1                   1   \n",
       "\n",
       "   hitop143_recontact  hitop151_recontact  hitop181_recontact  \\\n",
       "0                   1                   1                   1   \n",
       "1                   1                   1                   2   \n",
       "3                   1                   1                   1   \n",
       "4                   2                   2                   1   \n",
       "5                   1                   2                   1   \n",
       "\n",
       "   hitop211_recontact  hitop17_recontact  hitop126_recontact  \\\n",
       "0                   1                  1                   1   \n",
       "1                   2                  2                   2   \n",
       "3                   2                  1                   2   \n",
       "4                   2                  1                   1   \n",
       "5                   1                  3                   1   \n",
       "\n",
       "   hitop5_recontact  hitop261_recontact  hitop220_recontact  \\\n",
       "0                 1                   3                   1   \n",
       "1                 2                   3                   1   \n",
       "3                 1                   1                   1   \n",
       "4                 1                   3                   2   \n",
       "5                 1                   1                   2   \n",
       "\n",
       "   hitop15_recontact  hitop72_recontact  hitop140_recontact  \\\n",
       "0                  1                  1                   1   \n",
       "1                  2                  1                   1   \n",
       "3                  2                  1                   2   \n",
       "4                  2                  2                   2   \n",
       "5                  1                  1                   2   \n",
       "\n",
       "   hitop109_recontact  hitop197_recontact  hitop104_recontact whichdata  \n",
       "0                   1                   1                   1    genpop  \n",
       "1                   2                   1                   2    genpop  \n",
       "3                   4                   1                   1    genpop  \n",
       "4                   3                   1                   3    genpop  \n",
       "5                   1                   1                   2    genpop  "
      ]
     },
     "execution_count": 19,
     "metadata": {},
     "output_type": "execute_result"
    }
   ],
   "source": [
    "data_genpop.head()"
   ]
  },
  {
   "cell_type": "code",
   "execution_count": 20,
   "id": "1c5249e2-af87-4d55-840c-3e96119af7ba",
   "metadata": {},
   "outputs": [],
   "source": [
    "data_genpop_recontactanalysis = prep_data_recontactanalysis(data_genpop)\n",
    "data_enriched_recontactanalysis = prep_data_recontactanalysis(data_enriched)"
   ]
  },
  {
   "cell_type": "code",
   "execution_count": 22,
   "id": "65804ac6-d035-4830-a50a-94cc6502a473",
   "metadata": {},
   "outputs": [
    {
     "name": "stderr",
     "output_type": "stream",
     "text": [
      "R[write to console]: No AFIs were selected, so only chi-squared will be permuted.\n",
      "\n",
      "\n"
     ]
    },
    {
     "name": "stdout",
     "output_type": "stream",
     "text": [
      "\n",
      "\n",
      "\n",
      "================================\n",
      "================================\n",
      "ANHEDONIC_DEPRESSION\n",
      "anhedonic_depression =~hitop39 + hitop77 + hitop84 + hitop92 + hitop93 + hitop123 + hitop157 + hitop182 + hitop230 + hitop246\n",
      "================================\n",
      "================================\n",
      "----------------\n"
     ]
    },
    {
     "name": "stderr",
     "output_type": "stream",
     "text": [
      "R[write to console]: No AFIs were selected, so only chi-squared will be permuted.\n",
      "\n",
      "\n"
     ]
    },
    {
     "name": "stdout",
     "output_type": "stream",
     "text": [
      "CONFIG chisq p = 0\n",
      "PASSED SECONDARY CRITERIA WITH CFI = 0.997 TLI = 0.997 RMSEA = 0.048\n"
     ]
    },
    {
     "name": "stderr",
     "output_type": "stream",
     "text": [
      "R[write to console]: No AFIs were selected, so only chi-squared will be permuted.\n",
      "\n",
      "\n"
     ]
    },
    {
     "name": "stdout",
     "output_type": "stream",
     "text": [
      "METRIC INVARIANT chisq p = 0.085\n",
      "SCALAR INVARIANT NOT PASSED, chisq p = 0\n",
      "Problematic items:\n",
      "[1] \"Parameter 'hitop84~1' may differ between Groups 'validation' and 'genpop'.\" \n",
      "[2] \"Parameter 'hitop123~1' may differ between Groups 'validation' and 'genpop'.\"\n"
     ]
    },
    {
     "name": "stderr",
     "output_type": "stream",
     "text": [
      "R[write to console]: No AFIs were selected, so only chi-squared will be permuted.\n",
      "\n",
      "\n"
     ]
    },
    {
     "name": "stdout",
     "output_type": "stream",
     "text": [
      "STRICT N/A\n",
      "\n",
      "\n",
      "\n",
      "================================\n",
      "================================\n",
      "ANXIOUS_WORRY\n",
      "anxious_worry =~hitop20 + hitop34 + hitop89 + hitop203 + hitop248 + hitop265\n",
      "================================\n",
      "================================\n",
      "----------------\n"
     ]
    },
    {
     "name": "stderr",
     "output_type": "stream",
     "text": [
      "R[write to console]: No AFIs were selected, so only chi-squared will be permuted.\n",
      "\n",
      "\n"
     ]
    },
    {
     "name": "stdout",
     "output_type": "stream",
     "text": [
      "CONFIG INVARIANT chisq p = 0.141\n",
      "METRIC INVARIANT NOT PASSED, chisq p = 0.005\n",
      "Problematic items:\n",
      "[1] \"Parameter 'anxious_worry=~hitop265' may differ between Groups 'validation' and 'genpop'.\"\n"
     ]
    },
    {
     "name": "stderr",
     "output_type": "stream",
     "text": [
      "R[write to console]: No AFIs were selected, so only chi-squared will be permuted.\n",
      "\n",
      "\n"
     ]
    },
    {
     "name": "stdout",
     "output_type": "stream",
     "text": [
      "SCALAR N/A\n",
      "STRICT N/A\n",
      "\n",
      "\n",
      "\n",
      "================================\n",
      "================================\n",
      "APPETITE_GAIN\n",
      "appetite_gain =~hitop120 + hitop141 + hitop243 + hitop275\n",
      "================================\n",
      "================================\n",
      "----------------\n"
     ]
    },
    {
     "name": "stderr",
     "output_type": "stream",
     "text": [
      "R[write to console]: No AFIs were selected, so only chi-squared will be permuted.\n",
      "\n",
      "\n"
     ]
    },
    {
     "name": "stdout",
     "output_type": "stream",
     "text": [
      "CONFIG INVARIANT chisq p = 0.645\n",
      "METRIC INVARIANT NOT PASSED, chisq p = 0.019\n",
      "Problematic items:\n",
      "character(0)\n"
     ]
    },
    {
     "name": "stderr",
     "output_type": "stream",
     "text": [
      "R[write to console]: No AFIs were selected, so only chi-squared will be permuted.\n",
      "\n",
      "\n"
     ]
    },
    {
     "name": "stdout",
     "output_type": "stream",
     "text": [
      "SCALAR N/A\n",
      "STRICT N/A\n",
      "\n",
      "\n",
      "\n",
      "================================\n",
      "================================\n",
      "HYPOSOMNIA\n",
      "hyposomnia =~hitop5 + hitop66 + hitop99 + hitop181 + hitop231\n",
      "================================\n",
      "================================\n",
      "----------------\n"
     ]
    },
    {
     "name": "stderr",
     "output_type": "stream",
     "text": [
      "R[write to console]: No AFIs were selected, so only chi-squared will be permuted.\n",
      "\n",
      "\n"
     ]
    },
    {
     "name": "stdout",
     "output_type": "stream",
     "text": [
      "CONFIG chisq p = 0\n",
      "PASSED SECONDARY CRITERIA WITH CFI = 0.99 TLI = 0.981 RMSEA = 0.05\n"
     ]
    },
    {
     "name": "stderr",
     "output_type": "stream",
     "text": [
      "R[write to console]: No AFIs were selected, so only chi-squared will be permuted.\n",
      "\n",
      "\n"
     ]
    },
    {
     "name": "stdout",
     "output_type": "stream",
     "text": [
      "METRIC INVARIANT chisq p = 0.914\n",
      "SCALAR INVARIANT NOT PASSED, chisq p = 0\n",
      "Problematic items:\n",
      "[1] \"Parameter 'hitop5~1' may differ between Groups 'validation' and 'genpop'.\"  \n",
      "[2] \"Parameter 'hitop181~1' may differ between Groups 'validation' and 'genpop'.\"\n",
      "[3] \"Parameter 'hitop231~1' may differ between Groups 'validation' and 'genpop'.\"\n"
     ]
    },
    {
     "name": "stderr",
     "output_type": "stream",
     "text": [
      "R[write to console]: No AFIs were selected, so only chi-squared will be permuted.\n",
      "\n",
      "\n"
     ]
    },
    {
     "name": "stdout",
     "output_type": "stream",
     "text": [
      "STRICT N/A\n",
      "\n",
      "\n",
      "\n",
      "================================\n",
      "================================\n",
      "INSOMNIA\n",
      "insomnia =~hitop160 + hitop254 + hitop261 + hitop268\n",
      "================================\n",
      "================================\n",
      "----------------\n"
     ]
    },
    {
     "name": "stderr",
     "output_type": "stream",
     "text": [
      "R[write to console]: No AFIs were selected, so only chi-squared will be permuted.\n",
      "\n",
      "\n"
     ]
    },
    {
     "name": "stdout",
     "output_type": "stream",
     "text": [
      "CONFIG INVARIANT chisq p = 0.346\n"
     ]
    },
    {
     "name": "stderr",
     "output_type": "stream",
     "text": [
      "R[write to console]: No AFIs were selected, so only chi-squared will be permuted.\n",
      "\n",
      "\n"
     ]
    },
    {
     "name": "stdout",
     "output_type": "stream",
     "text": [
      "METRIC INVARIANT chisq p = 0.589\n"
     ]
    },
    {
     "name": "stderr",
     "output_type": "stream",
     "text": [
      "R[write to console]: No AFIs were selected, so only chi-squared will be permuted.\n",
      "\n",
      "\n"
     ]
    },
    {
     "name": "stdout",
     "output_type": "stream",
     "text": [
      "SCALAR INVARIANT chisq p = 0.314\n"
     ]
    },
    {
     "name": "stderr",
     "output_type": "stream",
     "text": [
      "R[write to console]: No AFIs were selected, so only chi-squared will be permuted.\n",
      "\n",
      "\n"
     ]
    },
    {
     "name": "stdout",
     "output_type": "stream",
     "text": [
      "STRICT INVARIANT chisq p = 0.4\n",
      "\n",
      "\n",
      "\n",
      "================================\n",
      "================================\n",
      "PANIC\n",
      "panic =~hitop15 + hitop104 + hitop126 + hitop211 + hitop215 + hitop257\n",
      "================================\n",
      "================================\n",
      "----------------\n"
     ]
    },
    {
     "name": "stderr",
     "output_type": "stream",
     "text": [
      "R[write to console]: No AFIs were selected, so only chi-squared will be permuted.\n",
      "\n",
      "\n"
     ]
    },
    {
     "name": "stdout",
     "output_type": "stream",
     "text": [
      "CONFIG chisq p = 0.024\n",
      "PASSED SECONDARY CRITERIA WITH CFI = 0.994 TLI = 0.99 RMSEA = 0.035\n"
     ]
    },
    {
     "name": "stderr",
     "output_type": "stream",
     "text": [
      "R[write to console]: No AFIs were selected, so only chi-squared will be permuted.\n",
      "\n",
      "\n"
     ]
    },
    {
     "name": "stdout",
     "output_type": "stream",
     "text": [
      "METRIC INVARIANT chisq p = 0.391\n",
      "SCALAR INVARIANT NOT PASSED, chisq p = 0\n",
      "Problematic items:\n",
      "[1] \"Parameter 'hitop126~1' may differ between Groups 'validation' and 'genpop'.\"\n",
      "[2] \"Parameter 'hitop257~1' may differ between Groups 'validation' and 'genpop'.\"\n"
     ]
    },
    {
     "name": "stderr",
     "output_type": "stream",
     "text": [
      "R[write to console]: No AFIs were selected, so only chi-squared will be permuted.\n",
      "\n",
      "\n"
     ]
    },
    {
     "name": "stdout",
     "output_type": "stream",
     "text": [
      "STRICT N/A\n",
      "\n",
      "\n",
      "\n",
      "================================\n",
      "================================\n",
      "SEPARATION_INSECURITY\n",
      "separation_insecurity =~hitop40 + hitop50 + hitop69 + hitop81 + hitop113 + hitop136 + hitop151 + hitop197\n",
      "================================\n",
      "================================\n",
      "----------------\n"
     ]
    },
    {
     "name": "stderr",
     "output_type": "stream",
     "text": [
      "R[write to console]: No AFIs were selected, so only chi-squared will be permuted.\n",
      "\n",
      "\n"
     ]
    },
    {
     "name": "stdout",
     "output_type": "stream",
     "text": [
      "CONFIG chisq p = 0.001\n",
      "PASSED SECONDARY CRITERIA WITH CFI = 0.998 TLI = 0.997 RMSEA = 0.044\n",
      "METRIC INVARIANT NOT PASSED, chisq p = 0.038\n",
      "Problematic items:\n",
      "character(0)\n"
     ]
    },
    {
     "name": "stderr",
     "output_type": "stream",
     "text": [
      "R[write to console]: No AFIs were selected, so only chi-squared will be permuted.\n",
      "\n",
      "\n"
     ]
    },
    {
     "name": "stdout",
     "output_type": "stream",
     "text": [
      "SCALAR N/A\n",
      "STRICT N/A\n",
      "\n",
      "\n",
      "\n",
      "================================\n",
      "================================\n",
      "SHAME_GUILT\n",
      "shame_guilt =~hitop72 + hitop140 + hitop143 + hitop220\n",
      "================================\n",
      "================================\n",
      "----------------\n"
     ]
    },
    {
     "name": "stderr",
     "output_type": "stream",
     "text": [
      "R[write to console]: No AFIs were selected, so only chi-squared will be permuted.\n",
      "\n",
      "\n"
     ]
    },
    {
     "name": "stdout",
     "output_type": "stream",
     "text": [
      "CONFIG INVARIANT chisq p = 0.189\n"
     ]
    },
    {
     "name": "stderr",
     "output_type": "stream",
     "text": [
      "R[write to console]: No AFIs were selected, so only chi-squared will be permuted.\n",
      "\n",
      "\n"
     ]
    },
    {
     "name": "stdout",
     "output_type": "stream",
     "text": [
      "METRIC INVARIANT chisq p = 0.178\n"
     ]
    },
    {
     "name": "stderr",
     "output_type": "stream",
     "text": [
      "R[write to console]: No AFIs were selected, so only chi-squared will be permuted.\n",
      "\n",
      "\n"
     ]
    },
    {
     "name": "stdout",
     "output_type": "stream",
     "text": [
      "SCALAR INVARIANT chisq p = 0.28\n",
      "STRICT INVARIANT NOT PASSED, chisq p = 0\n",
      "Problematic items:\n",
      "[1] \"Parameter 'hitop72~~hitop72' may differ between Groups 'validation' and 'genpop'.\"\n"
     ]
    },
    {
     "name": "stderr",
     "output_type": "stream",
     "text": [
      "R[write to console]: No AFIs were selected, so only chi-squared will be permuted.\n",
      "\n",
      "\n"
     ]
    },
    {
     "name": "stdout",
     "output_type": "stream",
     "text": [
      "\n",
      "\n",
      "\n",
      "================================\n",
      "================================\n",
      "SITUATIONAL_PHOBIA\n",
      "situational_phobia =~hitop16 + hitop165 + hitop225 + hitop247 + hitop278\n",
      "================================\n",
      "================================\n",
      "----------------\n"
     ]
    },
    {
     "name": "stderr",
     "output_type": "stream",
     "text": [
      "R[write to console]: No AFIs were selected, so only chi-squared will be permuted.\n",
      "\n",
      "\n"
     ]
    },
    {
     "name": "stdout",
     "output_type": "stream",
     "text": [
      "CONFIG INVARIANT chisq p = 0.357\n"
     ]
    },
    {
     "name": "stderr",
     "output_type": "stream",
     "text": [
      "R[write to console]: No AFIs were selected, so only chi-squared will be permuted.\n",
      "\n",
      "\n"
     ]
    },
    {
     "name": "stdout",
     "output_type": "stream",
     "text": [
      "METRIC INVARIANT chisq p = 0.209\n",
      "SCALAR INVARIANT NOT PASSED, chisq p = 0\n",
      "Problematic items:\n",
      "[1] \"Parameter 'hitop225~1' may differ between Groups 'validation' and 'genpop'.\"\n"
     ]
    },
    {
     "name": "stderr",
     "output_type": "stream",
     "text": [
      "R[write to console]: No AFIs were selected, so only chi-squared will be permuted.\n",
      "\n",
      "\n"
     ]
    },
    {
     "name": "stdout",
     "output_type": "stream",
     "text": [
      "STRICT N/A\n",
      "\n",
      "\n",
      "\n",
      "================================\n",
      "================================\n",
      "SOCIAL_ANXIETY\n",
      "social_anxiety =~hitop1 + hitop17 + hitop114 + hitop117 + hitop124 + hitop129 + hitop204 + hitop222 + hitop236 + hitop258\n",
      "================================\n",
      "================================\n",
      "----------------\n"
     ]
    },
    {
     "name": "stderr",
     "output_type": "stream",
     "text": [
      "R[write to console]: No AFIs were selected, so only chi-squared will be permuted.\n",
      "\n",
      "\n"
     ]
    },
    {
     "name": "stdout",
     "output_type": "stream",
     "text": [
      "CONFIG chisq p = 0.012\n",
      "PASSED SECONDARY CRITERIA WITH CFI = 0.996 TLI = 0.995 RMSEA = 0.04\n",
      "METRIC INVARIANT NOT PASSED, chisq p = 0\n",
      "Problematic items:\n",
      "[1] \"Parameter 'social_anxiety=~hitop258' may differ between Groups 'validation' and 'genpop'.\"\n"
     ]
    },
    {
     "name": "stderr",
     "output_type": "stream",
     "text": [
      "R[write to console]: No AFIs were selected, so only chi-squared will be permuted.\n",
      "\n",
      "\n"
     ]
    },
    {
     "name": "stdout",
     "output_type": "stream",
     "text": [
      "SCALAR N/A\n",
      "STRICT N/A\n",
      "\n",
      "\n",
      "\n",
      "================================\n",
      "================================\n",
      "WELL_BEING\n",
      "well_being =~hitop9 + hitop23 + hitop54 + hitop106 + hitop149 + hitop200 + hitop244 + hitop245 + hitop250 + hitop281\n",
      "================================\n",
      "================================\n",
      "----------------\n"
     ]
    },
    {
     "name": "stderr",
     "output_type": "stream",
     "text": [
      "R[write to console]: No AFIs were selected, so only chi-squared will be permuted.\n",
      "\n",
      "\n"
     ]
    },
    {
     "name": "stdout",
     "output_type": "stream",
     "text": [
      "CONFIG chisq p = 0.001\n",
      "PASSED SECONDARY CRITERIA WITH CFI = 1.0 TLI = 1.0 RMSEA = 0.041\n",
      "METRIC INVARIANT NOT PASSED, chisq p = 0\n",
      "Problematic items:\n",
      "[1] \"Parameter 'well_being=~hitop54' may differ between Groups 'validation' and 'genpop'.\" \n",
      "[2] \"Parameter 'well_being=~hitop245' may differ between Groups 'validation' and 'genpop'.\"\n",
      "SCALAR N/A\n",
      "STRICT N/A\n",
      "DONE\n"
     ]
    }
   ],
   "source": [
    "# data that exists:\n",
    "# - mydata_val_genpop\n",
    "# - mydata_val_enriched\n",
    "# - data_genpop_recontactanalysis\n",
    "# - data_enriched_recontactanalysis\n",
    "\n",
    "# whichcolumn == 'valid_genpop', 'valid_enriched', 'enriched_withrecontact', 'genpop_withrecontact':\n",
    "my_df = do_cfa(mydata = mydata_val_genpop, whichcolumn = 'valid_genpop') "
   ]
  },
  {
   "cell_type": "code",
   "execution_count": null,
   "id": "a13af070-fca8-44ee-8c99-efbc0f840711",
   "metadata": {},
   "outputs": [],
   "source": []
  },
  {
   "cell_type": "markdown",
   "id": "b24e23b1-ed6e-4f1f-a457-41ade7bae83a",
   "metadata": {},
   "source": [
    "# --- Ablation experiments ---"
   ]
  },
  {
   "cell_type": "code",
   "execution_count": 66,
   "id": "c59c88f8-584d-4882-854f-878defdb1303",
   "metadata": {},
   "outputs": [
    {
     "name": "stderr",
     "output_type": "stream",
     "text": [
      "R[write to console]: No AFIs were selected, so only chi-squared will be permuted.\n",
      "\n",
      "\n"
     ]
    },
    {
     "name": "stdout",
     "output_type": "stream",
     "text": [
      "! DONT FORGET TO CHANGE MDL_STRS_NEW BELOW IN CODE FOR ABLATION EXPERIMENTS\n",
      "lets go\n",
      "\n",
      "\n",
      "SOCIAL_ANXIETY\n",
      "social_anxiety =~hitop114 + hitop117 + hitop124 + hitop129 + hitop204 + hitop222 + hitop236 + hitop258 \n"
     ]
    },
    {
     "name": "stderr",
     "output_type": "stream",
     "text": [
      "R[write to console]: No AFIs were selected, so only chi-squared will be permuted.\n",
      "\n",
      "\n"
     ]
    },
    {
     "name": "stdout",
     "output_type": "stream",
     "text": [
      "CONFIG chisq p = 0.049\n",
      "PASSED SECONDARY CRITERIA WITH CFI = 0.997 TLI = 0.995 RMSEA = 0.04\n"
     ]
    },
    {
     "name": "stderr",
     "output_type": "stream",
     "text": [
      "R[write to console]: No AFIs were selected, so only chi-squared will be permuted.\n",
      "\n",
      "\n"
     ]
    },
    {
     "name": "stdout",
     "output_type": "stream",
     "text": [
      "METRIC INVARIANT chisq p = 0.078\n",
      "SCALAR INVARIANT NOT PASSED, chisq p = 0\n",
      "Problematic items:\n",
      "[1] \"Parameter 'social_anxiety=~hitop222' may differ between Groups 'validation' and 'enriched'.\"\n",
      "[1] \"      AFI.Difference p.value\"\n",
      "[1] \"chisq         17.551       0\"\n",
      "[1] \"Parameter 'social_anxiety=~hitop222' may differ between Groups 'validation' and 'enriched'.\"\n"
     ]
    },
    {
     "name": "stderr",
     "output_type": "stream",
     "text": [
      "R[write to console]: No AFIs were selected, so only chi-squared will be permuted.\n",
      "\n",
      "\n"
     ]
    },
    {
     "name": "stdout",
     "output_type": "stream",
     "text": [
      "STRICT INVARIANT NOT PASSED, chisq p = 0\n",
      "Problematic items:\n",
      "[1] \"Parameter 'social_anxiety=~hitop222' may differ between Groups 'validation' and 'enriched'.\"\n",
      "[1] \"      AFI.Difference p.value\"\n",
      "[1] \"chisq         25.214       0\"\n",
      "[1] \"Parameter 'social_anxiety=~hitop222' may differ between Groups 'validation' and 'enriched'.\"\n",
      "DONE\n"
     ]
    },
    {
     "data": {
      "text/plain": [
       "0"
      ]
     },
     "execution_count": 66,
     "metadata": {},
     "output_type": "execute_result"
    }
   ],
   "source": [
    "run_specific_cfa(mydata_val_enriched, \n",
    "                 whichcolumn = 'valid_enriched', \n",
    "                 whichscale = 'social_anxiety', \n",
    "                 whichcfa = 'strict')"
   ]
  },
  {
   "cell_type": "code",
   "execution_count": 62,
   "id": "f6a187aa-b3de-4e1a-8dc3-30f80ead7021",
   "metadata": {},
   "outputs": [
    {
     "name": "stderr",
     "output_type": "stream",
     "text": [
      "R[write to console]: No AFIs were selected, so only chi-squared will be permuted.\n",
      "\n",
      "\n"
     ]
    },
    {
     "name": "stdout",
     "output_type": "stream",
     "text": [
      "! DONT FORGET TO CHANGE MDL_STRS_NEW BELOW IN CODE FOR ABLATION EXPERIMENTS\n",
      "lets go\n",
      "\n",
      "\n",
      "SOCIAL_ANXIETY\n",
      "social_anxiety =~hitop1 + hitop17 + hitop114 + hitop117 + hitop124 + hitop129 + hitop204 + hitop222 + hitop236 + hitop258\n",
      "\n",
      "ITEM TO REMOVE: hitop1\n",
      "social_anxiety =~hitop17 + hitop114 + hitop117 + hitop124 + hitop129 + hitop204 + hitop222 + hitop236 + hitop258\n"
     ]
    },
    {
     "name": "stderr",
     "output_type": "stream",
     "text": [
      "R[write to console]: No AFIs were selected, so only chi-squared will be permuted.\n",
      "\n",
      "\n"
     ]
    },
    {
     "name": "stdout",
     "output_type": "stream",
     "text": [
      "CONFIG chisq p = 0.011\n",
      "PASSED SECONDARY CRITERIA WITH CFI = 0.996 TLI = 0.995 RMSEA = 0.04\n",
      "METRIC INVARIANT NOT PASSED, chisq p = 0.005\n",
      "[1] \"      AFI.Difference p.value\"\n",
      "[1] \"chisq         40.436   0.005\"\n",
      "character(0)\n"
     ]
    },
    {
     "name": "stderr",
     "output_type": "stream",
     "text": [
      "R[write to console]: No AFIs were selected, so only chi-squared will be permuted.\n",
      "\n",
      "\n"
     ]
    },
    {
     "name": "stdout",
     "output_type": "stream",
     "text": [
      "SCALAR N/A\n",
      "STRICT N/A\n",
      "\n",
      "ITEM TO REMOVE: hitop114\n",
      "social_anxiety =~hitop1 + hitop17 + hitop117 + hitop124 + hitop129 + hitop204 + hitop222 + hitop236 + hitop258\n"
     ]
    },
    {
     "name": "stderr",
     "output_type": "stream",
     "text": [
      "R[write to console]: No AFIs were selected, so only chi-squared will be permuted.\n",
      "\n",
      "\n"
     ]
    },
    {
     "name": "stdout",
     "output_type": "stream",
     "text": [
      "CONFIG chisq p = 0.032\n",
      "PASSED SECONDARY CRITERIA WITH CFI = 0.994 TLI = 0.992 RMSEA = 0.052\n",
      "METRIC INVARIANT NOT PASSED, chisq p = 0\n",
      "[1] \"      AFI.Difference p.value\"\n",
      "[1] \"chisq         44.583       0\"\n",
      "character(0)\n"
     ]
    },
    {
     "name": "stderr",
     "output_type": "stream",
     "text": [
      "R[write to console]: No AFIs were selected, so only chi-squared will be permuted.\n",
      "\n",
      "\n"
     ]
    },
    {
     "name": "stdout",
     "output_type": "stream",
     "text": [
      "SCALAR N/A\n",
      "STRICT N/A\n",
      "\n",
      "ITEM TO REMOVE: hitop117\n",
      "social_anxiety =~hitop1 + hitop17 + hitop114 + hitop124 + hitop129 + hitop204 + hitop222 + hitop236 + hitop258\n"
     ]
    },
    {
     "name": "stderr",
     "output_type": "stream",
     "text": [
      "R[write to console]: No AFIs were selected, so only chi-squared will be permuted.\n",
      "\n",
      "\n"
     ]
    },
    {
     "name": "stdout",
     "output_type": "stream",
     "text": [
      "CONFIG chisq p = 0.016\n",
      "PASSED SECONDARY CRITERIA WITH CFI = 0.999 TLI = 0.999 RMSEA = 0.045\n",
      "METRIC INVARIANT NOT PASSED, chisq p = 0\n",
      "[1] \"      AFI.Difference p.value\"\n",
      "[1] \"chisq          50.17       0\"\n",
      "character(0)\n"
     ]
    },
    {
     "name": "stderr",
     "output_type": "stream",
     "text": [
      "R[write to console]: No AFIs were selected, so only chi-squared will be permuted.\n",
      "\n",
      "\n"
     ]
    },
    {
     "name": "stdout",
     "output_type": "stream",
     "text": [
      "SCALAR N/A\n",
      "STRICT N/A\n",
      "\n",
      "ITEM TO REMOVE: hitop124\n",
      "social_anxiety =~hitop1 + hitop17 + hitop114 + hitop117 + hitop129 + hitop204 + hitop222 + hitop236 + hitop258\n"
     ]
    },
    {
     "name": "stderr",
     "output_type": "stream",
     "text": [
      "R[write to console]: No AFIs were selected, so only chi-squared will be permuted.\n",
      "\n",
      "\n"
     ]
    },
    {
     "name": "stdout",
     "output_type": "stream",
     "text": [
      "CONFIG chisq p = 0.003\n",
      "PASSED SECONDARY CRITERIA WITH CFI = 1.0 TLI = 1.0 RMSEA = 0.045\n",
      "METRIC INVARIANT NOT PASSED, chisq p = 0.004\n",
      "[1] \"      AFI.Difference p.value\"\n",
      "[1] \"chisq         41.652   0.004\"\n",
      "character(0)\n"
     ]
    },
    {
     "name": "stderr",
     "output_type": "stream",
     "text": [
      "R[write to console]: No AFIs were selected, so only chi-squared will be permuted.\n",
      "\n",
      "\n"
     ]
    },
    {
     "name": "stdout",
     "output_type": "stream",
     "text": [
      "SCALAR N/A\n",
      "STRICT N/A\n",
      "\n",
      "ITEM TO REMOVE: hitop129\n",
      "social_anxiety =~hitop1 + hitop17 + hitop114 + hitop117 + hitop124 + hitop204 + hitop222 + hitop236 + hitop258\n"
     ]
    },
    {
     "name": "stderr",
     "output_type": "stream",
     "text": [
      "R[write to console]: No AFIs were selected, so only chi-squared will be permuted.\n",
      "\n",
      "\n"
     ]
    },
    {
     "name": "stdout",
     "output_type": "stream",
     "text": [
      "CONFIG chisq p = 0.003\n",
      "PASSED SECONDARY CRITERIA WITH CFI = 0.999 TLI = 0.999 RMSEA = 0.048\n",
      "METRIC INVARIANT NOT PASSED, chisq p = 0.008\n",
      "[1] \"      AFI.Difference p.value\"\n",
      "[1] \"chisq         36.833   0.008\"\n",
      "character(0)\n"
     ]
    },
    {
     "name": "stderr",
     "output_type": "stream",
     "text": [
      "R[write to console]: No AFIs were selected, so only chi-squared will be permuted.\n",
      "\n",
      "\n"
     ]
    },
    {
     "name": "stdout",
     "output_type": "stream",
     "text": [
      "SCALAR N/A\n",
      "STRICT N/A\n",
      "\n",
      "ITEM TO REMOVE: hitop204\n",
      "social_anxiety =~hitop1 + hitop17 + hitop114 + hitop117 + hitop124 + hitop129 + hitop222 + hitop236 + hitop258\n"
     ]
    },
    {
     "name": "stderr",
     "output_type": "stream",
     "text": [
      "R[write to console]: No AFIs were selected, so only chi-squared will be permuted.\n",
      "\n",
      "\n"
     ]
    },
    {
     "name": "stdout",
     "output_type": "stream",
     "text": [
      "CONFIG chisq p = 0.005\n",
      "PASSED SECONDARY CRITERIA WITH CFI = 0.998 TLI = 0.997 RMSEA = 0.053\n",
      "METRIC INVARIANT NOT PASSED, chisq p = 0.005\n",
      "[1] \"      AFI.Difference p.value\"\n",
      "[1] \"chisq         40.508   0.005\"\n",
      "character(0)\n"
     ]
    },
    {
     "name": "stderr",
     "output_type": "stream",
     "text": [
      "R[write to console]: No AFIs were selected, so only chi-squared will be permuted.\n",
      "\n",
      "\n"
     ]
    },
    {
     "name": "stdout",
     "output_type": "stream",
     "text": [
      "SCALAR N/A\n",
      "STRICT N/A\n",
      "\n",
      "ITEM TO REMOVE: hitop222\n",
      "social_anxiety =~hitop1 + hitop17 + hitop114 + hitop117 + hitop124 + hitop129 + hitop204 + hitop236 + hitop258\n"
     ]
    },
    {
     "name": "stderr",
     "output_type": "stream",
     "text": [
      "R[write to console]: No AFIs were selected, so only chi-squared will be permuted.\n",
      "\n",
      "\n"
     ]
    },
    {
     "name": "stdout",
     "output_type": "stream",
     "text": [
      "CONFIG chisq p = 0.006\n",
      "PASSED SECONDARY CRITERIA WITH CFI = 0.994 TLI = 0.991 RMSEA = 0.052\n",
      "METRIC INVARIANT NOT PASSED, chisq p = 0.04\n",
      "[1] \"      AFI.Difference p.value\"\n",
      "[1] \"chisq         29.051    0.04\"\n",
      "character(0)\n"
     ]
    },
    {
     "name": "stderr",
     "output_type": "stream",
     "text": [
      "R[write to console]: No AFIs were selected, so only chi-squared will be permuted.\n",
      "\n",
      "\n"
     ]
    },
    {
     "name": "stdout",
     "output_type": "stream",
     "text": [
      "SCALAR N/A\n",
      "STRICT N/A\n",
      "\n",
      "ITEM TO REMOVE: hitop236\n",
      "social_anxiety =~hitop1 + hitop17 + hitop114 + hitop117 + hitop124 + hitop129 + hitop204 + hitop222 + hitop258\n"
     ]
    },
    {
     "name": "stderr",
     "output_type": "stream",
     "text": [
      "R[write to console]: No AFIs were selected, so only chi-squared will be permuted.\n",
      "\n",
      "\n"
     ]
    },
    {
     "name": "stdout",
     "output_type": "stream",
     "text": [
      "CONFIG INVARIANT chisq p = 0.053\n",
      "METRIC INVARIANT NOT PASSED, chisq p = 0.013\n",
      "[1] \"      AFI.Difference p.value\"\n",
      "[1] \"chisq         35.685   0.013\"\n",
      "character(0)\n"
     ]
    },
    {
     "name": "stderr",
     "output_type": "stream",
     "text": [
      "R[write to console]: No AFIs were selected, so only chi-squared will be permuted.\n",
      "\n",
      "\n"
     ]
    },
    {
     "name": "stdout",
     "output_type": "stream",
     "text": [
      "SCALAR N/A\n",
      "STRICT N/A\n",
      "\n",
      "ITEM TO REMOVE: hitop258\n",
      "social_anxiety =~hitop1 + hitop17 + hitop114 + hitop117 + hitop124 + hitop129 + hitop204 + hitop222 + hitop236\n"
     ]
    },
    {
     "name": "stderr",
     "output_type": "stream",
     "text": [
      "R[write to console]: No AFIs were selected, so only chi-squared will be permuted.\n",
      "\n",
      "\n"
     ]
    },
    {
     "name": "stdout",
     "output_type": "stream",
     "text": [
      "CONFIG chisq p = 0.003\n",
      "PASSED SECONDARY CRITERIA WITH CFI = 0.998 TLI = 0.997 RMSEA = 0.052\n",
      "METRIC INVARIANT NOT PASSED, chisq p = 0.008\n",
      "[1] \"      AFI.Difference p.value\"\n",
      "[1] \"chisq         38.933   0.008\"\n",
      "character(0)\n",
      "SCALAR N/A\n",
      "STRICT N/A\n",
      "DONE\n"
     ]
    },
    {
     "data": {
      "text/plain": [
       "0"
      ]
     },
     "execution_count": 62,
     "metadata": {},
     "output_type": "execute_result"
    }
   ],
   "source": [
    "run_specific_cfa2(mydata_val_enriched, \n",
    "                 whichcolumn = 'valid_enriched', \n",
    "                 whichscale = 'social_anxiety', \n",
    "                 whichcfa = 'metric')"
   ]
  },
  {
   "cell_type": "code",
   "execution_count": 64,
   "id": "100a35f8-8785-47f6-87dc-c46afa0e54a1",
   "metadata": {},
   "outputs": [
    {
     "name": "stderr",
     "output_type": "stream",
     "text": [
      "R[write to console]: No AFIs were selected, so only chi-squared will be permuted.\n",
      "\n",
      "\n"
     ]
    },
    {
     "name": "stdout",
     "output_type": "stream",
     "text": [
      "THIS ONE RUNS ALL COMBINATIONS OF ITEMS\n",
      "lets go\n",
      "\n",
      "\n",
      "SOCIAL_ANXIETY\n",
      "social_anxiety =~hitop1 + hitop17 + hitop114 + hitop117 + hitop124 + hitop129 + hitop204 + hitop222 + hitop236 + hitop258\n",
      "\n",
      "COMBINATIONS OF ITEMS: \n",
      "('hitop1', 'hitop17', 'hitop114', 'hitop117', 'hitop124', 'hitop129', 'hitop204', 'hitop222')\n",
      "social_anxiety =~hitop1 + hitop17 + hitop114 + hitop117 + hitop124 + hitop129 + hitop204 + hitop222\n"
     ]
    },
    {
     "name": "stderr",
     "output_type": "stream",
     "text": [
      "R[write to console]: No AFIs were selected, so only chi-squared will be permuted.\n",
      "\n",
      "\n"
     ]
    },
    {
     "name": "stdout",
     "output_type": "stream",
     "text": [
      "CONFIG INVARIANT chisq p = 0.053\n",
      "METRIC INVARIANT NOT PASSED, chisq p = 0.017\n",
      "[1] \"      AFI.Difference p.value\"\n",
      "[1] \"chisq         27.117   0.017\"\n",
      "character(0)\n"
     ]
    },
    {
     "name": "stderr",
     "output_type": "stream",
     "text": [
      "R[write to console]: No AFIs were selected, so only chi-squared will be permuted.\n",
      "\n",
      "\n"
     ]
    },
    {
     "name": "stdout",
     "output_type": "stream",
     "text": [
      "SCALAR N/A\n",
      "STRICT N/A\n",
      "\n",
      "COMBINATIONS OF ITEMS: \n",
      "('hitop1', 'hitop17', 'hitop114', 'hitop117', 'hitop124', 'hitop129', 'hitop204', 'hitop236')\n",
      "social_anxiety =~hitop1 + hitop17 + hitop114 + hitop117 + hitop124 + hitop129 + hitop204 + hitop236\n"
     ]
    },
    {
     "name": "stderr",
     "output_type": "stream",
     "text": [
      "R[write to console]: No AFIs were selected, so only chi-squared will be permuted.\n",
      "\n",
      "\n"
     ]
    },
    {
     "name": "stdout",
     "output_type": "stream",
     "text": [
      "CONFIG chisq p = 0.01\n",
      "PASSED SECONDARY CRITERIA WITH CFI = 0.993 TLI = 0.99 RMSEA = 0.055\n"
     ]
    },
    {
     "name": "stderr",
     "output_type": "stream",
     "text": [
      "R[write to console]: No AFIs were selected, so only chi-squared will be permuted.\n",
      "\n",
      "\n"
     ]
    },
    {
     "name": "stdout",
     "output_type": "stream",
     "text": [
      "METRIC INVARIANT chisq p = 0.051\n",
      "SCALAR N/A\n",
      "STRICT N/A\n",
      "\n",
      "COMBINATIONS OF ITEMS: \n",
      "('hitop1', 'hitop17', 'hitop114', 'hitop117', 'hitop124', 'hitop129', 'hitop204', 'hitop258')\n",
      "social_anxiety =~hitop1 + hitop17 + hitop114 + hitop117 + hitop124 + hitop129 + hitop204 + hitop258\n"
     ]
    },
    {
     "name": "stderr",
     "output_type": "stream",
     "text": [
      "R[write to console]: No AFIs were selected, so only chi-squared will be permuted.\n",
      "\n",
      "\n"
     ]
    },
    {
     "name": "stdout",
     "output_type": "stream",
     "text": [
      "CONFIG chisq p = 0.011\n",
      "PASSED SECONDARY CRITERIA WITH CFI = 0.993 TLI = 0.99 RMSEA = 0.058\n"
     ]
    },
    {
     "name": "stderr",
     "output_type": "stream",
     "text": [
      "R[write to console]: No AFIs were selected, so only chi-squared will be permuted.\n",
      "\n",
      "\n"
     ]
    },
    {
     "name": "stdout",
     "output_type": "stream",
     "text": [
      "METRIC INVARIANT chisq p = 0.117\n",
      "SCALAR N/A\n",
      "STRICT N/A\n",
      "\n",
      "COMBINATIONS OF ITEMS: \n",
      "('hitop1', 'hitop17', 'hitop114', 'hitop117', 'hitop124', 'hitop129', 'hitop222', 'hitop236')\n",
      "social_anxiety =~hitop1 + hitop17 + hitop114 + hitop117 + hitop124 + hitop129 + hitop222 + hitop236\n"
     ]
    },
    {
     "name": "stderr",
     "output_type": "stream",
     "text": [
      "R[write to console]: No AFIs were selected, so only chi-squared will be permuted.\n",
      "\n",
      "\n"
     ]
    },
    {
     "name": "stdout",
     "output_type": "stream",
     "text": [
      "CONFIG chisq p = 0.001\n",
      "PASSED SECONDARY CRITERIA WITH CFI = 0.997 TLI = 0.995 RMSEA = 0.058\n",
      "METRIC INVARIANT NOT PASSED, chisq p = 0.019\n",
      "[1] \"      AFI.Difference p.value\"\n",
      "[1] \"chisq         26.521   0.019\"\n",
      "character(0)\n"
     ]
    },
    {
     "name": "stderr",
     "output_type": "stream",
     "text": [
      "R[write to console]: No AFIs were selected, so only chi-squared will be permuted.\n",
      "\n",
      "\n"
     ]
    },
    {
     "name": "stdout",
     "output_type": "stream",
     "text": [
      "SCALAR N/A\n",
      "STRICT N/A\n",
      "\n",
      "COMBINATIONS OF ITEMS: \n",
      "('hitop1', 'hitop17', 'hitop114', 'hitop117', 'hitop124', 'hitop129', 'hitop222', 'hitop258')\n",
      "social_anxiety =~hitop1 + hitop17 + hitop114 + hitop117 + hitop124 + hitop129 + hitop222 + hitop258\n"
     ]
    },
    {
     "name": "stderr",
     "output_type": "stream",
     "text": [
      "R[write to console]: No AFIs were selected, so only chi-squared will be permuted.\n",
      "\n",
      "\n"
     ]
    },
    {
     "name": "stdout",
     "output_type": "stream",
     "text": [
      "CONFIG chisq p = 0.029\n",
      "PASSED SECONDARY CRITERIA WITH CFI = 0.993 TLI = 0.99 RMSEA = 0.058\n",
      "METRIC INVARIANT NOT PASSED, chisq p = 0.016\n",
      "[1] \"      AFI.Difference p.value\"\n",
      "[1] \"chisq         27.375   0.016\"\n",
      "character(0)\n"
     ]
    },
    {
     "name": "stderr",
     "output_type": "stream",
     "text": [
      "R[write to console]: No AFIs were selected, so only chi-squared will be permuted.\n",
      "\n",
      "\n"
     ]
    },
    {
     "name": "stdout",
     "output_type": "stream",
     "text": [
      "SCALAR N/A\n",
      "STRICT N/A\n",
      "\n",
      "COMBINATIONS OF ITEMS: \n",
      "('hitop1', 'hitop17', 'hitop114', 'hitop117', 'hitop124', 'hitop129', 'hitop236', 'hitop258')\n",
      "social_anxiety =~hitop1 + hitop17 + hitop114 + hitop117 + hitop124 + hitop129 + hitop236 + hitop258\n"
     ]
    },
    {
     "name": "stderr",
     "output_type": "stream",
     "text": [
      "R[write to console]: No AFIs were selected, so only chi-squared will be permuted.\n",
      "\n",
      "\n"
     ]
    },
    {
     "name": "stdout",
     "output_type": "stream",
     "text": [
      "CONFIG chisq p = 0.002\n",
      "PASSED SECONDARY CRITERIA WITH CFI = 0.993 TLI = 0.99 RMSEA = 0.057\n"
     ]
    },
    {
     "name": "stderr",
     "output_type": "stream",
     "text": [
      "R[write to console]: No AFIs were selected, so only chi-squared will be permuted.\n",
      "\n",
      "\n"
     ]
    },
    {
     "name": "stdout",
     "output_type": "stream",
     "text": [
      "METRIC INVARIANT chisq p = 0.053\n",
      "SCALAR N/A\n",
      "STRICT N/A\n",
      "\n",
      "COMBINATIONS OF ITEMS: \n",
      "('hitop1', 'hitop17', 'hitop114', 'hitop117', 'hitop124', 'hitop204', 'hitop222', 'hitop236')\n",
      "social_anxiety =~hitop1 + hitop17 + hitop114 + hitop117 + hitop124 + hitop204 + hitop222 + hitop236\n"
     ]
    },
    {
     "name": "stderr",
     "output_type": "stream",
     "text": [
      "R[write to console]: No AFIs were selected, so only chi-squared will be permuted.\n",
      "\n",
      "\n"
     ]
    },
    {
     "name": "stdout",
     "output_type": "stream",
     "text": [
      "CONFIG chisq p = 0.001\n",
      "PASSED SECONDARY CRITERIA WITH CFI = 0.994 TLI = 0.992 RMSEA = 0.052\n",
      "METRIC INVARIANT NOT PASSED, chisq p = 0.02\n",
      "[1] \"      AFI.Difference p.value\"\n",
      "[1] \"chisq         26.569    0.02\"\n",
      "character(0)\n"
     ]
    },
    {
     "name": "stderr",
     "output_type": "stream",
     "text": [
      "R[write to console]: No AFIs were selected, so only chi-squared will be permuted.\n",
      "\n",
      "\n"
     ]
    },
    {
     "name": "stdout",
     "output_type": "stream",
     "text": [
      "SCALAR N/A\n",
      "STRICT N/A\n",
      "\n",
      "COMBINATIONS OF ITEMS: \n",
      "('hitop1', 'hitop17', 'hitop114', 'hitop117', 'hitop124', 'hitop204', 'hitop222', 'hitop258')\n",
      "social_anxiety =~hitop1 + hitop17 + hitop114 + hitop117 + hitop124 + hitop204 + hitop222 + hitop258\n"
     ]
    },
    {
     "name": "stderr",
     "output_type": "stream",
     "text": [
      "R[write to console]: No AFIs were selected, so only chi-squared will be permuted.\n",
      "\n",
      "\n"
     ]
    },
    {
     "name": "stdout",
     "output_type": "stream",
     "text": [
      "CONFIG chisq p = 0.024\n",
      "PASSED SECONDARY CRITERIA WITH CFI = 0.998 TLI = 0.998 RMSEA = 0.052\n",
      "METRIC INVARIANT NOT PASSED, chisq p = 0.023\n",
      "[1] \"      AFI.Difference p.value\"\n",
      "[1] \"chisq         25.243   0.023\"\n",
      "character(0)\n"
     ]
    },
    {
     "name": "stderr",
     "output_type": "stream",
     "text": [
      "R[write to console]: No AFIs were selected, so only chi-squared will be permuted.\n",
      "\n",
      "\n"
     ]
    },
    {
     "name": "stdout",
     "output_type": "stream",
     "text": [
      "SCALAR N/A\n",
      "STRICT N/A\n",
      "\n",
      "COMBINATIONS OF ITEMS: \n",
      "('hitop1', 'hitop17', 'hitop114', 'hitop117', 'hitop124', 'hitop204', 'hitop236', 'hitop258')\n",
      "social_anxiety =~hitop1 + hitop17 + hitop114 + hitop117 + hitop124 + hitop204 + hitop236 + hitop258\n"
     ]
    },
    {
     "name": "stderr",
     "output_type": "stream",
     "text": [
      "R[write to console]: No AFIs were selected, so only chi-squared will be permuted.\n",
      "\n",
      "\n"
     ]
    },
    {
     "name": "stdout",
     "output_type": "stream",
     "text": [
      "CONFIG chisq p = 0.002\n",
      "PASSED SECONDARY CRITERIA WITH CFI = 0.999 TLI = 0.998 RMSEA = 0.049\n"
     ]
    },
    {
     "name": "stderr",
     "output_type": "stream",
     "text": [
      "R[write to console]: No AFIs were selected, so only chi-squared will be permuted.\n",
      "\n",
      "\n"
     ]
    },
    {
     "name": "stdout",
     "output_type": "stream",
     "text": [
      "METRIC INVARIANT chisq p = 0.086\n",
      "SCALAR N/A\n",
      "STRICT N/A\n",
      "\n",
      "COMBINATIONS OF ITEMS: \n",
      "('hitop1', 'hitop17', 'hitop114', 'hitop117', 'hitop124', 'hitop222', 'hitop236', 'hitop258')\n",
      "social_anxiety =~hitop1 + hitop17 + hitop114 + hitop117 + hitop124 + hitop222 + hitop236 + hitop258\n"
     ]
    },
    {
     "name": "stderr",
     "output_type": "stream",
     "text": [
      "R[write to console]: No AFIs were selected, so only chi-squared will be permuted.\n",
      "\n",
      "\n"
     ]
    },
    {
     "name": "stdout",
     "output_type": "stream",
     "text": [
      "CONFIG chisq p = 0.001\n",
      "PASSED SECONDARY CRITERIA WITH CFI = 0.995 TLI = 0.993 RMSEA = 0.051\n",
      "METRIC INVARIANT NOT PASSED, chisq p = 0.014\n",
      "[1] \"      AFI.Difference p.value\"\n",
      "[1] \"chisq         28.123   0.014\"\n",
      "character(0)\n"
     ]
    },
    {
     "name": "stderr",
     "output_type": "stream",
     "text": [
      "R[write to console]: No AFIs were selected, so only chi-squared will be permuted.\n",
      "\n",
      "\n"
     ]
    },
    {
     "name": "stdout",
     "output_type": "stream",
     "text": [
      "SCALAR N/A\n",
      "STRICT N/A\n",
      "\n",
      "COMBINATIONS OF ITEMS: \n",
      "('hitop1', 'hitop17', 'hitop114', 'hitop117', 'hitop129', 'hitop204', 'hitop222', 'hitop236')\n",
      "social_anxiety =~hitop1 + hitop17 + hitop114 + hitop117 + hitop129 + hitop204 + hitop222 + hitop236\n"
     ]
    },
    {
     "name": "stderr",
     "output_type": "stream",
     "text": [
      "R[write to console]: No AFIs were selected, so only chi-squared will be permuted.\n",
      "\n",
      "\n"
     ]
    },
    {
     "name": "stdout",
     "output_type": "stream",
     "text": [
      "CONFIG chisq p = 0.001\n",
      "PASSED SECONDARY CRITERIA WITH CFI = 0.995 TLI = 0.994 RMSEA = 0.044\n",
      "METRIC INVARIANT NOT PASSED, chisq p = 0.004\n",
      "[1] \"      AFI.Difference p.value\"\n",
      "[1] \"chisq          31.58   0.004\"\n",
      "character(0)\n"
     ]
    },
    {
     "name": "stderr",
     "output_type": "stream",
     "text": [
      "R[write to console]: No AFIs were selected, so only chi-squared will be permuted.\n",
      "\n",
      "\n"
     ]
    },
    {
     "name": "stdout",
     "output_type": "stream",
     "text": [
      "SCALAR N/A\n",
      "STRICT N/A\n",
      "\n",
      "COMBINATIONS OF ITEMS: \n",
      "('hitop1', 'hitop17', 'hitop114', 'hitop117', 'hitop129', 'hitop204', 'hitop222', 'hitop258')\n",
      "social_anxiety =~hitop1 + hitop17 + hitop114 + hitop117 + hitop129 + hitop204 + hitop222 + hitop258\n"
     ]
    },
    {
     "name": "stderr",
     "output_type": "stream",
     "text": [
      "R[write to console]: No AFIs were selected, so only chi-squared will be permuted.\n",
      "\n",
      "\n"
     ]
    },
    {
     "name": "stdout",
     "output_type": "stream",
     "text": [
      "CONFIG chisq p = 0.033\n",
      "PASSED SECONDARY CRITERIA WITH CFI = 0.999 TLI = 0.999 RMSEA = 0.046\n",
      "METRIC INVARIANT NOT PASSED, chisq p = 0.012\n",
      "[1] \"      AFI.Difference p.value\"\n",
      "[1] \"chisq         29.027   0.012\"\n",
      "character(0)\n"
     ]
    },
    {
     "name": "stderr",
     "output_type": "stream",
     "text": [
      "R[write to console]: No AFIs were selected, so only chi-squared will be permuted.\n",
      "\n",
      "\n"
     ]
    },
    {
     "name": "stdout",
     "output_type": "stream",
     "text": [
      "SCALAR N/A\n",
      "STRICT N/A\n",
      "\n",
      "COMBINATIONS OF ITEMS: \n",
      "('hitop1', 'hitop17', 'hitop114', 'hitop117', 'hitop129', 'hitop204', 'hitop236', 'hitop258')\n",
      "social_anxiety =~hitop1 + hitop17 + hitop114 + hitop117 + hitop129 + hitop204 + hitop236 + hitop258\n"
     ]
    },
    {
     "name": "stderr",
     "output_type": "stream",
     "text": [
      "R[write to console]: No AFIs were selected, so only chi-squared will be permuted.\n",
      "\n",
      "\n"
     ]
    },
    {
     "name": "stdout",
     "output_type": "stream",
     "text": [
      "CONFIG chisq p = 0.006\n",
      "PASSED SECONDARY CRITERIA WITH CFI = 0.999 TLI = 0.999 RMSEA = 0.046\n",
      "METRIC INVARIANT NOT PASSED, chisq p = 0.039\n",
      "[1] \"      AFI.Difference p.value\"\n",
      "[1] \"chisq         23.168   0.039\"\n",
      "character(0)\n"
     ]
    },
    {
     "name": "stderr",
     "output_type": "stream",
     "text": [
      "R[write to console]: No AFIs were selected, so only chi-squared will be permuted.\n",
      "\n",
      "\n"
     ]
    },
    {
     "name": "stdout",
     "output_type": "stream",
     "text": [
      "SCALAR N/A\n",
      "STRICT N/A\n",
      "\n",
      "COMBINATIONS OF ITEMS: \n",
      "('hitop1', 'hitop17', 'hitop114', 'hitop117', 'hitop129', 'hitop222', 'hitop236', 'hitop258')\n",
      "social_anxiety =~hitop1 + hitop17 + hitop114 + hitop117 + hitop129 + hitop222 + hitop236 + hitop258\n"
     ]
    },
    {
     "name": "stderr",
     "output_type": "stream",
     "text": [
      "R[write to console]: No AFIs were selected, so only chi-squared will be permuted.\n",
      "\n",
      "\n"
     ]
    },
    {
     "name": "stdout",
     "output_type": "stream",
     "text": [
      "CONFIG chisq p = 0.001\n",
      "PASSED SECONDARY CRITERIA WITH CFI = 0.999 TLI = 0.998 RMSEA = 0.05\n",
      "METRIC INVARIANT NOT PASSED, chisq p = 0.004\n",
      "[1] \"      AFI.Difference p.value\"\n",
      "[1] \"chisq         31.717   0.004\"\n",
      "character(0)\n"
     ]
    },
    {
     "name": "stderr",
     "output_type": "stream",
     "text": [
      "R[write to console]: No AFIs were selected, so only chi-squared will be permuted.\n",
      "\n",
      "\n"
     ]
    },
    {
     "name": "stdout",
     "output_type": "stream",
     "text": [
      "SCALAR N/A\n",
      "STRICT N/A\n",
      "\n",
      "COMBINATIONS OF ITEMS: \n",
      "('hitop1', 'hitop17', 'hitop114', 'hitop117', 'hitop204', 'hitop222', 'hitop236', 'hitop258')\n",
      "social_anxiety =~hitop1 + hitop17 + hitop114 + hitop117 + hitop204 + hitop222 + hitop236 + hitop258\n"
     ]
    },
    {
     "name": "stderr",
     "output_type": "stream",
     "text": [
      "R[write to console]: No AFIs were selected, so only chi-squared will be permuted.\n",
      "\n",
      "\n"
     ]
    },
    {
     "name": "stdout",
     "output_type": "stream",
     "text": [
      "CONFIG chisq p = 0\n",
      "PASSED SECONDARY CRITERIA WITH CFI = 1.0 TLI = 0.999 RMSEA = 0.046\n",
      "METRIC INVARIANT NOT PASSED, chisq p = 0.007\n",
      "[1] \"      AFI.Difference p.value\"\n",
      "[1] \"chisq         28.776   0.007\"\n",
      "character(0)\n"
     ]
    },
    {
     "name": "stderr",
     "output_type": "stream",
     "text": [
      "R[write to console]: No AFIs were selected, so only chi-squared will be permuted.\n",
      "\n",
      "\n"
     ]
    },
    {
     "name": "stdout",
     "output_type": "stream",
     "text": [
      "SCALAR N/A\n",
      "STRICT N/A\n",
      "\n",
      "COMBINATIONS OF ITEMS: \n",
      "('hitop1', 'hitop17', 'hitop114', 'hitop124', 'hitop129', 'hitop204', 'hitop222', 'hitop236')\n",
      "social_anxiety =~hitop1 + hitop17 + hitop114 + hitop124 + hitop129 + hitop204 + hitop222 + hitop236\n"
     ]
    },
    {
     "name": "stderr",
     "output_type": "stream",
     "text": [
      "R[write to console]: No AFIs were selected, so only chi-squared will be permuted.\n",
      "\n",
      "\n"
     ]
    },
    {
     "name": "stdout",
     "output_type": "stream",
     "text": [
      "CONFIG chisq p = 0.006\n",
      "PASSED SECONDARY CRITERIA WITH CFI = 0.998 TLI = 0.998 RMSEA = 0.05\n",
      "METRIC INVARIANT NOT PASSED, chisq p = 0.002\n",
      "[1] \"      AFI.Difference p.value\"\n",
      "[1] \"chisq          39.52   0.002\"\n",
      "[1] \"Parameter 'social_anxiety=~hitop236' may differ between Groups 'validation' and 'enriched'.\"\n"
     ]
    },
    {
     "name": "stderr",
     "output_type": "stream",
     "text": [
      "R[write to console]: No AFIs were selected, so only chi-squared will be permuted.\n",
      "\n",
      "\n"
     ]
    },
    {
     "name": "stdout",
     "output_type": "stream",
     "text": [
      "SCALAR N/A\n",
      "STRICT N/A\n",
      "\n",
      "COMBINATIONS OF ITEMS: \n",
      "('hitop1', 'hitop17', 'hitop114', 'hitop124', 'hitop129', 'hitop204', 'hitop222', 'hitop258')\n",
      "social_anxiety =~hitop1 + hitop17 + hitop114 + hitop124 + hitop129 + hitop204 + hitop222 + hitop258\n"
     ]
    },
    {
     "name": "stderr",
     "output_type": "stream",
     "text": [
      "R[write to console]: No AFIs were selected, so only chi-squared will be permuted.\n",
      "\n",
      "\n"
     ]
    },
    {
     "name": "stdout",
     "output_type": "stream",
     "text": [
      "CONFIG INVARIANT chisq p = 0.069\n",
      "METRIC INVARIANT NOT PASSED, chisq p = 0.008\n",
      "[1] \"      AFI.Difference p.value\"\n",
      "[1] \"chisq         31.027   0.008\"\n",
      "character(0)\n"
     ]
    },
    {
     "name": "stderr",
     "output_type": "stream",
     "text": [
      "R[write to console]: No AFIs were selected, so only chi-squared will be permuted.\n",
      "\n",
      "\n"
     ]
    },
    {
     "name": "stdout",
     "output_type": "stream",
     "text": [
      "SCALAR N/A\n",
      "STRICT N/A\n",
      "\n",
      "COMBINATIONS OF ITEMS: \n",
      "('hitop1', 'hitop17', 'hitop114', 'hitop124', 'hitop129', 'hitop204', 'hitop236', 'hitop258')\n",
      "social_anxiety =~hitop1 + hitop17 + hitop114 + hitop124 + hitop129 + hitop204 + hitop236 + hitop258\n"
     ]
    },
    {
     "name": "stderr",
     "output_type": "stream",
     "text": [
      "R[write to console]: No AFIs were selected, so only chi-squared will be permuted.\n",
      "\n",
      "\n"
     ]
    },
    {
     "name": "stdout",
     "output_type": "stream",
     "text": [
      "CONFIG chisq p = 0.018\n",
      "PASSED SECONDARY CRITERIA WITH CFI = 0.998 TLI = 0.998 RMSEA = 0.05\n",
      "METRIC INVARIANT NOT PASSED, chisq p = 0.006\n",
      "[1] \"      AFI.Difference p.value\"\n",
      "[1] \"chisq         29.156   0.006\"\n",
      "character(0)\n"
     ]
    },
    {
     "name": "stderr",
     "output_type": "stream",
     "text": [
      "R[write to console]: No AFIs were selected, so only chi-squared will be permuted.\n",
      "\n",
      "\n"
     ]
    },
    {
     "name": "stdout",
     "output_type": "stream",
     "text": [
      "SCALAR N/A\n",
      "STRICT N/A\n",
      "\n",
      "COMBINATIONS OF ITEMS: \n",
      "('hitop1', 'hitop17', 'hitop114', 'hitop124', 'hitop129', 'hitop222', 'hitop236', 'hitop258')\n",
      "social_anxiety =~hitop1 + hitop17 + hitop114 + hitop124 + hitop129 + hitop222 + hitop236 + hitop258\n"
     ]
    },
    {
     "name": "stderr",
     "output_type": "stream",
     "text": [
      "R[write to console]: No AFIs were selected, so only chi-squared will be permuted.\n",
      "\n",
      "\n"
     ]
    },
    {
     "name": "stdout",
     "output_type": "stream",
     "text": [
      "CONFIG chisq p = 0.017\n",
      "PASSED SECONDARY CRITERIA WITH CFI = 0.998 TLI = 0.998 RMSEA = 0.051\n",
      "METRIC INVARIANT NOT PASSED, chisq p = 0.002\n",
      "[1] \"      AFI.Difference p.value\"\n",
      "[1] \"chisq         41.564   0.002\"\n",
      "[1] \"Parameter 'social_anxiety=~hitop236' may differ between Groups 'validation' and 'enriched'.\"\n"
     ]
    },
    {
     "name": "stderr",
     "output_type": "stream",
     "text": [
      "R[write to console]: No AFIs were selected, so only chi-squared will be permuted.\n",
      "\n",
      "\n"
     ]
    },
    {
     "name": "stdout",
     "output_type": "stream",
     "text": [
      "SCALAR N/A\n",
      "STRICT N/A\n",
      "\n",
      "COMBINATIONS OF ITEMS: \n",
      "('hitop1', 'hitop17', 'hitop114', 'hitop124', 'hitop204', 'hitop222', 'hitop236', 'hitop258')\n",
      "social_anxiety =~hitop1 + hitop17 + hitop114 + hitop124 + hitop204 + hitop222 + hitop236 + hitop258\n"
     ]
    },
    {
     "name": "stderr",
     "output_type": "stream",
     "text": [
      "R[write to console]: No AFIs were selected, so only chi-squared will be permuted.\n",
      "\n",
      "\n"
     ]
    },
    {
     "name": "stdout",
     "output_type": "stream",
     "text": [
      "CONFIG chisq p = 0.005\n",
      "PASSED SECONDARY CRITERIA WITH CFI = 0.995 TLI = 0.993 RMSEA = 0.047\n",
      "METRIC INVARIANT NOT PASSED, chisq p = 0.001\n",
      "[1] \"      AFI.Difference p.value\"\n",
      "[1] \"chisq          36.28   0.001\"\n",
      "[1] \"Parameter 'social_anxiety=~hitop236' may differ between Groups 'validation' and 'enriched'.\"\n"
     ]
    },
    {
     "name": "stderr",
     "output_type": "stream",
     "text": [
      "R[write to console]: No AFIs were selected, so only chi-squared will be permuted.\n",
      "\n",
      "\n"
     ]
    },
    {
     "name": "stdout",
     "output_type": "stream",
     "text": [
      "SCALAR N/A\n",
      "STRICT N/A\n",
      "\n",
      "COMBINATIONS OF ITEMS: \n",
      "('hitop1', 'hitop17', 'hitop114', 'hitop129', 'hitop204', 'hitop222', 'hitop236', 'hitop258')\n",
      "social_anxiety =~hitop1 + hitop17 + hitop114 + hitop129 + hitop204 + hitop222 + hitop236 + hitop258\n"
     ]
    },
    {
     "name": "stderr",
     "output_type": "stream",
     "text": [
      "R[write to console]: No AFIs were selected, so only chi-squared will be permuted.\n",
      "\n",
      "\n"
     ]
    },
    {
     "name": "stdout",
     "output_type": "stream",
     "text": [
      "CONFIG chisq p = 0.006\n",
      "PASSED SECONDARY CRITERIA WITH CFI = 0.996 TLI = 0.995 RMSEA = 0.039\n",
      "METRIC INVARIANT NOT PASSED, chisq p = 0.002\n",
      "[1] \"      AFI.Difference p.value\"\n",
      "[1] \"chisq         40.858   0.002\"\n",
      "[1] \"Parameter 'social_anxiety=~hitop236' may differ between Groups 'validation' and 'enriched'.\"\n"
     ]
    },
    {
     "name": "stderr",
     "output_type": "stream",
     "text": [
      "R[write to console]: No AFIs were selected, so only chi-squared will be permuted.\n",
      "\n",
      "\n"
     ]
    },
    {
     "name": "stdout",
     "output_type": "stream",
     "text": [
      "SCALAR N/A\n",
      "STRICT N/A\n",
      "\n",
      "COMBINATIONS OF ITEMS: \n",
      "('hitop1', 'hitop17', 'hitop117', 'hitop124', 'hitop129', 'hitop204', 'hitop222', 'hitop236')\n",
      "social_anxiety =~hitop1 + hitop17 + hitop117 + hitop124 + hitop129 + hitop204 + hitop222 + hitop236\n"
     ]
    },
    {
     "name": "stderr",
     "output_type": "stream",
     "text": [
      "R[write to console]: No AFIs were selected, so only chi-squared will be permuted.\n",
      "\n",
      "\n"
     ]
    },
    {
     "name": "stdout",
     "output_type": "stream",
     "text": [
      "CONFIG chisq p = 0.041\n",
      "PASSED SECONDARY CRITERIA WITH CFI = 0.993 TLI = 0.99 RMSEA = 0.056\n",
      "METRIC INVARIANT NOT PASSED, chisq p = 0.002\n",
      "[1] \"      AFI.Difference p.value\"\n",
      "[1] \"chisq         33.938   0.002\"\n",
      "character(0)\n"
     ]
    },
    {
     "name": "stderr",
     "output_type": "stream",
     "text": [
      "R[write to console]: No AFIs were selected, so only chi-squared will be permuted.\n",
      "\n",
      "\n"
     ]
    },
    {
     "name": "stdout",
     "output_type": "stream",
     "text": [
      "SCALAR N/A\n",
      "STRICT N/A\n",
      "\n",
      "COMBINATIONS OF ITEMS: \n",
      "('hitop1', 'hitop17', 'hitop117', 'hitop124', 'hitop129', 'hitop204', 'hitop222', 'hitop258')\n",
      "social_anxiety =~hitop1 + hitop17 + hitop117 + hitop124 + hitop129 + hitop204 + hitop222 + hitop258\n"
     ]
    },
    {
     "name": "stderr",
     "output_type": "stream",
     "text": [
      "R[write to console]: No AFIs were selected, so only chi-squared will be permuted.\n",
      "\n",
      "\n"
     ]
    },
    {
     "name": "stdout",
     "output_type": "stream",
     "text": [
      "CONFIG INVARIANT chisq p = 0.433\n",
      "METRIC INVARIANT NOT PASSED, chisq p = 0.004\n",
      "[1] \"      AFI.Difference p.value\"\n",
      "[1] \"chisq         31.366   0.004\"\n",
      "[1] \"Parameter 'social_anxiety=~hitop222' may differ between Groups 'validation' and 'enriched'.\"\n"
     ]
    },
    {
     "name": "stderr",
     "output_type": "stream",
     "text": [
      "R[write to console]: No AFIs were selected, so only chi-squared will be permuted.\n",
      "\n",
      "\n"
     ]
    },
    {
     "name": "stdout",
     "output_type": "stream",
     "text": [
      "SCALAR N/A\n",
      "STRICT N/A\n",
      "\n",
      "COMBINATIONS OF ITEMS: \n",
      "('hitop1', 'hitop17', 'hitop117', 'hitop124', 'hitop129', 'hitop204', 'hitop236', 'hitop258')\n",
      "social_anxiety =~hitop1 + hitop17 + hitop117 + hitop124 + hitop129 + hitop204 + hitop236 + hitop258\n"
     ]
    },
    {
     "name": "stderr",
     "output_type": "stream",
     "text": [
      "R[write to console]: No AFIs were selected, so only chi-squared will be permuted.\n",
      "\n",
      "\n"
     ]
    },
    {
     "name": "stdout",
     "output_type": "stream",
     "text": [
      "CONFIG INVARIANT chisq p = 0.051\n",
      "METRIC INVARIANT NOT PASSED, chisq p = 0.027\n",
      "[1] \"      AFI.Difference p.value\"\n",
      "[1] \"chisq          24.11   0.027\"\n",
      "character(0)\n"
     ]
    },
    {
     "name": "stderr",
     "output_type": "stream",
     "text": [
      "R[write to console]: No AFIs were selected, so only chi-squared will be permuted.\n",
      "\n",
      "\n"
     ]
    },
    {
     "name": "stdout",
     "output_type": "stream",
     "text": [
      "SCALAR N/A\n",
      "STRICT N/A\n",
      "\n",
      "COMBINATIONS OF ITEMS: \n",
      "('hitop1', 'hitop17', 'hitop117', 'hitop124', 'hitop129', 'hitop222', 'hitop236', 'hitop258')\n",
      "social_anxiety =~hitop1 + hitop17 + hitop117 + hitop124 + hitop129 + hitop222 + hitop236 + hitop258\n"
     ]
    },
    {
     "name": "stderr",
     "output_type": "stream",
     "text": [
      "R[write to console]: No AFIs were selected, so only chi-squared will be permuted.\n",
      "\n",
      "\n"
     ]
    },
    {
     "name": "stdout",
     "output_type": "stream",
     "text": [
      "CONFIG chisq p = 0.023\n",
      "PASSED SECONDARY CRITERIA WITH CFI = 0.993 TLI = 0.99 RMSEA = 0.059\n",
      "METRIC INVARIANT NOT PASSED, chisq p = 0\n",
      "[1] \"      AFI.Difference p.value\"\n",
      "[1] \"chisq         35.459       0\"\n",
      "character(0)\n"
     ]
    },
    {
     "name": "stderr",
     "output_type": "stream",
     "text": [
      "R[write to console]: No AFIs were selected, so only chi-squared will be permuted.\n",
      "\n",
      "\n"
     ]
    },
    {
     "name": "stdout",
     "output_type": "stream",
     "text": [
      "SCALAR N/A\n",
      "STRICT N/A\n",
      "\n",
      "COMBINATIONS OF ITEMS: \n",
      "('hitop1', 'hitop17', 'hitop117', 'hitop124', 'hitop204', 'hitop222', 'hitop236', 'hitop258')\n",
      "social_anxiety =~hitop1 + hitop17 + hitop117 + hitop124 + hitop204 + hitop222 + hitop236 + hitop258\n"
     ]
    },
    {
     "name": "stderr",
     "output_type": "stream",
     "text": [
      "R[write to console]: No AFIs were selected, so only chi-squared will be permuted.\n",
      "\n",
      "\n"
     ]
    },
    {
     "name": "stdout",
     "output_type": "stream",
     "text": [
      "CONFIG chisq p = 0.015\n",
      "PASSED SECONDARY CRITERIA WITH CFI = 0.995 TLI = 0.993 RMSEA = 0.052\n",
      "METRIC INVARIANT NOT PASSED, chisq p = 0\n",
      "[1] \"      AFI.Difference p.value\"\n",
      "[1] \"chisq         32.389       0\"\n",
      "character(0)\n"
     ]
    },
    {
     "name": "stderr",
     "output_type": "stream",
     "text": [
      "R[write to console]: No AFIs were selected, so only chi-squared will be permuted.\n",
      "\n",
      "\n"
     ]
    },
    {
     "name": "stdout",
     "output_type": "stream",
     "text": [
      "SCALAR N/A\n",
      "STRICT N/A\n",
      "\n",
      "COMBINATIONS OF ITEMS: \n",
      "('hitop1', 'hitop17', 'hitop117', 'hitop129', 'hitop204', 'hitop222', 'hitop236', 'hitop258')\n",
      "social_anxiety =~hitop1 + hitop17 + hitop117 + hitop129 + hitop204 + hitop222 + hitop236 + hitop258\n"
     ]
    },
    {
     "name": "stderr",
     "output_type": "stream",
     "text": [
      "R[write to console]: No AFIs were selected, so only chi-squared will be permuted.\n",
      "\n",
      "\n"
     ]
    },
    {
     "name": "stdout",
     "output_type": "stream",
     "text": [
      "CONFIG chisq p = 0.001\n",
      "PASSED SECONDARY CRITERIA WITH CFI = 0.995 TLI = 0.993 RMSEA = 0.049\n",
      "METRIC INVARIANT NOT PASSED, chisq p = 0\n",
      "[1] \"      AFI.Difference p.value\"\n",
      "[1] \"chisq         35.685       0\"\n",
      "[1] \"Parameter 'social_anxiety=~hitop222' may differ between Groups 'validation' and 'enriched'.\"\n"
     ]
    },
    {
     "name": "stderr",
     "output_type": "stream",
     "text": [
      "R[write to console]: No AFIs were selected, so only chi-squared will be permuted.\n",
      "\n",
      "\n"
     ]
    },
    {
     "name": "stdout",
     "output_type": "stream",
     "text": [
      "SCALAR N/A\n",
      "STRICT N/A\n",
      "\n",
      "COMBINATIONS OF ITEMS: \n",
      "('hitop1', 'hitop17', 'hitop124', 'hitop129', 'hitop204', 'hitop222', 'hitop236', 'hitop258')\n",
      "social_anxiety =~hitop1 + hitop17 + hitop124 + hitop129 + hitop204 + hitop222 + hitop236 + hitop258\n"
     ]
    },
    {
     "name": "stderr",
     "output_type": "stream",
     "text": [
      "R[write to console]: No AFIs were selected, so only chi-squared will be permuted.\n",
      "\n",
      "\n"
     ]
    },
    {
     "name": "stdout",
     "output_type": "stream",
     "text": [
      "CONFIG chisq p = 0.033\n",
      "PASSED SECONDARY CRITERIA WITH CFI = 0.995 TLI = 0.992 RMSEA = 0.051\n",
      "METRIC INVARIANT NOT PASSED, chisq p = 0.001\n",
      "[1] \"      AFI.Difference p.value\"\n",
      "[1] \"chisq          41.47   0.001\"\n",
      "[1] \"Parameter 'social_anxiety=~hitop236' may differ between Groups 'validation' and 'enriched'.\"\n"
     ]
    },
    {
     "name": "stderr",
     "output_type": "stream",
     "text": [
      "R[write to console]: No AFIs were selected, so only chi-squared will be permuted.\n",
      "\n",
      "\n"
     ]
    },
    {
     "name": "stdout",
     "output_type": "stream",
     "text": [
      "SCALAR N/A\n",
      "STRICT N/A\n",
      "\n",
      "COMBINATIONS OF ITEMS: \n",
      "('hitop1', 'hitop114', 'hitop117', 'hitop124', 'hitop129', 'hitop204', 'hitop222', 'hitop236')\n",
      "social_anxiety =~hitop1 + hitop114 + hitop117 + hitop124 + hitop129 + hitop204 + hitop222 + hitop236\n"
     ]
    },
    {
     "name": "stderr",
     "output_type": "stream",
     "text": [
      "R[write to console]: No AFIs were selected, so only chi-squared will be permuted.\n",
      "\n",
      "\n"
     ]
    },
    {
     "name": "stdout",
     "output_type": "stream",
     "text": [
      "CONFIG INVARIANT chisq p = 0.11\n",
      "METRIC INVARIANT NOT PASSED, chisq p = 0.007\n",
      "[1] \"      AFI.Difference p.value\"\n",
      "[1] \"chisq         30.551   0.007\"\n",
      "character(0)\n"
     ]
    },
    {
     "name": "stderr",
     "output_type": "stream",
     "text": [
      "R[write to console]: No AFIs were selected, so only chi-squared will be permuted.\n",
      "\n",
      "\n"
     ]
    },
    {
     "name": "stdout",
     "output_type": "stream",
     "text": [
      "SCALAR N/A\n",
      "STRICT N/A\n",
      "\n",
      "COMBINATIONS OF ITEMS: \n",
      "('hitop1', 'hitop114', 'hitop117', 'hitop124', 'hitop129', 'hitop204', 'hitop222', 'hitop258')\n",
      "social_anxiety =~hitop1 + hitop114 + hitop117 + hitop124 + hitop129 + hitop204 + hitop222 + hitop258\n"
     ]
    },
    {
     "name": "stderr",
     "output_type": "stream",
     "text": [
      "R[write to console]: No AFIs were selected, so only chi-squared will be permuted.\n",
      "\n",
      "\n"
     ]
    },
    {
     "name": "stdout",
     "output_type": "stream",
     "text": [
      "CONFIG INVARIANT chisq p = 0.512\n",
      "METRIC INVARIANT NOT PASSED, chisq p = 0.02\n",
      "[1] \"      AFI.Difference p.value\"\n",
      "[1] \"chisq         27.398    0.02\"\n",
      "character(0)\n"
     ]
    },
    {
     "name": "stderr",
     "output_type": "stream",
     "text": [
      "R[write to console]: No AFIs were selected, so only chi-squared will be permuted.\n",
      "\n",
      "\n"
     ]
    },
    {
     "name": "stdout",
     "output_type": "stream",
     "text": [
      "SCALAR N/A\n",
      "STRICT N/A\n",
      "\n",
      "COMBINATIONS OF ITEMS: \n",
      "('hitop1', 'hitop114', 'hitop117', 'hitop124', 'hitop129', 'hitop204', 'hitop236', 'hitop258')\n",
      "social_anxiety =~hitop1 + hitop114 + hitop117 + hitop124 + hitop129 + hitop204 + hitop236 + hitop258\n"
     ]
    },
    {
     "name": "stderr",
     "output_type": "stream",
     "text": [
      "R[write to console]: No AFIs were selected, so only chi-squared will be permuted.\n",
      "\n",
      "\n"
     ]
    },
    {
     "name": "stdout",
     "output_type": "stream",
     "text": [
      "CONFIG INVARIANT chisq p = 0.17\n",
      "METRIC INVARIANT NOT PASSED, chisq p = 0.027\n",
      "[1] \"      AFI.Difference p.value\"\n",
      "[1] \"chisq         24.569   0.027\"\n",
      "character(0)\n"
     ]
    },
    {
     "name": "stderr",
     "output_type": "stream",
     "text": [
      "R[write to console]: No AFIs were selected, so only chi-squared will be permuted.\n",
      "\n",
      "\n"
     ]
    },
    {
     "name": "stdout",
     "output_type": "stream",
     "text": [
      "SCALAR N/A\n",
      "STRICT N/A\n",
      "\n",
      "COMBINATIONS OF ITEMS: \n",
      "('hitop1', 'hitop114', 'hitop117', 'hitop124', 'hitop129', 'hitop222', 'hitop236', 'hitop258')\n",
      "social_anxiety =~hitop1 + hitop114 + hitop117 + hitop124 + hitop129 + hitop222 + hitop236 + hitop258\n"
     ]
    },
    {
     "name": "stderr",
     "output_type": "stream",
     "text": [
      "R[write to console]: No AFIs were selected, so only chi-squared will be permuted.\n",
      "\n",
      "\n"
     ]
    },
    {
     "name": "stdout",
     "output_type": "stream",
     "text": [
      "CONFIG INVARIANT chisq p = 0.422\n",
      "METRIC INVARIANT NOT PASSED, chisq p = 0.002\n",
      "[1] \"      AFI.Difference p.value\"\n",
      "[1] \"chisq         33.597   0.002\"\n",
      "character(0)\n"
     ]
    },
    {
     "name": "stderr",
     "output_type": "stream",
     "text": [
      "R[write to console]: No AFIs were selected, so only chi-squared will be permuted.\n",
      "\n",
      "\n"
     ]
    },
    {
     "name": "stdout",
     "output_type": "stream",
     "text": [
      "SCALAR N/A\n",
      "STRICT N/A\n",
      "\n",
      "COMBINATIONS OF ITEMS: \n",
      "('hitop1', 'hitop114', 'hitop117', 'hitop124', 'hitop204', 'hitop222', 'hitop236', 'hitop258')\n",
      "social_anxiety =~hitop1 + hitop114 + hitop117 + hitop124 + hitop204 + hitop222 + hitop236 + hitop258\n"
     ]
    },
    {
     "name": "stderr",
     "output_type": "stream",
     "text": [
      "R[write to console]: No AFIs were selected, so only chi-squared will be permuted.\n",
      "\n",
      "\n"
     ]
    },
    {
     "name": "stdout",
     "output_type": "stream",
     "text": [
      "CONFIG INVARIANT chisq p = 0.079\n",
      "METRIC INVARIANT NOT PASSED, chisq p = 0.01\n",
      "[1] \"      AFI.Difference p.value\"\n",
      "[1] \"chisq         29.155    0.01\"\n",
      "character(0)\n"
     ]
    },
    {
     "name": "stderr",
     "output_type": "stream",
     "text": [
      "R[write to console]: No AFIs were selected, so only chi-squared will be permuted.\n",
      "\n",
      "\n"
     ]
    },
    {
     "name": "stdout",
     "output_type": "stream",
     "text": [
      "SCALAR N/A\n",
      "STRICT N/A\n",
      "\n",
      "COMBINATIONS OF ITEMS: \n",
      "('hitop1', 'hitop114', 'hitop117', 'hitop129', 'hitop204', 'hitop222', 'hitop236', 'hitop258')\n",
      "social_anxiety =~hitop1 + hitop114 + hitop117 + hitop129 + hitop204 + hitop222 + hitop236 + hitop258\n"
     ]
    },
    {
     "name": "stderr",
     "output_type": "stream",
     "text": [
      "R[write to console]: No AFIs were selected, so only chi-squared will be permuted.\n",
      "\n",
      "\n"
     ]
    },
    {
     "name": "stdout",
     "output_type": "stream",
     "text": [
      "CONFIG INVARIANT chisq p = 0.084\n",
      "METRIC INVARIANT NOT PASSED, chisq p = 0.003\n",
      "[1] \"      AFI.Difference p.value\"\n",
      "[1] \"chisq         33.566   0.003\"\n",
      "character(0)\n"
     ]
    },
    {
     "name": "stderr",
     "output_type": "stream",
     "text": [
      "R[write to console]: No AFIs were selected, so only chi-squared will be permuted.\n",
      "\n",
      "\n"
     ]
    },
    {
     "name": "stdout",
     "output_type": "stream",
     "text": [
      "SCALAR N/A\n",
      "STRICT N/A\n",
      "\n",
      "COMBINATIONS OF ITEMS: \n",
      "('hitop1', 'hitop114', 'hitop124', 'hitop129', 'hitop204', 'hitop222', 'hitop236', 'hitop258')\n",
      "social_anxiety =~hitop1 + hitop114 + hitop124 + hitop129 + hitop204 + hitop222 + hitop236 + hitop258\n"
     ]
    },
    {
     "name": "stderr",
     "output_type": "stream",
     "text": [
      "R[write to console]: No AFIs were selected, so only chi-squared will be permuted.\n",
      "\n",
      "\n"
     ]
    },
    {
     "name": "stdout",
     "output_type": "stream",
     "text": [
      "CONFIG INVARIANT chisq p = 0.28\n",
      "METRIC INVARIANT NOT PASSED, chisq p = 0.001\n",
      "[1] \"      AFI.Difference p.value\"\n",
      "[1] \"chisq         39.535   0.001\"\n",
      "character(0)\n"
     ]
    },
    {
     "name": "stderr",
     "output_type": "stream",
     "text": [
      "R[write to console]: No AFIs were selected, so only chi-squared will be permuted.\n",
      "\n",
      "\n"
     ]
    },
    {
     "name": "stdout",
     "output_type": "stream",
     "text": [
      "SCALAR N/A\n",
      "STRICT N/A\n",
      "\n",
      "COMBINATIONS OF ITEMS: \n",
      "('hitop1', 'hitop117', 'hitop124', 'hitop129', 'hitop204', 'hitop222', 'hitop236', 'hitop258')\n",
      "social_anxiety =~hitop1 + hitop117 + hitop124 + hitop129 + hitop204 + hitop222 + hitop236 + hitop258\n"
     ]
    },
    {
     "name": "stderr",
     "output_type": "stream",
     "text": [
      "R[write to console]: No AFIs were selected, so only chi-squared will be permuted.\n",
      "\n",
      "\n"
     ]
    },
    {
     "name": "stdout",
     "output_type": "stream",
     "text": [
      "CONFIG INVARIANT chisq p = 0.314\n",
      "METRIC INVARIANT NOT PASSED, chisq p = 0.002\n",
      "[1] \"      AFI.Difference p.value\"\n",
      "[1] \"chisq         35.509   0.002\"\n",
      "character(0)\n"
     ]
    },
    {
     "name": "stderr",
     "output_type": "stream",
     "text": [
      "R[write to console]: No AFIs were selected, so only chi-squared will be permuted.\n",
      "\n",
      "\n"
     ]
    },
    {
     "name": "stdout",
     "output_type": "stream",
     "text": [
      "SCALAR N/A\n",
      "STRICT N/A\n",
      "\n",
      "COMBINATIONS OF ITEMS: \n",
      "('hitop17', 'hitop114', 'hitop117', 'hitop124', 'hitop129', 'hitop204', 'hitop222', 'hitop236')\n",
      "social_anxiety =~hitop17 + hitop114 + hitop117 + hitop124 + hitop129 + hitop204 + hitop222 + hitop236\n"
     ]
    },
    {
     "name": "stderr",
     "output_type": "stream",
     "text": [
      "R[write to console]: No AFIs were selected, so only chi-squared will be permuted.\n",
      "\n",
      "\n"
     ]
    },
    {
     "name": "stdout",
     "output_type": "stream",
     "text": [
      "CONFIG chisq p = 0.002\n",
      "PASSED SECONDARY CRITERIA WITH CFI = 1.0 TLI = 1.0 RMSEA = 0.042\n",
      "METRIC INVARIANT NOT PASSED, chisq p = 0.002\n",
      "[1] \"      AFI.Difference p.value\"\n",
      "[1] \"chisq         32.749   0.002\"\n",
      "character(0)\n"
     ]
    },
    {
     "name": "stderr",
     "output_type": "stream",
     "text": [
      "R[write to console]: No AFIs were selected, so only chi-squared will be permuted.\n",
      "\n",
      "\n"
     ]
    },
    {
     "name": "stdout",
     "output_type": "stream",
     "text": [
      "SCALAR N/A\n",
      "STRICT N/A\n",
      "\n",
      "COMBINATIONS OF ITEMS: \n",
      "('hitop17', 'hitop114', 'hitop117', 'hitop124', 'hitop129', 'hitop204', 'hitop222', 'hitop258')\n",
      "social_anxiety =~hitop17 + hitop114 + hitop117 + hitop124 + hitop129 + hitop204 + hitop222 + hitop258\n"
     ]
    },
    {
     "name": "stderr",
     "output_type": "stream",
     "text": [
      "R[write to console]: No AFIs were selected, so only chi-squared will be permuted.\n",
      "\n",
      "\n"
     ]
    },
    {
     "name": "stdout",
     "output_type": "stream",
     "text": [
      "CONFIG chisq p = 0.038\n",
      "PASSED SECONDARY CRITERIA WITH CFI = 0.996 TLI = 0.995 RMSEA = 0.042\n",
      "METRIC INVARIANT NOT PASSED, chisq p = 0.012\n",
      "[1] \"      AFI.Difference p.value\"\n",
      "[1] \"chisq         29.378   0.012\"\n",
      "character(0)\n"
     ]
    },
    {
     "name": "stderr",
     "output_type": "stream",
     "text": [
      "R[write to console]: No AFIs were selected, so only chi-squared will be permuted.\n",
      "\n",
      "\n"
     ]
    },
    {
     "name": "stdout",
     "output_type": "stream",
     "text": [
      "SCALAR N/A\n",
      "STRICT N/A\n",
      "\n",
      "COMBINATIONS OF ITEMS: \n",
      "('hitop17', 'hitop114', 'hitop117', 'hitop124', 'hitop129', 'hitop204', 'hitop236', 'hitop258')\n",
      "social_anxiety =~hitop17 + hitop114 + hitop117 + hitop124 + hitop129 + hitop204 + hitop236 + hitop258\n"
     ]
    },
    {
     "name": "stderr",
     "output_type": "stream",
     "text": [
      "R[write to console]: No AFIs were selected, so only chi-squared will be permuted.\n",
      "\n",
      "\n"
     ]
    },
    {
     "name": "stdout",
     "output_type": "stream",
     "text": [
      "CONFIG chisq p = 0.012\n",
      "PASSED SECONDARY CRITERIA WITH CFI = 0.999 TLI = 0.999 RMSEA = 0.046\n"
     ]
    },
    {
     "name": "stderr",
     "output_type": "stream",
     "text": [
      "R[write to console]: No AFIs were selected, so only chi-squared will be permuted.\n",
      "\n",
      "\n"
     ]
    },
    {
     "name": "stdout",
     "output_type": "stream",
     "text": [
      "METRIC INVARIANT chisq p = 0.071\n",
      "SCALAR N/A\n",
      "STRICT N/A\n",
      "\n",
      "COMBINATIONS OF ITEMS: \n",
      "('hitop17', 'hitop114', 'hitop117', 'hitop124', 'hitop129', 'hitop222', 'hitop236', 'hitop258')\n",
      "social_anxiety =~hitop17 + hitop114 + hitop117 + hitop124 + hitop129 + hitop222 + hitop236 + hitop258\n"
     ]
    },
    {
     "name": "stderr",
     "output_type": "stream",
     "text": [
      "R[write to console]: No AFIs were selected, so only chi-squared will be permuted.\n",
      "\n",
      "\n"
     ]
    },
    {
     "name": "stdout",
     "output_type": "stream",
     "text": [
      "CONFIG chisq p = 0.01\n",
      "PASSED SECONDARY CRITERIA WITH CFI = 1.0 TLI = 1.0 RMSEA = 0.044\n",
      "METRIC INVARIANT NOT PASSED, chisq p = 0.003\n",
      "[1] \"      AFI.Difference p.value\"\n",
      "[1] \"chisq         32.677   0.003\"\n",
      "character(0)\n"
     ]
    },
    {
     "name": "stderr",
     "output_type": "stream",
     "text": [
      "R[write to console]: No AFIs were selected, so only chi-squared will be permuted.\n",
      "\n",
      "\n"
     ]
    },
    {
     "name": "stdout",
     "output_type": "stream",
     "text": [
      "SCALAR N/A\n",
      "STRICT N/A\n",
      "\n",
      "COMBINATIONS OF ITEMS: \n",
      "('hitop17', 'hitop114', 'hitop117', 'hitop124', 'hitop204', 'hitop222', 'hitop236', 'hitop258')\n",
      "social_anxiety =~hitop17 + hitop114 + hitop117 + hitop124 + hitop204 + hitop222 + hitop236 + hitop258\n"
     ]
    },
    {
     "name": "stderr",
     "output_type": "stream",
     "text": [
      "R[write to console]: No AFIs were selected, so only chi-squared will be permuted.\n",
      "\n",
      "\n"
     ]
    },
    {
     "name": "stdout",
     "output_type": "stream",
     "text": [
      "CONFIG chisq p = 0.003\n",
      "PASSED SECONDARY CRITERIA WITH CFI = 0.997 TLI = 0.996 RMSEA = 0.037\n",
      "METRIC INVARIANT NOT PASSED, chisq p = 0.005\n",
      "[1] \"      AFI.Difference p.value\"\n",
      "[1] \"chisq         29.767   0.005\"\n",
      "character(0)\n"
     ]
    },
    {
     "name": "stderr",
     "output_type": "stream",
     "text": [
      "R[write to console]: No AFIs were selected, so only chi-squared will be permuted.\n",
      "\n",
      "\n"
     ]
    },
    {
     "name": "stdout",
     "output_type": "stream",
     "text": [
      "SCALAR N/A\n",
      "STRICT N/A\n",
      "\n",
      "COMBINATIONS OF ITEMS: \n",
      "('hitop17', 'hitop114', 'hitop117', 'hitop129', 'hitop204', 'hitop222', 'hitop236', 'hitop258')\n",
      "social_anxiety =~hitop17 + hitop114 + hitop117 + hitop129 + hitop204 + hitop222 + hitop236 + hitop258\n"
     ]
    },
    {
     "name": "stderr",
     "output_type": "stream",
     "text": [
      "R[write to console]: No AFIs were selected, so only chi-squared will be permuted.\n",
      "\n",
      "\n"
     ]
    },
    {
     "name": "stdout",
     "output_type": "stream",
     "text": [
      "CONFIG chisq p = 0.017\n",
      "PASSED SECONDARY CRITERIA WITH CFI = 1.0 TLI = 1.001 RMSEA = 0.037\n",
      "METRIC INVARIANT NOT PASSED, chisq p = 0.003\n",
      "[1] \"      AFI.Difference p.value\"\n",
      "[1] \"chisq         32.885   0.003\"\n",
      "character(0)\n"
     ]
    },
    {
     "name": "stderr",
     "output_type": "stream",
     "text": [
      "R[write to console]: No AFIs were selected, so only chi-squared will be permuted.\n",
      "\n",
      "\n"
     ]
    },
    {
     "name": "stdout",
     "output_type": "stream",
     "text": [
      "SCALAR N/A\n",
      "STRICT N/A\n",
      "\n",
      "COMBINATIONS OF ITEMS: \n",
      "('hitop17', 'hitop114', 'hitop124', 'hitop129', 'hitop204', 'hitop222', 'hitop236', 'hitop258')\n",
      "social_anxiety =~hitop17 + hitop114 + hitop124 + hitop129 + hitop204 + hitop222 + hitop236 + hitop258\n"
     ]
    },
    {
     "name": "stderr",
     "output_type": "stream",
     "text": [
      "R[write to console]: No AFIs were selected, so only chi-squared will be permuted.\n",
      "\n",
      "\n"
     ]
    },
    {
     "name": "stdout",
     "output_type": "stream",
     "text": [
      "CONFIG INVARIANT chisq p = 0.43\n",
      "METRIC INVARIANT NOT PASSED, chisq p = 0.001\n",
      "[1] \"      AFI.Difference p.value\"\n",
      "[1] \"chisq         43.995   0.001\"\n",
      "[1] \"Parameter 'social_anxiety=~hitop236' may differ between Groups 'validation' and 'enriched'.\"\n"
     ]
    },
    {
     "name": "stderr",
     "output_type": "stream",
     "text": [
      "R[write to console]: No AFIs were selected, so only chi-squared will be permuted.\n",
      "\n",
      "\n"
     ]
    },
    {
     "name": "stdout",
     "output_type": "stream",
     "text": [
      "SCALAR N/A\n",
      "STRICT N/A\n",
      "\n",
      "COMBINATIONS OF ITEMS: \n",
      "('hitop17', 'hitop117', 'hitop124', 'hitop129', 'hitop204', 'hitop222', 'hitop236', 'hitop258')\n",
      "social_anxiety =~hitop17 + hitop117 + hitop124 + hitop129 + hitop204 + hitop222 + hitop236 + hitop258\n"
     ]
    },
    {
     "name": "stderr",
     "output_type": "stream",
     "text": [
      "R[write to console]: No AFIs were selected, so only chi-squared will be permuted.\n",
      "\n",
      "\n"
     ]
    },
    {
     "name": "stdout",
     "output_type": "stream",
     "text": [
      "CONFIG INVARIANT chisq p = 0.081\n",
      "METRIC INVARIANT NOT PASSED, chisq p = 0.001\n",
      "[1] \"      AFI.Difference p.value\"\n",
      "[1] \"chisq         36.359   0.001\"\n",
      "[1] \"Parameter 'social_anxiety=~hitop222' may differ between Groups 'validation' and 'enriched'.\"\n"
     ]
    },
    {
     "name": "stderr",
     "output_type": "stream",
     "text": [
      "R[write to console]: No AFIs were selected, so only chi-squared will be permuted.\n",
      "\n",
      "\n"
     ]
    },
    {
     "name": "stdout",
     "output_type": "stream",
     "text": [
      "SCALAR N/A\n",
      "STRICT N/A\n",
      "\n",
      "COMBINATIONS OF ITEMS: \n",
      "('hitop114', 'hitop117', 'hitop124', 'hitop129', 'hitop204', 'hitop222', 'hitop236', 'hitop258')\n",
      "social_anxiety =~hitop114 + hitop117 + hitop124 + hitop129 + hitop204 + hitop222 + hitop236 + hitop258\n"
     ]
    },
    {
     "name": "stderr",
     "output_type": "stream",
     "text": [
      "R[write to console]: No AFIs were selected, so only chi-squared will be permuted.\n",
      "\n",
      "\n"
     ]
    },
    {
     "name": "stdout",
     "output_type": "stream",
     "text": [
      "CONFIG chisq p = 0.049\n",
      "PASSED SECONDARY CRITERIA WITH CFI = 0.997 TLI = 0.995 RMSEA = 0.04\n",
      "METRIC INVARIANT chisq p = 0.078\n",
      "SCALAR N/A\n",
      "STRICT N/A\n",
      "DONE\n"
     ]
    },
    {
     "data": {
      "text/plain": [
       "0"
      ]
     },
     "execution_count": 64,
     "metadata": {},
     "output_type": "execute_result"
    }
   ],
   "source": [
    "# let's do stubborn ones\n",
    "run_specific_cfa3(mydata_val_enriched, \n",
    "                 whichcolumn = 'valid_enriched', \n",
    "                 whichscale = 'social_anxiety', \n",
    "                 whichcfa = 'metric',\n",
    "                 howmanyitems = 8)"
   ]
  },
  {
   "cell_type": "code",
   "execution_count": null,
   "id": "a6395b80-be8a-4f1b-bc90-fc83f33736ec",
   "metadata": {},
   "outputs": [],
   "source": [
    "# let's do stubborn ones\n",
    "run_specific_cfa3(mydata_val_enriched, \n",
    "                 whichcolumn = 'valid_enriched', \n",
    "                 whichscale = 'anhedonic_depression', \n",
    "                 whichcfa = 'metric',\n",
    "                 howmanyitems = 7)"
   ]
  },
  {
   "cell_type": "code",
   "execution_count": 63,
   "id": "8360e775-0e0c-497b-8846-b0ddaa1b0b1b",
   "metadata": {},
   "outputs": [
    {
     "name": "stdout",
     "output_type": "stream",
     "text": [
      "   hitop1 :    I felt shy around other people.\n",
      "   hitop17 :    I was uncomfortable meeting new people.\n",
      "   hitop114 :    I had difficulty making eye contact with others.\n",
      "   hitop117 :    I felt socially awkward.\n",
      "   hitop124 :    I avoided situations in which others were likely to watch me.\n",
      "   hitop129 :    I avoided performing or giving a talk in front of others.\n",
      "   hitop204 :    I felt uncomfortable being the center of attention.\n",
      "   hitop222 :    I was uncomfortable entering a room when others already were present.\n",
      "   hitop236 :    I felt self-conscious around others.\n",
      "   hitop258 :    I found it difficult to speak up in front of others.\n"
     ]
    }
   ],
   "source": [
    "# social_anxiety =~hitop1 + hitop17 + hitop114 + hitop117 + hitop124 + hitop129 + hitop204 + hitop222 + hitop236 + hitop258\n",
    "\n",
    "items_to_check = ['1', '17', '114', '117', '124', '129', '204', '222', '236', '258']\n",
    "for i in items_to_check:\n",
    "    a = repr(item_lookup.loc[item_lookup['htid'] == 'hitop'+i]['htid']).split(' ', 1)[1]\n",
    "    aa = str(a).split('\\n')[0]\n",
    "    b = repr(item_lookup.loc[item_lookup['htid'] == 'hitop'+i]['item']).split(' ', 1)[1]\n",
    "    bb = str(b).split('\\n')[0]\n",
    "    print(aa+' : '+bb)"
   ]
  },
  {
   "cell_type": "markdown",
   "id": "c01ef352-ee5e-42c0-9140-3a8c972eaec2",
   "metadata": {},
   "source": [
    "# PLOTTING GRAPHS"
   ]
  },
  {
   "cell_type": "code",
   "execution_count": null,
   "id": "55577048-ae4a-410b-a4db-2db9f0346b76",
   "metadata": {},
   "outputs": [],
   "source": []
  }
 ],
 "metadata": {
  "kernelspec": {
   "display_name": "Python 3 (ipykernel)",
   "language": "python",
   "name": "python3"
  },
  "language_info": {
   "codemirror_mode": {
    "name": "ipython",
    "version": 3
   },
   "file_extension": ".py",
   "mimetype": "text/x-python",
   "name": "python",
   "nbconvert_exporter": "python",
   "pygments_lexer": "ipython3",
   "version": "3.9.19"
  }
 },
 "nbformat": 4,
 "nbformat_minor": 5
}
